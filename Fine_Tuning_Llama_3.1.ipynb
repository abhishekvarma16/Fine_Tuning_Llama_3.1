{
  "cells": [
    {
      "cell_type": "markdown",
      "metadata": {
        "id": "jedYKuEmy62r"
      },
      "source": [
        "# Fine-Tuning Llama 3.1 on IMDB Movie Review Dataset\n",
        "\n",
        "# Introduction\n",
        "## This notebook demonstrates fine-tuning the Llama 3.1 model for sentiment analysis on the IMDB dataset.\n",
        "\n",
        "# GPU/CPU Requirement\n",
        "## This notebook can run only on GPU."
      ]
    },
    {
      "cell_type": "markdown",
      "metadata": {
        "id": "wuz3E9f5zV0R"
      },
      "source": [
        "# Install required packages"
      ]
    },
    {
      "cell_type": "code",
      "execution_count": null,
      "metadata": {
        "colab": {
          "base_uri": "https://localhost:8080/"
        },
        "id": "KDq9SYnyLjI6",
        "outputId": "a4fac0d8-f949-4518-ce91-378fe43a1f69"
      },
      "outputs": [
        {
          "output_type": "stream",
          "name": "stdout",
          "text": [
            "Requirement already satisfied: unsloth in /usr/local/lib/python3.10/dist-packages (2024.11.10)\n",
            "Requirement already satisfied: xformers==0.0.28.post2 in /usr/local/lib/python3.10/dist-packages (0.0.28.post2)\n",
            "Requirement already satisfied: numpy in /usr/local/lib/python3.10/dist-packages (from xformers==0.0.28.post2) (1.26.4)\n",
            "Requirement already satisfied: torch==2.5.0 in /usr/local/lib/python3.10/dist-packages (from xformers==0.0.28.post2) (2.5.0)\n",
            "Requirement already satisfied: filelock in /usr/local/lib/python3.10/dist-packages (from torch==2.5.0->xformers==0.0.28.post2) (3.16.1)\n",
            "Requirement already satisfied: typing-extensions>=4.8.0 in /usr/local/lib/python3.10/dist-packages (from torch==2.5.0->xformers==0.0.28.post2) (4.12.2)\n",
            "Requirement already satisfied: networkx in /usr/local/lib/python3.10/dist-packages (from torch==2.5.0->xformers==0.0.28.post2) (3.4.2)\n",
            "Requirement already satisfied: jinja2 in /usr/local/lib/python3.10/dist-packages (from torch==2.5.0->xformers==0.0.28.post2) (3.1.4)\n",
            "Requirement already satisfied: fsspec in /usr/local/lib/python3.10/dist-packages (from torch==2.5.0->xformers==0.0.28.post2) (2024.9.0)\n",
            "Requirement already satisfied: nvidia-cuda-nvrtc-cu12==12.4.127 in /usr/local/lib/python3.10/dist-packages (from torch==2.5.0->xformers==0.0.28.post2) (12.4.127)\n",
            "Requirement already satisfied: nvidia-cuda-runtime-cu12==12.4.127 in /usr/local/lib/python3.10/dist-packages (from torch==2.5.0->xformers==0.0.28.post2) (12.4.127)\n",
            "Requirement already satisfied: nvidia-cuda-cupti-cu12==12.4.127 in /usr/local/lib/python3.10/dist-packages (from torch==2.5.0->xformers==0.0.28.post2) (12.4.127)\n",
            "Requirement already satisfied: nvidia-cudnn-cu12==9.1.0.70 in /usr/local/lib/python3.10/dist-packages (from torch==2.5.0->xformers==0.0.28.post2) (9.1.0.70)\n",
            "Requirement already satisfied: nvidia-cublas-cu12==12.4.5.8 in /usr/local/lib/python3.10/dist-packages (from torch==2.5.0->xformers==0.0.28.post2) (12.4.5.8)\n",
            "Requirement already satisfied: nvidia-cufft-cu12==11.2.1.3 in /usr/local/lib/python3.10/dist-packages (from torch==2.5.0->xformers==0.0.28.post2) (11.2.1.3)\n",
            "Requirement already satisfied: nvidia-curand-cu12==10.3.5.147 in /usr/local/lib/python3.10/dist-packages (from torch==2.5.0->xformers==0.0.28.post2) (10.3.5.147)\n",
            "Requirement already satisfied: nvidia-cusolver-cu12==11.6.1.9 in /usr/local/lib/python3.10/dist-packages (from torch==2.5.0->xformers==0.0.28.post2) (11.6.1.9)\n",
            "Requirement already satisfied: nvidia-cusparse-cu12==12.3.1.170 in /usr/local/lib/python3.10/dist-packages (from torch==2.5.0->xformers==0.0.28.post2) (12.3.1.170)\n",
            "Requirement already satisfied: nvidia-nccl-cu12==2.21.5 in /usr/local/lib/python3.10/dist-packages (from torch==2.5.0->xformers==0.0.28.post2) (2.21.5)\n",
            "Requirement already satisfied: nvidia-nvtx-cu12==12.4.127 in /usr/local/lib/python3.10/dist-packages (from torch==2.5.0->xformers==0.0.28.post2) (12.4.127)\n",
            "Requirement already satisfied: nvidia-nvjitlink-cu12==12.4.127 in /usr/local/lib/python3.10/dist-packages (from torch==2.5.0->xformers==0.0.28.post2) (12.4.127)\n",
            "Requirement already satisfied: triton==3.1.0 in /usr/local/lib/python3.10/dist-packages (from torch==2.5.0->xformers==0.0.28.post2) (3.1.0)\n",
            "Requirement already satisfied: sympy==1.13.1 in /usr/local/lib/python3.10/dist-packages (from torch==2.5.0->xformers==0.0.28.post2) (1.13.1)\n",
            "Requirement already satisfied: mpmath<1.4,>=1.1.0 in /usr/local/lib/python3.10/dist-packages (from sympy==1.13.1->torch==2.5.0->xformers==0.0.28.post2) (1.3.0)\n",
            "Requirement already satisfied: MarkupSafe>=2.0 in /usr/local/lib/python3.10/dist-packages (from jinja2->torch==2.5.0->xformers==0.0.28.post2) (3.0.2)\n",
            "Found existing installation: unsloth 2024.11.10\n",
            "Uninstalling unsloth-2024.11.10:\n",
            "  Successfully uninstalled unsloth-2024.11.10\n",
            "Collecting unsloth@ git+https://github.com/unslothai/unsloth.git (from unsloth[colab-new]@ git+https://github.com/unslothai/unsloth.git)\n",
            "  Cloning https://github.com/unslothai/unsloth.git to /tmp/pip-install-1qtpc02b/unsloth_4aa18756eecd46939d56733e92ebd51f\n",
            "  Running command git clone --filter=blob:none --quiet https://github.com/unslothai/unsloth.git /tmp/pip-install-1qtpc02b/unsloth_4aa18756eecd46939d56733e92ebd51f\n",
            "  Resolved https://github.com/unslothai/unsloth.git to commit 8558bc92b06f9128499484ef737fa71b966ffc23\n",
            "  Installing build dependencies ... \u001b[?25l\u001b[?25hdone\n",
            "  Getting requirements to build wheel ... \u001b[?25l\u001b[?25hdone\n",
            "  Preparing metadata (pyproject.toml) ... \u001b[?25l\u001b[?25hdone\n",
            "Requirement already satisfied: unsloth_zoo>=2024.11.8 in /usr/local/lib/python3.10/dist-packages (from unsloth@ git+https://github.com/unslothai/unsloth.git->unsloth[colab-new]@ git+https://github.com/unslothai/unsloth.git) (2024.11.8)\n",
            "Requirement already satisfied: packaging in /usr/local/lib/python3.10/dist-packages (from unsloth@ git+https://github.com/unslothai/unsloth.git->unsloth[colab-new]@ git+https://github.com/unslothai/unsloth.git) (24.2)\n",
            "Requirement already satisfied: tyro in /usr/local/lib/python3.10/dist-packages (from unsloth@ git+https://github.com/unslothai/unsloth.git->unsloth[colab-new]@ git+https://github.com/unslothai/unsloth.git) (0.9.2)\n",
            "Requirement already satisfied: transformers>=4.46.1 in /usr/local/lib/python3.10/dist-packages (from unsloth@ git+https://github.com/unslothai/unsloth.git->unsloth[colab-new]@ git+https://github.com/unslothai/unsloth.git) (4.46.2)\n",
            "Requirement already satisfied: datasets>=2.16.0 in /usr/local/lib/python3.10/dist-packages (from unsloth@ git+https://github.com/unslothai/unsloth.git->unsloth[colab-new]@ git+https://github.com/unslothai/unsloth.git) (3.1.0)\n",
            "Requirement already satisfied: sentencepiece>=0.2.0 in /usr/local/lib/python3.10/dist-packages (from unsloth@ git+https://github.com/unslothai/unsloth.git->unsloth[colab-new]@ git+https://github.com/unslothai/unsloth.git) (0.2.0)\n",
            "Requirement already satisfied: tqdm in /usr/local/lib/python3.10/dist-packages (from unsloth@ git+https://github.com/unslothai/unsloth.git->unsloth[colab-new]@ git+https://github.com/unslothai/unsloth.git) (4.66.6)\n",
            "Requirement already satisfied: psutil in /usr/local/lib/python3.10/dist-packages (from unsloth@ git+https://github.com/unslothai/unsloth.git->unsloth[colab-new]@ git+https://github.com/unslothai/unsloth.git) (5.9.5)\n",
            "Requirement already satisfied: wheel>=0.42.0 in /usr/local/lib/python3.10/dist-packages (from unsloth@ git+https://github.com/unslothai/unsloth.git->unsloth[colab-new]@ git+https://github.com/unslothai/unsloth.git) (0.45.0)\n",
            "Requirement already satisfied: numpy in /usr/local/lib/python3.10/dist-packages (from unsloth@ git+https://github.com/unslothai/unsloth.git->unsloth[colab-new]@ git+https://github.com/unslothai/unsloth.git) (1.26.4)\n",
            "Requirement already satisfied: protobuf<4.0.0 in /usr/local/lib/python3.10/dist-packages (from unsloth@ git+https://github.com/unslothai/unsloth.git->unsloth[colab-new]@ git+https://github.com/unslothai/unsloth.git) (3.20.3)\n",
            "Requirement already satisfied: huggingface_hub in /usr/local/lib/python3.10/dist-packages (from unsloth@ git+https://github.com/unslothai/unsloth.git->unsloth[colab-new]@ git+https://github.com/unslothai/unsloth.git) (0.26.2)\n",
            "Requirement already satisfied: hf_transfer in /usr/local/lib/python3.10/dist-packages (from unsloth@ git+https://github.com/unslothai/unsloth.git->unsloth[colab-new]@ git+https://github.com/unslothai/unsloth.git) (0.1.8)\n",
            "Requirement already satisfied: bitsandbytes>=0.43.3 in /usr/local/lib/python3.10/dist-packages (from unsloth@ git+https://github.com/unslothai/unsloth.git->unsloth[colab-new]@ git+https://github.com/unslothai/unsloth.git) (0.44.1)\n",
            "Requirement already satisfied: torch in /usr/local/lib/python3.10/dist-packages (from bitsandbytes>=0.43.3->unsloth@ git+https://github.com/unslothai/unsloth.git->unsloth[colab-new]@ git+https://github.com/unslothai/unsloth.git) (2.5.0)\n",
            "Requirement already satisfied: filelock in /usr/local/lib/python3.10/dist-packages (from datasets>=2.16.0->unsloth@ git+https://github.com/unslothai/unsloth.git->unsloth[colab-new]@ git+https://github.com/unslothai/unsloth.git) (3.16.1)\n",
            "Requirement already satisfied: pyarrow>=15.0.0 in /usr/local/lib/python3.10/dist-packages (from datasets>=2.16.0->unsloth@ git+https://github.com/unslothai/unsloth.git->unsloth[colab-new]@ git+https://github.com/unslothai/unsloth.git) (17.0.0)\n",
            "Requirement already satisfied: dill<0.3.9,>=0.3.0 in /usr/local/lib/python3.10/dist-packages (from datasets>=2.16.0->unsloth@ git+https://github.com/unslothai/unsloth.git->unsloth[colab-new]@ git+https://github.com/unslothai/unsloth.git) (0.3.8)\n",
            "Requirement already satisfied: pandas in /usr/local/lib/python3.10/dist-packages (from datasets>=2.16.0->unsloth@ git+https://github.com/unslothai/unsloth.git->unsloth[colab-new]@ git+https://github.com/unslothai/unsloth.git) (2.2.2)\n",
            "Requirement already satisfied: requests>=2.32.2 in /usr/local/lib/python3.10/dist-packages (from datasets>=2.16.0->unsloth@ git+https://github.com/unslothai/unsloth.git->unsloth[colab-new]@ git+https://github.com/unslothai/unsloth.git) (2.32.3)\n",
            "Requirement already satisfied: xxhash in /usr/local/lib/python3.10/dist-packages (from datasets>=2.16.0->unsloth@ git+https://github.com/unslothai/unsloth.git->unsloth[colab-new]@ git+https://github.com/unslothai/unsloth.git) (3.5.0)\n",
            "Requirement already satisfied: multiprocess<0.70.17 in /usr/local/lib/python3.10/dist-packages (from datasets>=2.16.0->unsloth@ git+https://github.com/unslothai/unsloth.git->unsloth[colab-new]@ git+https://github.com/unslothai/unsloth.git) (0.70.16)\n",
            "Requirement already satisfied: fsspec<=2024.9.0,>=2023.1.0 in /usr/local/lib/python3.10/dist-packages (from fsspec[http]<=2024.9.0,>=2023.1.0->datasets>=2.16.0->unsloth@ git+https://github.com/unslothai/unsloth.git->unsloth[colab-new]@ git+https://github.com/unslothai/unsloth.git) (2024.9.0)\n",
            "Requirement already satisfied: aiohttp in /usr/local/lib/python3.10/dist-packages (from datasets>=2.16.0->unsloth@ git+https://github.com/unslothai/unsloth.git->unsloth[colab-new]@ git+https://github.com/unslothai/unsloth.git) (3.11.2)\n",
            "Requirement already satisfied: pyyaml>=5.1 in /usr/local/lib/python3.10/dist-packages (from datasets>=2.16.0->unsloth@ git+https://github.com/unslothai/unsloth.git->unsloth[colab-new]@ git+https://github.com/unslothai/unsloth.git) (6.0.2)\n",
            "Requirement already satisfied: typing-extensions>=3.7.4.3 in /usr/local/lib/python3.10/dist-packages (from huggingface_hub->unsloth@ git+https://github.com/unslothai/unsloth.git->unsloth[colab-new]@ git+https://github.com/unslothai/unsloth.git) (4.12.2)\n",
            "Requirement already satisfied: regex!=2019.12.17 in /usr/local/lib/python3.10/dist-packages (from transformers>=4.46.1->unsloth@ git+https://github.com/unslothai/unsloth.git->unsloth[colab-new]@ git+https://github.com/unslothai/unsloth.git) (2024.9.11)\n",
            "Requirement already satisfied: safetensors>=0.4.1 in /usr/local/lib/python3.10/dist-packages (from transformers>=4.46.1->unsloth@ git+https://github.com/unslothai/unsloth.git->unsloth[colab-new]@ git+https://github.com/unslothai/unsloth.git) (0.4.5)\n",
            "Requirement already satisfied: tokenizers<0.21,>=0.20 in /usr/local/lib/python3.10/dist-packages (from transformers>=4.46.1->unsloth@ git+https://github.com/unslothai/unsloth.git->unsloth[colab-new]@ git+https://github.com/unslothai/unsloth.git) (0.20.3)\n",
            "Requirement already satisfied: triton in /usr/local/lib/python3.10/dist-packages (from unsloth_zoo>=2024.11.8->unsloth@ git+https://github.com/unslothai/unsloth.git->unsloth[colab-new]@ git+https://github.com/unslothai/unsloth.git) (3.1.0)\n",
            "Requirement already satisfied: accelerate>=0.34.1 in /usr/local/lib/python3.10/dist-packages (from unsloth_zoo>=2024.11.8->unsloth@ git+https://github.com/unslothai/unsloth.git->unsloth[colab-new]@ git+https://github.com/unslothai/unsloth.git) (1.1.1)\n",
            "Requirement already satisfied: trl!=0.9.0,!=0.9.1,!=0.9.2,!=0.9.3,>=0.7.9 in /usr/local/lib/python3.10/dist-packages (from unsloth_zoo>=2024.11.8->unsloth@ git+https://github.com/unslothai/unsloth.git->unsloth[colab-new]@ git+https://github.com/unslothai/unsloth.git) (0.12.1)\n",
            "Requirement already satisfied: peft!=0.11.0,>=0.7.1 in /usr/local/lib/python3.10/dist-packages (from unsloth_zoo>=2024.11.8->unsloth@ git+https://github.com/unslothai/unsloth.git->unsloth[colab-new]@ git+https://github.com/unslothai/unsloth.git) (0.13.2)\n",
            "Requirement already satisfied: cut_cross_entropy in /usr/local/lib/python3.10/dist-packages (from unsloth_zoo>=2024.11.8->unsloth@ git+https://github.com/unslothai/unsloth.git->unsloth[colab-new]@ git+https://github.com/unslothai/unsloth.git) (24.11.4)\n",
            "Requirement already satisfied: pillow in /usr/local/lib/python3.10/dist-packages (from unsloth_zoo>=2024.11.8->unsloth@ git+https://github.com/unslothai/unsloth.git->unsloth[colab-new]@ git+https://github.com/unslothai/unsloth.git) (11.0.0)\n",
            "Requirement already satisfied: docstring-parser>=0.16 in /usr/local/lib/python3.10/dist-packages (from tyro->unsloth@ git+https://github.com/unslothai/unsloth.git->unsloth[colab-new]@ git+https://github.com/unslothai/unsloth.git) (0.16)\n",
            "Requirement already satisfied: rich>=11.1.0 in /usr/local/lib/python3.10/dist-packages (from tyro->unsloth@ git+https://github.com/unslothai/unsloth.git->unsloth[colab-new]@ git+https://github.com/unslothai/unsloth.git) (13.9.4)\n",
            "Requirement already satisfied: shtab>=1.5.6 in /usr/local/lib/python3.10/dist-packages (from tyro->unsloth@ git+https://github.com/unslothai/unsloth.git->unsloth[colab-new]@ git+https://github.com/unslothai/unsloth.git) (1.7.1)\n",
            "Requirement already satisfied: typeguard>=4.0.0 in /usr/local/lib/python3.10/dist-packages (from tyro->unsloth@ git+https://github.com/unslothai/unsloth.git->unsloth[colab-new]@ git+https://github.com/unslothai/unsloth.git) (4.4.1)\n",
            "Requirement already satisfied: aiohappyeyeballs>=2.3.0 in /usr/local/lib/python3.10/dist-packages (from aiohttp->datasets>=2.16.0->unsloth@ git+https://github.com/unslothai/unsloth.git->unsloth[colab-new]@ git+https://github.com/unslothai/unsloth.git) (2.4.3)\n",
            "Requirement already satisfied: aiosignal>=1.1.2 in /usr/local/lib/python3.10/dist-packages (from aiohttp->datasets>=2.16.0->unsloth@ git+https://github.com/unslothai/unsloth.git->unsloth[colab-new]@ git+https://github.com/unslothai/unsloth.git) (1.3.1)\n",
            "Requirement already satisfied: attrs>=17.3.0 in /usr/local/lib/python3.10/dist-packages (from aiohttp->datasets>=2.16.0->unsloth@ git+https://github.com/unslothai/unsloth.git->unsloth[colab-new]@ git+https://github.com/unslothai/unsloth.git) (24.2.0)\n",
            "Requirement already satisfied: frozenlist>=1.1.1 in /usr/local/lib/python3.10/dist-packages (from aiohttp->datasets>=2.16.0->unsloth@ git+https://github.com/unslothai/unsloth.git->unsloth[colab-new]@ git+https://github.com/unslothai/unsloth.git) (1.5.0)\n",
            "Requirement already satisfied: multidict<7.0,>=4.5 in /usr/local/lib/python3.10/dist-packages (from aiohttp->datasets>=2.16.0->unsloth@ git+https://github.com/unslothai/unsloth.git->unsloth[colab-new]@ git+https://github.com/unslothai/unsloth.git) (6.1.0)\n",
            "Requirement already satisfied: propcache>=0.2.0 in /usr/local/lib/python3.10/dist-packages (from aiohttp->datasets>=2.16.0->unsloth@ git+https://github.com/unslothai/unsloth.git->unsloth[colab-new]@ git+https://github.com/unslothai/unsloth.git) (0.2.0)\n",
            "Requirement already satisfied: yarl<2.0,>=1.17.0 in /usr/local/lib/python3.10/dist-packages (from aiohttp->datasets>=2.16.0->unsloth@ git+https://github.com/unslothai/unsloth.git->unsloth[colab-new]@ git+https://github.com/unslothai/unsloth.git) (1.17.2)\n",
            "Requirement already satisfied: async-timeout<6.0,>=4.0 in /usr/local/lib/python3.10/dist-packages (from aiohttp->datasets>=2.16.0->unsloth@ git+https://github.com/unslothai/unsloth.git->unsloth[colab-new]@ git+https://github.com/unslothai/unsloth.git) (4.0.3)\n",
            "Requirement already satisfied: charset-normalizer<4,>=2 in /usr/local/lib/python3.10/dist-packages (from requests>=2.32.2->datasets>=2.16.0->unsloth@ git+https://github.com/unslothai/unsloth.git->unsloth[colab-new]@ git+https://github.com/unslothai/unsloth.git) (3.4.0)\n",
            "Requirement already satisfied: idna<4,>=2.5 in /usr/local/lib/python3.10/dist-packages (from requests>=2.32.2->datasets>=2.16.0->unsloth@ git+https://github.com/unslothai/unsloth.git->unsloth[colab-new]@ git+https://github.com/unslothai/unsloth.git) (3.10)\n",
            "Requirement already satisfied: urllib3<3,>=1.21.1 in /usr/local/lib/python3.10/dist-packages (from requests>=2.32.2->datasets>=2.16.0->unsloth@ git+https://github.com/unslothai/unsloth.git->unsloth[colab-new]@ git+https://github.com/unslothai/unsloth.git) (2.2.3)\n",
            "Requirement already satisfied: certifi>=2017.4.17 in /usr/local/lib/python3.10/dist-packages (from requests>=2.32.2->datasets>=2.16.0->unsloth@ git+https://github.com/unslothai/unsloth.git->unsloth[colab-new]@ git+https://github.com/unslothai/unsloth.git) (2024.8.30)\n",
            "Requirement already satisfied: markdown-it-py>=2.2.0 in /usr/local/lib/python3.10/dist-packages (from rich>=11.1.0->tyro->unsloth@ git+https://github.com/unslothai/unsloth.git->unsloth[colab-new]@ git+https://github.com/unslothai/unsloth.git) (3.0.0)\n",
            "Requirement already satisfied: pygments<3.0.0,>=2.13.0 in /usr/local/lib/python3.10/dist-packages (from rich>=11.1.0->tyro->unsloth@ git+https://github.com/unslothai/unsloth.git->unsloth[colab-new]@ git+https://github.com/unslothai/unsloth.git) (2.18.0)\n",
            "Requirement already satisfied: networkx in /usr/local/lib/python3.10/dist-packages (from torch->bitsandbytes>=0.43.3->unsloth@ git+https://github.com/unslothai/unsloth.git->unsloth[colab-new]@ git+https://github.com/unslothai/unsloth.git) (3.4.2)\n",
            "Requirement already satisfied: jinja2 in /usr/local/lib/python3.10/dist-packages (from torch->bitsandbytes>=0.43.3->unsloth@ git+https://github.com/unslothai/unsloth.git->unsloth[colab-new]@ git+https://github.com/unslothai/unsloth.git) (3.1.4)\n",
            "Requirement already satisfied: nvidia-cuda-nvrtc-cu12==12.4.127 in /usr/local/lib/python3.10/dist-packages (from torch->bitsandbytes>=0.43.3->unsloth@ git+https://github.com/unslothai/unsloth.git->unsloth[colab-new]@ git+https://github.com/unslothai/unsloth.git) (12.4.127)\n",
            "Requirement already satisfied: nvidia-cuda-runtime-cu12==12.4.127 in /usr/local/lib/python3.10/dist-packages (from torch->bitsandbytes>=0.43.3->unsloth@ git+https://github.com/unslothai/unsloth.git->unsloth[colab-new]@ git+https://github.com/unslothai/unsloth.git) (12.4.127)\n",
            "Requirement already satisfied: nvidia-cuda-cupti-cu12==12.4.127 in /usr/local/lib/python3.10/dist-packages (from torch->bitsandbytes>=0.43.3->unsloth@ git+https://github.com/unslothai/unsloth.git->unsloth[colab-new]@ git+https://github.com/unslothai/unsloth.git) (12.4.127)\n",
            "Requirement already satisfied: nvidia-cudnn-cu12==9.1.0.70 in /usr/local/lib/python3.10/dist-packages (from torch->bitsandbytes>=0.43.3->unsloth@ git+https://github.com/unslothai/unsloth.git->unsloth[colab-new]@ git+https://github.com/unslothai/unsloth.git) (9.1.0.70)\n",
            "Requirement already satisfied: nvidia-cublas-cu12==12.4.5.8 in /usr/local/lib/python3.10/dist-packages (from torch->bitsandbytes>=0.43.3->unsloth@ git+https://github.com/unslothai/unsloth.git->unsloth[colab-new]@ git+https://github.com/unslothai/unsloth.git) (12.4.5.8)\n",
            "Requirement already satisfied: nvidia-cufft-cu12==11.2.1.3 in /usr/local/lib/python3.10/dist-packages (from torch->bitsandbytes>=0.43.3->unsloth@ git+https://github.com/unslothai/unsloth.git->unsloth[colab-new]@ git+https://github.com/unslothai/unsloth.git) (11.2.1.3)\n",
            "Requirement already satisfied: nvidia-curand-cu12==10.3.5.147 in /usr/local/lib/python3.10/dist-packages (from torch->bitsandbytes>=0.43.3->unsloth@ git+https://github.com/unslothai/unsloth.git->unsloth[colab-new]@ git+https://github.com/unslothai/unsloth.git) (10.3.5.147)\n",
            "Requirement already satisfied: nvidia-cusolver-cu12==11.6.1.9 in /usr/local/lib/python3.10/dist-packages (from torch->bitsandbytes>=0.43.3->unsloth@ git+https://github.com/unslothai/unsloth.git->unsloth[colab-new]@ git+https://github.com/unslothai/unsloth.git) (11.6.1.9)\n",
            "Requirement already satisfied: nvidia-cusparse-cu12==12.3.1.170 in /usr/local/lib/python3.10/dist-packages (from torch->bitsandbytes>=0.43.3->unsloth@ git+https://github.com/unslothai/unsloth.git->unsloth[colab-new]@ git+https://github.com/unslothai/unsloth.git) (12.3.1.170)\n",
            "Requirement already satisfied: nvidia-nccl-cu12==2.21.5 in /usr/local/lib/python3.10/dist-packages (from torch->bitsandbytes>=0.43.3->unsloth@ git+https://github.com/unslothai/unsloth.git->unsloth[colab-new]@ git+https://github.com/unslothai/unsloth.git) (2.21.5)\n",
            "Requirement already satisfied: nvidia-nvtx-cu12==12.4.127 in /usr/local/lib/python3.10/dist-packages (from torch->bitsandbytes>=0.43.3->unsloth@ git+https://github.com/unslothai/unsloth.git->unsloth[colab-new]@ git+https://github.com/unslothai/unsloth.git) (12.4.127)\n",
            "Requirement already satisfied: nvidia-nvjitlink-cu12==12.4.127 in /usr/local/lib/python3.10/dist-packages (from torch->bitsandbytes>=0.43.3->unsloth@ git+https://github.com/unslothai/unsloth.git->unsloth[colab-new]@ git+https://github.com/unslothai/unsloth.git) (12.4.127)\n",
            "Requirement already satisfied: sympy==1.13.1 in /usr/local/lib/python3.10/dist-packages (from torch->bitsandbytes>=0.43.3->unsloth@ git+https://github.com/unslothai/unsloth.git->unsloth[colab-new]@ git+https://github.com/unslothai/unsloth.git) (1.13.1)\n",
            "Requirement already satisfied: mpmath<1.4,>=1.1.0 in /usr/local/lib/python3.10/dist-packages (from sympy==1.13.1->torch->bitsandbytes>=0.43.3->unsloth@ git+https://github.com/unslothai/unsloth.git->unsloth[colab-new]@ git+https://github.com/unslothai/unsloth.git) (1.3.0)\n",
            "Requirement already satisfied: python-dateutil>=2.8.2 in /usr/local/lib/python3.10/dist-packages (from pandas->datasets>=2.16.0->unsloth@ git+https://github.com/unslothai/unsloth.git->unsloth[colab-new]@ git+https://github.com/unslothai/unsloth.git) (2.8.2)\n",
            "Requirement already satisfied: pytz>=2020.1 in /usr/local/lib/python3.10/dist-packages (from pandas->datasets>=2.16.0->unsloth@ git+https://github.com/unslothai/unsloth.git->unsloth[colab-new]@ git+https://github.com/unslothai/unsloth.git) (2024.2)\n",
            "Requirement already satisfied: tzdata>=2022.7 in /usr/local/lib/python3.10/dist-packages (from pandas->datasets>=2.16.0->unsloth@ git+https://github.com/unslothai/unsloth.git->unsloth[colab-new]@ git+https://github.com/unslothai/unsloth.git) (2024.2)\n",
            "Requirement already satisfied: mdurl~=0.1 in /usr/local/lib/python3.10/dist-packages (from markdown-it-py>=2.2.0->rich>=11.1.0->tyro->unsloth@ git+https://github.com/unslothai/unsloth.git->unsloth[colab-new]@ git+https://github.com/unslothai/unsloth.git) (0.1.2)\n",
            "Requirement already satisfied: six>=1.5 in /usr/local/lib/python3.10/dist-packages (from python-dateutil>=2.8.2->pandas->datasets>=2.16.0->unsloth@ git+https://github.com/unslothai/unsloth.git->unsloth[colab-new]@ git+https://github.com/unslothai/unsloth.git) (1.16.0)\n",
            "Requirement already satisfied: MarkupSafe>=2.0 in /usr/local/lib/python3.10/dist-packages (from jinja2->torch->bitsandbytes>=0.43.3->unsloth@ git+https://github.com/unslothai/unsloth.git->unsloth[colab-new]@ git+https://github.com/unslothai/unsloth.git) (3.0.2)\n",
            "Building wheels for collected packages: unsloth\n",
            "  Building wheel for unsloth (pyproject.toml) ... \u001b[?25l\u001b[?25hdone\n",
            "  Created wheel for unsloth: filename=unsloth-2024.11.10-py3-none-any.whl size=166794 sha256=a04178e4cf413bc603a3220764f92c444161a6339b324c1e2b4663cc6147192e\n",
            "  Stored in directory: /tmp/pip-ephem-wheel-cache-_2bbmj92/wheels/ed/d4/e9/76fb290ee3df0a5fc21ce5c2c788e29e9607a2353d8342fd0d\n",
            "Successfully built unsloth\n",
            "Installing collected packages: unsloth\n",
            "Successfully installed unsloth-2024.11.10\n"
          ]
        }
      ],
      "source": [
        "!pip install unsloth \"xformers==0.0.28.post2\"\n",
        "!pip uninstall unsloth -y && pip install --upgrade --no-cache-dir \"unsloth[colab-new] @ git+https://github.com/unslothai/unsloth.git\""
      ]
    },
    {
      "cell_type": "markdown",
      "metadata": {
        "id": "krkZ0EPwzal9"
      },
      "source": [
        "# Import necessary libraries"
      ]
    },
    {
      "cell_type": "code",
      "execution_count": null,
      "metadata": {
        "colab": {
          "base_uri": "https://localhost:8080/"
        },
        "id": "pZTk3htQMBPc",
        "outputId": "38b47b9c-93fa-4390-b5ca-3a290e4e6608"
      },
      "outputs": [
        {
          "output_type": "stream",
          "name": "stdout",
          "text": [
            "🦥 Unsloth: Will patch your computer to enable 2x faster free finetuning.\n",
            "🦥 Unsloth Zoo will now patch everything to make training faster!\n"
          ]
        }
      ],
      "source": [
        "\n",
        "import torch\n",
        "from trl import SFTTrainer\n",
        "from datasets import load_dataset\n",
        "from transformers import TrainingArguments, TextStreamer\n",
        "from unsloth.chat_templates import get_chat_template\n",
        "from unsloth import FastLanguageModel, is_bfloat16_supported\n",
        "import pandas as pd\n",
        "import re"
      ]
    },
    {
      "cell_type": "markdown",
      "metadata": {
        "id": "94XUOwS9ziKw"
      },
      "source": [
        "## Hugging Face Token Setup\n",
        "\n",
        "This cell handles authentication with Hugging Face. It retrieves your Hugging Face token, which you need to obtain and store securely beforehand. This token allows us to download the pre-trained Llama model.\n",
        "\n",
        "**Follow these steps to get your Hugging Face token and add it to Colab:**\n",
        "\n",
        "1. **Get your Hugging Face Token:**\n",
        "   * Go to the Hugging Face website (https://huggingface.co/) and log in to your account.\n",
        "   * Click on your profile picture in the top right corner.\n",
        "   * Select \"Settings\".\n",
        "   * In the left sidebar, click on \"Access Tokens\".\n",
        "   * Click on \"New token\".\n",
        "   * Give your token a name (e.g., \"Colab Token\").\n",
        "   * Under \"Role\", select \"Read\".\n",
        "   * Click \"Create\".\n",
        "   * **Important:** Copy the token value that's generated. This is your `HF_TOKEN`. Store it securely.\n",
        "\n",
        "2. **Store your Token in Colab Secrets:**\n",
        "   * In this Colab notebook, click on the \"Secrets\" tab in the left sidebar (it looks like a key).\n",
        "   * Click on \"Add a new secret\".\n",
        "   * In the \"Name\" field, enter `HF_TOKEN`.\n",
        "   * In the \"Value\" field, paste your Hugging Face token that you copied earlier.\n",
        "   * Click \"Add\".\n",
        "\n",
        "Now you can run the code below to log in to Hugging Face."
      ]
    },
    {
      "cell_type": "code",
      "execution_count": null,
      "metadata": {
        "colab": {
          "base_uri": "https://localhost:8080/"
        },
        "id": "qHKQasSbM3SE",
        "outputId": "3818b8a5-483b-4c26-b7c0-a1435564bbbc"
      },
      "outputs": [
        {
          "output_type": "stream",
          "name": "stdout",
          "text": [
            "The token has not been saved to the git credentials helper. Pass `add_to_git_credential=True` in this function directly or `--add-to-git-credential` if using via `huggingface-cli` if you want to set the git credential as well.\n",
            "Token is valid (permission: read).\n",
            "The token `READ_AGAIN` has been saved to /root/.cache/huggingface/stored_tokens\n",
            "Your token has been saved to /root/.cache/huggingface/token\n",
            "Login successful.\n",
            "The current active token is: `READ_AGAIN`\n"
          ]
        }
      ],
      "source": [
        "import os\n",
        "from google.colab import userdata\n",
        "hf_token=userdata.get('HF_TOKEN')\n",
        "\n",
        "# Now, you can use the token to authenticate with Hugging Face\n",
        "!huggingface-cli login --token \"$hf_token\""
      ]
    },
    {
      "cell_type": "markdown",
      "metadata": {
        "id": "EmxvMFPZzw4Q"
      },
      "source": [
        "## Download the IMDB Dataset\n",
        "\n",
        "This cell downloads the IMDB dataset directly from Kaggle.\n",
        "\n",
        "**Before running this code, follow these steps to set up the Kaggle API:**\n",
        "\n",
        "1. **Create a Kaggle Account:** If you don't have one already, create an account on Kaggle (https://www.kaggle.com/).\n",
        "2. **Get your Kaggle API Token:** Go to your Kaggle account settings, and under the 'API' section, click 'Create New API Token'. This will download a `kaggle.json` file.\n",
        "3. **Upload `kaggle.json` to Colab:** In the Files tab of this Colab notebook, click 'Upload' and select the downloaded `kaggle.json` file."
      ]
    },
    {
      "cell_type": "code",
      "execution_count": null,
      "metadata": {
        "colab": {
          "base_uri": "https://localhost:8080/"
        },
        "id": "FNpguwUuM6Db",
        "outputId": "05c27fe6-7e84-40a2-d4c1-05fbadced135"
      },
      "outputs": [
        {
          "output_type": "stream",
          "name": "stdout",
          "text": [
            "cp: cannot stat 'kaggle.json': No such file or directory\n",
            "chmod: cannot access '/root/.kaggle/kaggle.json': No such file or directory\n",
            "Dataset URL: https://www.kaggle.com/datasets/lakshmi25npathi/imdb-dataset-of-50k-movie-reviews\n",
            "License(s): other\n",
            "Downloading imdb-dataset-of-50k-movie-reviews.zip to /content\n",
            " 58% 15.0M/25.7M [00:00<00:00, 156MB/s]\n",
            "100% 25.7M/25.7M [00:00<00:00, 201MB/s]\n",
            "Archive:  imdb-dataset-of-50k-movie-reviews.zip\n",
            "  inflating: IMDB Dataset.csv        \n"
          ]
        }
      ],
      "source": [
        "! mkdir ~/.kaggle\n",
        "! cp kaggle.json ~/.kaggle/\n",
        "! chmod 600 ~/.kaggle/kaggle.json\n",
        "! kaggle datasets download -d lakshmi25npathi/imdb-dataset-of-50k-movie-reviews\n",
        "! unzip imdb-dataset-of-50k-movie-reviews.zip"
      ]
    },
    {
      "cell_type": "code",
      "execution_count": null,
      "metadata": {
        "id": "JK9f988RM8Ak"
      },
      "outputs": [],
      "source": [
        "import os\n",
        "os.rename('/content/IMDB Dataset.csv', '/content/imdb_dataset.csv')"
      ]
    },
    {
      "cell_type": "markdown",
      "source": [
        "## Key Customizable Variables\n",
        "This section defines key variables that control the behavior of the model and training process. You can adjust these values to experiment with different settings and potentially improve performance.\n",
        "\n",
        "The default values are chosen to work well in the Colab environment on free tier, which has limited memory. If you are running this notebook on a machine with more resources, you can increase some of these values"
      ],
      "metadata": {
        "id": "avISRCIFhJ5C"
      }
    },
    {
      "cell_type": "code",
      "execution_count": null,
      "metadata": {
        "id": "Ih7_PjrIM-LH"
      },
      "outputs": [],
      "source": [
        "# Model and tokenizer parameters\n",
        "model_name=\"unsloth/Meta-Llama-3.1-8B-bnb-4bit\"\n",
        "max_seq_length = 2048  # Maximum sequence length for LLaMA\n",
        "dtype = None  # Auto-detect dtype\n",
        "load_in_4bit = True  # Use 4-bit quantization\n",
        "\n",
        "# Dataset parameters\n",
        "sample_size = 750  # Number of samples to use\n",
        "test_size = 0.2  # 20% for testing\n",
        "\n",
        "# Training parameters\n",
        "num_train_epochs = 3\n",
        "learning_rate = 5e-5\n",
        "train_batch_size = 8\n",
        "eval_batch_size = 8\n",
        "logging_steps = 1\n",
        "eval_steps = 20\n",
        "save_steps = 20\n",
        "weight_decay = 0.1"
      ]
    },
    {
      "cell_type": "markdown",
      "source": [
        "## Load LLaMA Model and Tokenizer\n",
        "\n",
        "Initialize the LLaMA model and tokenizer with the following configurations:\n",
        "- 4-bit quantization for memory efficiency\n",
        "- Maximum sequence length of 2048\n",
        "- LoRA fine-tuning setup"
      ],
      "metadata": {
        "id": "BrbYSZEGhdhk"
      }
    },
    {
      "cell_type": "code",
      "execution_count": null,
      "metadata": {
        "colab": {
          "base_uri": "https://localhost:8080/",
          "height": 286,
          "referenced_widgets": [
            "d8867e1fae394e188cc3c6f098f822cd",
            "78f77ed7371140e4a8ecb19f8fcea9d5",
            "e9f0eb2b01114917a3c40433a8c28545",
            "371a4f6845c942e4bddb64bd9462fb75",
            "1ef69ccec64c4ef3a0c34969e1ec525d",
            "de6ef1f3ad1245e39d2f4a5bbfc3dee4",
            "eb4224ca76ef4c5a901874bb09ef7dca",
            "a54f073f0c0c49f1b90df5036ddcea6a",
            "ffad9bcfaf6848c8ab793ab11db3cccf",
            "fdba0386890c4404b0405f419e40e2ac",
            "62a83a81d8ef464f9d2f3a0019b747a8",
            "44c2d9431782483dac59303ea4d75c02",
            "283cea6133ca4fd19dd33a7f672c8870",
            "6317e322db044377ab18a0f876bc1f55",
            "422bd82530a142ad9b93feda31992c99",
            "56dc4dad4b7b4d89acd943f8addf74c7",
            "f94c318968354f7f9ecb86b306ea1f43",
            "ff300d8a65a54d99af978e8f5ec3c596",
            "48f25c25f6fe4b3fb0b0eed213f54e58",
            "2d8c6ddf743b4449bcbb5f18f226a06f",
            "0a0680902e0b4cc8bdf2b80245e9b949",
            "d16782f899ae4878ae3b20316c91d746",
            "6156c6e8903e41af93d1eace699904c2",
            "096ae84a50cc4106b7b275b0b95973b4",
            "ecbdd1e7cb8e4f759788c100c3a35c97",
            "d0804be850e04f4683dc923a820bf6d5",
            "14c5ba756d3349a8a0b2a61acd1e402a",
            "349ccc448b964d8a94235796b15a8255",
            "cdbee742c17b47c3886b48f38164013c",
            "6d1e9b0e096445458a5667f128ae5e87",
            "7bc691559b2440c98a35d8255c88a082",
            "9b51e979c5354d468c89683aa7c4fe72",
            "24932c0e8e1c4de28855f8da761461fa",
            "6df40dbe97164868995d96048384fd7b",
            "788ea089fa9d44259a398514fd4e64ec",
            "c13fa1328cf141c4941bdee75af23fc4",
            "38c2a2b7e9a14749a685acaf0ab6cf07",
            "7a3f2f2850b44668bdb9b5c75227a46d",
            "c3d3477e38f446d9a099da3593b3dd5c",
            "5a1bb69e296e4b4fbc251707c5d53145",
            "a1c36e5d037c4063a8030d6bfef3890c",
            "8f8ad15de5124c0b98172d5447b3cc91",
            "edcaba27a06f416fb50b9fd8c761fb66",
            "a2497ac3d4a1431194f72178a822f1c0",
            "b74524baf83f4ac99cfcb32c35f5f8a7",
            "863343ffe073423fa8eeeed7cae1b2ef",
            "9cc5b507ad114d72ac057950be50d8fc",
            "1f3cce387b4742ec9245c6f2571d2ef6",
            "6fc5ccafd8db4687b69ea40cb37efd95",
            "e03009c124be4f67bba162befd4c15a2",
            "f47edf33b3fe4258af68db2d0c616396",
            "37118d1f5c3947908567f1a91be1bec5",
            "c1afb79374d14cbea0d00772b34ed757",
            "00cfd14bc2d14fedbfc8f1c8ecd3a043",
            "2e1206d93d074ad8beb5164edf29f768"
          ]
        },
        "id": "VwBeicaLMN-n",
        "outputId": "75e4813f-b466-44e2-fb19-72a7274063cf"
      },
      "outputs": [
        {
          "output_type": "stream",
          "name": "stdout",
          "text": [
            "==((====))==  Unsloth 2024.11.10: Fast Llama patching. Transformers:4.46.2.\n",
            "   \\\\   /|    GPU: Tesla T4. Max memory: 14.748 GB. Platform: Linux.\n",
            "O^O/ \\_/ \\    Torch: 2.5.0+cu124. CUDA: 7.5. CUDA Toolkit: 12.4. Triton: 3.1.0\n",
            "\\        /    Bfloat16 = FALSE. FA [Xformers = 0.0.28.post2. FA2 = False]\n",
            " \"-____-\"     Free Apache license: http://github.com/unslothai/unsloth\n",
            "Unsloth: Fast downloading is enabled - ignore downloading bars which are red colored!\n"
          ]
        },
        {
          "output_type": "display_data",
          "data": {
            "text/plain": [
              "model.safetensors:   0%|          | 0.00/5.70G [00:00<?, ?B/s]"
            ],
            "application/vnd.jupyter.widget-view+json": {
              "version_major": 2,
              "version_minor": 0,
              "model_id": "d8867e1fae394e188cc3c6f098f822cd"
            }
          },
          "metadata": {}
        },
        {
          "output_type": "display_data",
          "data": {
            "text/plain": [
              "generation_config.json:   0%|          | 0.00/230 [00:00<?, ?B/s]"
            ],
            "application/vnd.jupyter.widget-view+json": {
              "version_major": 2,
              "version_minor": 0,
              "model_id": "44c2d9431782483dac59303ea4d75c02"
            }
          },
          "metadata": {}
        },
        {
          "output_type": "display_data",
          "data": {
            "text/plain": [
              "tokenizer_config.json:   0%|          | 0.00/50.6k [00:00<?, ?B/s]"
            ],
            "application/vnd.jupyter.widget-view+json": {
              "version_major": 2,
              "version_minor": 0,
              "model_id": "6156c6e8903e41af93d1eace699904c2"
            }
          },
          "metadata": {}
        },
        {
          "output_type": "display_data",
          "data": {
            "text/plain": [
              "tokenizer.json:   0%|          | 0.00/9.09M [00:00<?, ?B/s]"
            ],
            "application/vnd.jupyter.widget-view+json": {
              "version_major": 2,
              "version_minor": 0,
              "model_id": "6df40dbe97164868995d96048384fd7b"
            }
          },
          "metadata": {}
        },
        {
          "output_type": "display_data",
          "data": {
            "text/plain": [
              "special_tokens_map.json:   0%|          | 0.00/345 [00:00<?, ?B/s]"
            ],
            "application/vnd.jupyter.widget-view+json": {
              "version_major": 2,
              "version_minor": 0,
              "model_id": "b74524baf83f4ac99cfcb32c35f5f8a7"
            }
          },
          "metadata": {}
        }
      ],
      "source": [
        "model, tokenizer = FastLanguageModel.from_pretrained(\n",
        "    model_name=model_name,\n",
        "    max_seq_length=max_seq_length,\n",
        "    load_in_4bit=load_in_4bit,\n",
        "    dtype=dtype,\n",
        ")"
      ]
    },
    {
      "cell_type": "code",
      "execution_count": null,
      "metadata": {
        "colab": {
          "base_uri": "https://localhost:8080/"
        },
        "id": "0mlc9fF2MmhX",
        "outputId": "3bc53b61-d627-4e8c-b8d8-1c2db33397e6"
      },
      "outputs": [
        {
          "output_type": "stream",
          "name": "stderr",
          "text": [
            "Unsloth 2024.11.10 patched 32 layers with 32 QKV layers, 32 O layers and 32 MLP layers.\n"
          ]
        }
      ],
      "source": [
        "model = FastLanguageModel.get_peft_model(\n",
        "    model,\n",
        "    r=16,\n",
        "    lora_alpha=16,\n",
        "    lora_dropout=0,\n",
        "    target_modules=[\"q_proj\", \"k_proj\", \"v_proj\", \"up_proj\", \"down_proj\", \"o_proj\", \"gate_proj\"],\n",
        "    use_rslora=True,\n",
        "    use_gradient_checkpointing=\"unsloth\"\n",
        ")"
      ]
    },
    {
      "cell_type": "markdown",
      "source": [
        "## Loading the IMDB Movie Review Dataset"
      ],
      "metadata": {
        "id": "mBcQa4qGh0Qq"
      }
    },
    {
      "cell_type": "code",
      "execution_count": null,
      "metadata": {
        "id": "Rpfk5X48MuyW"
      },
      "outputs": [],
      "source": [
        "df = pd.read_csv('/content/imdb_dataset.csv')"
      ]
    },
    {
      "cell_type": "markdown",
      "source": [
        "## Balance the Dataset (Optional)\n",
        "\n",
        "This function creates a balanced subset of the data, ensuring an equal number of positive and negative reviews. This can be helpful for preventing the model from being biased towards one sentiment class.\n",
        "\n",
        "If you set the `sample_size` variable in the 'Configuration' section, this function will be used to create a smaller, balanced dataset. If `sample_size` is set to `None`, the full dataset will be used.\n",
        "\n",
        "**Explanation of the `create_subset` function:**\n",
        "\n",
        "1. Converts the 'sentiment' column to binary labels (1 for positive, 0 for negative).\n",
        "2. If `sample_size` is provided, it samples an equal number of positive and negative reviews.\n",
        "3. Concatenates the samples and shuffles the data.\n",
        "4. If no `sample_size` is provided, it uses the full dataset."
      ],
      "metadata": {
        "id": "DD9Syggqh5go"
      }
    },
    {
      "cell_type": "code",
      "execution_count": null,
      "metadata": {
        "id": "A6rc9SqdNMAH"
      },
      "outputs": [],
      "source": [
        "def create_subset(dataframe, sample_size=None, random_seed=42):\n",
        "    # Convert sentiment into binary labels (1 for positive, 0 for negative)\n",
        "    dataframe['label'] = dataframe['sentiment'].apply(lambda x: 1 if x == 'positive' else 0)\n",
        "\n",
        "    if sample_size:\n",
        "        # Separate positive and negative reviews\n",
        "        positive_reviews = dataframe[dataframe['label'] == 1]\n",
        "        negative_reviews = dataframe[dataframe['label'] == 0]\n",
        "\n",
        "        # Sample the specified number of rows from each class\n",
        "        positive_sample = positive_reviews.sample(n=sample_size, random_state=random_seed)\n",
        "        negative_sample = negative_reviews.sample(n=sample_size, random_state=random_seed)\n",
        "\n",
        "        # Concatenate the samples and shuffle\n",
        "        subset_df = pd.concat([positive_sample, negative_sample]).sample(frac=1, random_state=random_seed).reset_index(drop=True)\n",
        "    else:\n",
        "        # If no sample size is provided, use the full dataset\n",
        "        subset_df = dataframe.copy()\n",
        "\n",
        "    return subset_df\n",
        "\n",
        "# Run the function to create a smaller subset of the data\n",
        "reduced_df = create_subset(df, sample_size=sample_size)"
      ]
    },
    {
      "cell_type": "markdown",
      "source": [
        "## Data Preprocessing\n",
        "\n",
        "Data preprocessing is a crucial step in Natural Language Processing (NLP). It helps to clean and standardize the text data, making it easier for the model to learn meaningful patterns.\n",
        "\n",
        "This cell performs some preprocessing on the review text. It removes HTML tags and any unnecessary characters that might not be relevant for sentiment analysis. It also adds a 'label' column with numerical representations of the sentiment (1 for positive, 0 for negative)."
      ],
      "metadata": {
        "id": "IR0tOPrviBE9"
      }
    },
    {
      "cell_type": "code",
      "execution_count": null,
      "metadata": {
        "id": "b4PBgBm8NPcK"
      },
      "outputs": [],
      "source": [
        "def clean_text(text):\n",
        "    # Remove HTML tags\n",
        "    text = re.sub(r'<br\\s*/?>', ' ', text)\n",
        "    return text\n",
        "\n",
        "reduced_df['review'] = reduced_df['review'].apply(clean_text)\n",
        "reduced_df['label'] = reduced_df['sentiment'].apply(lambda x: 1 if x == 'positive' else 0)"
      ]
    },
    {
      "cell_type": "markdown",
      "source": [
        "## Create Hugging Face Datasets\n",
        "\n",
        "The `transformers` library provides a convenient way to train models using the `Trainer` class. This class works seamlessly with Hugging Face Datasets. So, in this cell, we convert our DataFrame into a Hugging Face Dataset object.\n",
        "\n",
        "This makes it easier to manage the data during training and leverage the features of the `Trainer` API."
      ],
      "metadata": {
        "id": "7pEQt3BOtlEk"
      }
    },
    {
      "cell_type": "code",
      "execution_count": null,
      "metadata": {
        "id": "ZqAvgf8BNZ6M"
      },
      "outputs": [],
      "source": [
        "from datasets import Dataset, DatasetDict\n",
        "dataset = Dataset.from_pandas(reduced_df)"
      ]
    },
    {
      "cell_type": "code",
      "execution_count": null,
      "metadata": {
        "colab": {
          "base_uri": "https://localhost:8080/",
          "height": 163
        },
        "id": "Q4s-pwVMT91n",
        "outputId": "9d9d2673-d81e-4494-a342-e251ef53053d"
      },
      "outputs": [
        {
          "output_type": "display_data",
          "data": {
            "text/plain": [
              "{'review': 'Strange, often effective hippie zombie flick, starring the unforgettable husband/wife team of Alan and Anya Ornsby, this movie isn\\'t as bad as most in its genre, but is still way high on the cheese-factor. Includes several bargain-basement zombies, outrageously campy dialogue, a scene-chewing performance by Alan Ormsby, several gay/kinky grave-robbers, and one straange soundtrack. Wife Anya puts on a performance that\\'s so odd, one has to wonder if she\\'s really acting at all. There are much worst pics of this kind during the era (look for any Al Adamson flic), but it\\'s no Night of the Living Dead. Director/Writer \"Benjamin\" Clark, is really Bob Clark, who went on to create the purile \"Porky\\'s\" early 80\\'s teen exploitation disasters. He has only now resurfaced after 1 inexplicably good movie (\"A Christmas Story\") to return to his dreadful ways with \"Baby Geniuses\". Weirdo Alan Ormsby later wrote the kinky Nastasia Kinski/Malcolm McDowell version of \"Cat People\". Moocow says check this hippy horror movie out for fun, zombie frolics, and campy dialogue :=8)',\n",
              " 'sentiment': 'negative',\n",
              " 'label': 0}"
            ]
          },
          "metadata": {}
        }
      ],
      "source": [
        "display(dataset[1])"
      ]
    },
    {
      "cell_type": "markdown",
      "source": [
        "# Data Formatting Function for Model Input\n",
        "\n",
        "This cell implements a crucial formatting function that transforms raw IMDB reviews into a structured format suitable for training the LLaMA model. Here's what the function does:\n",
        "\n",
        "1. **Instruction Template Creation**:\n",
        "   - Creates a clear task description for sentiment classification\n",
        "   - Defines specific rules for the expected response format (POSITIVE/NEGATIVE)\n",
        "   - Provides criteria for distinguishing positive and negative reviews\n",
        "\n",
        "2. **Input-Output Structure**:\n",
        "   - Takes a review as input `example['review']`\n",
        "   - Creates a human prompt combining instructions and the review text\n",
        "   - Generates appropriate assistant response based on the sentiment\n",
        "\n",
        "3. **Returns Formatted Data Dictionary**:\n",
        "   ```python\n",
        "   {\n",
        "       'conversations': [\n",
        "           {'from': 'human', 'value': human_prompt},\n",
        "           {'from': 'gpt', 'value': assistant_response}\n",
        "       ],\n",
        "       'source': 'imdb-movie-reviews',\n",
        "       'score': None,\n",
        "       'text': combined_prompt_and_response\n",
        "   }\n",
        "   ```\n",
        "\n",
        "The formatted output follows a conversation-style structure that LLaMA models are typically trained on, making it easier for the model to understand the task and generate appropriate responses during fine-tuning.\n",
        "\n",
        "The last line applies this formatting function to the entire dataset using the `map()` function, transforming all reviews into this structured format."
      ],
      "metadata": {
        "id": "6cZpJRAKuxV5"
      }
    },
    {
      "cell_type": "code",
      "execution_count": null,
      "metadata": {
        "colab": {
          "base_uri": "https://localhost:8080/",
          "height": 49,
          "referenced_widgets": [
            "f2f9a24757e641b6841f997eac7c4643",
            "bf87d64e45814f7cb0ec7be51064e15e",
            "9b86f51d124e4a949f1c37d70991b073",
            "b82c5fc7aebe472eb8acbbd469888288",
            "99596dc139ae406faf7ad219e013d6df",
            "f7c4765420014b26b6fc4bb0aaa78d6c",
            "4748d6daa1754ff6af7e13f14d7af3f1",
            "dae5c2cf506b4776b21f1ee2c17f64bf",
            "39989d401b1745ad8a72af0c91b09d8e",
            "550b9c12aa3842239b3b5df2bbf0d325",
            "cd7b5b52fb4943a387a07cdbab0d9320"
          ]
        },
        "id": "5Mkv7qAPU37y",
        "outputId": "7872ecba-958f-4424-a0cc-06a2f900f801"
      },
      "outputs": [
        {
          "output_type": "display_data",
          "data": {
            "text/plain": [
              "Map:   0%|          | 0/1500 [00:00<?, ? examples/s]"
            ],
            "application/vnd.jupyter.widget-view+json": {
              "version_major": 2,
              "version_minor": 0,
              "model_id": "f2f9a24757e641b6841f997eac7c4643"
            }
          },
          "metadata": {}
        }
      ],
      "source": [
        "def format_data(example):\n",
        "    \"\"\"Format data for training\"\"\"\n",
        "    instruction = (\n",
        "        \"Task: Classify this movie review as positive or negative.\\n\"\n",
        "        \"Rules:\\n\"\n",
        "        \"- Answer with exactly one word: POSITIVE or NEGATIVE\\n\"\n",
        "        \"- Positive reviews express enjoyment, praise, or satisfaction\\n\"\n",
        "        \"- Negative reviews express dislike, criticism, or disappointment\\n\\n\"\n",
        "    )\n",
        "\n",
        "    human_prompt = f\"{instruction}Review: {example['review']}\\n\\nClassification:\"\n",
        "    assistant_response = \"POSITIVE\" if example['sentiment'] == 'positive' else \"NEGATIVE\"\n",
        "\n",
        "    return {\n",
        "        'conversations': [\n",
        "            {'from': 'human', 'value': human_prompt},\n",
        "            {'from': 'gpt', 'value': assistant_response}\n",
        "        ],\n",
        "        'source': 'imdb-movie-reviews',\n",
        "        'score': None,\n",
        "        'text': human_prompt + \" \" + assistant_response\n",
        "    }\n",
        "\n",
        "# Apply the formatting function to our dataset\n",
        "formatted_dataset = dataset.map(format_data)"
      ]
    },
    {
      "cell_type": "code",
      "execution_count": null,
      "metadata": {
        "colab": {
          "base_uri": "https://localhost:8080/",
          "height": 491
        },
        "id": "fgHqVGb1U5eI",
        "outputId": "2bc8d2fe-375e-43c4-f9ab-44d13a6a2b59"
      },
      "outputs": [
        {
          "output_type": "display_data",
          "data": {
            "text/plain": [
              "{'review': 'Strange, often effective hippie zombie flick, starring the unforgettable husband/wife team of Alan and Anya Ornsby, this movie isn\\'t as bad as most in its genre, but is still way high on the cheese-factor. Includes several bargain-basement zombies, outrageously campy dialogue, a scene-chewing performance by Alan Ormsby, several gay/kinky grave-robbers, and one straange soundtrack. Wife Anya puts on a performance that\\'s so odd, one has to wonder if she\\'s really acting at all. There are much worst pics of this kind during the era (look for any Al Adamson flic), but it\\'s no Night of the Living Dead. Director/Writer \"Benjamin\" Clark, is really Bob Clark, who went on to create the purile \"Porky\\'s\" early 80\\'s teen exploitation disasters. He has only now resurfaced after 1 inexplicably good movie (\"A Christmas Story\") to return to his dreadful ways with \"Baby Geniuses\". Weirdo Alan Ormsby later wrote the kinky Nastasia Kinski/Malcolm McDowell version of \"Cat People\". Moocow says check this hippy horror movie out for fun, zombie frolics, and campy dialogue :=8)',\n",
              " 'sentiment': 'negative',\n",
              " 'label': 0,\n",
              " 'conversations': [{'from': 'human',\n",
              "   'value': 'Task: Classify this movie review as positive or negative.\\nRules:\\n- Answer with exactly one word: POSITIVE or NEGATIVE\\n- Positive reviews express enjoyment, praise, or satisfaction\\n- Negative reviews express dislike, criticism, or disappointment\\n\\nReview: Strange, often effective hippie zombie flick, starring the unforgettable husband/wife team of Alan and Anya Ornsby, this movie isn\\'t as bad as most in its genre, but is still way high on the cheese-factor. Includes several bargain-basement zombies, outrageously campy dialogue, a scene-chewing performance by Alan Ormsby, several gay/kinky grave-robbers, and one straange soundtrack. Wife Anya puts on a performance that\\'s so odd, one has to wonder if she\\'s really acting at all. There are much worst pics of this kind during the era (look for any Al Adamson flic), but it\\'s no Night of the Living Dead. Director/Writer \"Benjamin\" Clark, is really Bob Clark, who went on to create the purile \"Porky\\'s\" early 80\\'s teen exploitation disasters. He has only now resurfaced after 1 inexplicably good movie (\"A Christmas Story\") to return to his dreadful ways with \"Baby Geniuses\". Weirdo Alan Ormsby later wrote the kinky Nastasia Kinski/Malcolm McDowell version of \"Cat People\". Moocow says check this hippy horror movie out for fun, zombie frolics, and campy dialogue :=8)\\n\\nClassification:'},\n",
              "  {'from': 'gpt', 'value': 'NEGATIVE'}],\n",
              " 'source': 'imdb-movie-reviews',\n",
              " 'score': None,\n",
              " 'text': 'Task: Classify this movie review as positive or negative.\\nRules:\\n- Answer with exactly one word: POSITIVE or NEGATIVE\\n- Positive reviews express enjoyment, praise, or satisfaction\\n- Negative reviews express dislike, criticism, or disappointment\\n\\nReview: Strange, often effective hippie zombie flick, starring the unforgettable husband/wife team of Alan and Anya Ornsby, this movie isn\\'t as bad as most in its genre, but is still way high on the cheese-factor. Includes several bargain-basement zombies, outrageously campy dialogue, a scene-chewing performance by Alan Ormsby, several gay/kinky grave-robbers, and one straange soundtrack. Wife Anya puts on a performance that\\'s so odd, one has to wonder if she\\'s really acting at all. There are much worst pics of this kind during the era (look for any Al Adamson flic), but it\\'s no Night of the Living Dead. Director/Writer \"Benjamin\" Clark, is really Bob Clark, who went on to create the purile \"Porky\\'s\" early 80\\'s teen exploitation disasters. He has only now resurfaced after 1 inexplicably good movie (\"A Christmas Story\") to return to his dreadful ways with \"Baby Geniuses\". Weirdo Alan Ormsby later wrote the kinky Nastasia Kinski/Malcolm McDowell version of \"Cat People\". Moocow says check this hippy horror movie out for fun, zombie frolics, and campy dialogue :=8)\\n\\nClassification: NEGATIVE'}"
            ]
          },
          "metadata": {}
        }
      ],
      "source": [
        "display(formatted_dataset[1])"
      ]
    },
    {
      "cell_type": "markdown",
      "source": [
        "# Chat Template Configuration and Message Formatting\n",
        "This cell sets up the formatting rules for conversations and implements the tokenizer template for the LLaMA model. It structures input/output pairs with special tokens (<|im_start|> and <|im_end|>) that help the model distinguish between human input and expected responses. The template ensures each conversation follows a consistent format where human prompts and model responses are clearly separated, which is essential for effective training.\n",
        "The apply_template function processes these conversations, applying the template to each message pair while maintaining the proper structure that the model expects during training. This standardization is crucial for the model to understand the pattern of input questions and output responses.\n",
        "This is essentially like teaching the model to recognize \"when to listen\" (human input) and \"when to speak\" (model output) in a consistent way."
      ],
      "metadata": {
        "id": "S7DVBPBwXf2X"
      }
    },
    {
      "cell_type": "code",
      "source": [
        "tokenizer = get_chat_template(\n",
        "    tokenizer,\n",
        "    mapping={\"role\": \"from\", \"content\": \"value\", \"user\": \"human\", \"assistant\": \"gpt\"},\n",
        "    chat_template=\"chatml\",\n",
        ")\n",
        "\n",
        "def apply_template(examples):\n",
        "    messages = examples[\"conversations\"]\n",
        "    text = [tokenizer.apply_chat_template(message, tokenize=False, add_generation_prompt=False) for message in messages]\n",
        "    return {\"text\": text}\n",
        "\n",
        "\n",
        "# <|im_start|>human\n",
        "# Task: Classify... Review: This movie was great...\\nClassification:\n",
        "# <|im_end|>\n",
        "# <|im_start|>gpt\n",
        "# POSITIVE\n",
        "# <|im_end|>"
      ],
      "metadata": {
        "colab": {
          "base_uri": "https://localhost:8080/"
        },
        "id": "es8zjlEvgIzE",
        "outputId": "71fbfa18-cbf1-404f-fec3-0d994bdbf5ae"
      },
      "execution_count": null,
      "outputs": [
        {
          "output_type": "stream",
          "name": "stderr",
          "text": [
            "Unsloth: Will map <|im_end|> to EOS = <|end_of_text|>.\n"
          ]
        }
      ]
    },
    {
      "cell_type": "code",
      "execution_count": null,
      "metadata": {
        "colab": {
          "base_uri": "https://localhost:8080/",
          "height": 49,
          "referenced_widgets": [
            "424af9fb647147ce88138cc1aa92352b",
            "a52f4add2d5844008918315a2587672a",
            "6fe2c60a3d2b42ebafdafc4f7025591f",
            "fc78656e16a046358e63928d5d4539a2",
            "7e02e0b31ad04480996c334e24d52d42",
            "108779c8b3a1451687f8bb5eb8febdbc",
            "a28388e2360e458c8caba8cf74182196",
            "ba16036a30b440979f01acb924614bd5",
            "9042d0b01af24b0fa92c637671d4bd9f",
            "bf78e86e704842d1b0e27ac02b86adef",
            "7932a258eff14209ad4f5da5bacb1e1c"
          ]
        },
        "id": "Mjqn6PlCU9A2",
        "outputId": "e35fb6e8-5e86-4f40-c284-ca42ccae7b8a"
      },
      "outputs": [
        {
          "output_type": "display_data",
          "data": {
            "text/plain": [
              "Map:   0%|          | 0/1500 [00:00<?, ? examples/s]"
            ],
            "application/vnd.jupyter.widget-view+json": {
              "version_major": 2,
              "version_minor": 0,
              "model_id": "424af9fb647147ce88138cc1aa92352b"
            }
          },
          "metadata": {}
        }
      ],
      "source": [
        "formatted_dataset = formatted_dataset.map(apply_template, batched=True)"
      ]
    },
    {
      "cell_type": "code",
      "source": [
        "display(formatted_dataset[1])"
      ],
      "metadata": {
        "colab": {
          "base_uri": "https://localhost:8080/",
          "height": 509
        },
        "id": "6gYcsXLAgzF2",
        "outputId": "2b844a2c-5136-4bfa-f3b5-b63f25f87785"
      },
      "execution_count": null,
      "outputs": [
        {
          "output_type": "display_data",
          "data": {
            "text/plain": [
              "{'review': 'Strange, often effective hippie zombie flick, starring the unforgettable husband/wife team of Alan and Anya Ornsby, this movie isn\\'t as bad as most in its genre, but is still way high on the cheese-factor. Includes several bargain-basement zombies, outrageously campy dialogue, a scene-chewing performance by Alan Ormsby, several gay/kinky grave-robbers, and one straange soundtrack. Wife Anya puts on a performance that\\'s so odd, one has to wonder if she\\'s really acting at all. There are much worst pics of this kind during the era (look for any Al Adamson flic), but it\\'s no Night of the Living Dead. Director/Writer \"Benjamin\" Clark, is really Bob Clark, who went on to create the purile \"Porky\\'s\" early 80\\'s teen exploitation disasters. He has only now resurfaced after 1 inexplicably good movie (\"A Christmas Story\") to return to his dreadful ways with \"Baby Geniuses\". Weirdo Alan Ormsby later wrote the kinky Nastasia Kinski/Malcolm McDowell version of \"Cat People\". Moocow says check this hippy horror movie out for fun, zombie frolics, and campy dialogue :=8)',\n",
              " 'sentiment': 'negative',\n",
              " 'label': 0,\n",
              " 'conversations': [{'from': 'human',\n",
              "   'value': 'Task: Classify this movie review as positive or negative.\\nRules:\\n- Answer with exactly one word: POSITIVE or NEGATIVE\\n- Positive reviews express enjoyment, praise, or satisfaction\\n- Negative reviews express dislike, criticism, or disappointment\\n\\nReview: Strange, often effective hippie zombie flick, starring the unforgettable husband/wife team of Alan and Anya Ornsby, this movie isn\\'t as bad as most in its genre, but is still way high on the cheese-factor. Includes several bargain-basement zombies, outrageously campy dialogue, a scene-chewing performance by Alan Ormsby, several gay/kinky grave-robbers, and one straange soundtrack. Wife Anya puts on a performance that\\'s so odd, one has to wonder if she\\'s really acting at all. There are much worst pics of this kind during the era (look for any Al Adamson flic), but it\\'s no Night of the Living Dead. Director/Writer \"Benjamin\" Clark, is really Bob Clark, who went on to create the purile \"Porky\\'s\" early 80\\'s teen exploitation disasters. He has only now resurfaced after 1 inexplicably good movie (\"A Christmas Story\") to return to his dreadful ways with \"Baby Geniuses\". Weirdo Alan Ormsby later wrote the kinky Nastasia Kinski/Malcolm McDowell version of \"Cat People\". Moocow says check this hippy horror movie out for fun, zombie frolics, and campy dialogue :=8)\\n\\nClassification:'},\n",
              "  {'from': 'gpt', 'value': 'NEGATIVE'}],\n",
              " 'source': 'imdb-movie-reviews',\n",
              " 'score': None,\n",
              " 'text': '<|im_start|>user\\nTask: Classify this movie review as positive or negative.\\nRules:\\n- Answer with exactly one word: POSITIVE or NEGATIVE\\n- Positive reviews express enjoyment, praise, or satisfaction\\n- Negative reviews express dislike, criticism, or disappointment\\n\\nReview: Strange, often effective hippie zombie flick, starring the unforgettable husband/wife team of Alan and Anya Ornsby, this movie isn\\'t as bad as most in its genre, but is still way high on the cheese-factor. Includes several bargain-basement zombies, outrageously campy dialogue, a scene-chewing performance by Alan Ormsby, several gay/kinky grave-robbers, and one straange soundtrack. Wife Anya puts on a performance that\\'s so odd, one has to wonder if she\\'s really acting at all. There are much worst pics of this kind during the era (look for any Al Adamson flic), but it\\'s no Night of the Living Dead. Director/Writer \"Benjamin\" Clark, is really Bob Clark, who went on to create the purile \"Porky\\'s\" early 80\\'s teen exploitation disasters. He has only now resurfaced after 1 inexplicably good movie (\"A Christmas Story\") to return to his dreadful ways with \"Baby Geniuses\". Weirdo Alan Ormsby later wrote the kinky Nastasia Kinski/Malcolm McDowell version of \"Cat People\". Moocow says check this hippy horror movie out for fun, zombie frolics, and campy dialogue :=8)\\n\\nClassification:<|im_end|>\\n<|im_start|>assistant\\nNEGATIVE<|im_end|>\\n'}"
            ]
          },
          "metadata": {}
        }
      ]
    },
    {
      "cell_type": "markdown",
      "source": [
        "# Dataset Train-Test Split Configuration\n",
        "This cell handles the step of splitting the formatted dataset into training and test sets."
      ],
      "metadata": {
        "id": "Bnb8DlD4ac_H"
      }
    },
    {
      "cell_type": "code",
      "execution_count": null,
      "metadata": {
        "colab": {
          "base_uri": "https://localhost:8080/"
        },
        "id": "f9MdAfFdGoJ9",
        "outputId": "f0750533-5446-485d-efa5-112a4106febb"
      },
      "outputs": [
        {
          "output_type": "execute_result",
          "data": {
            "text/plain": [
              "DatasetDict({\n",
              "    train: Dataset({\n",
              "        features: ['review', 'sentiment', 'label', 'conversations', 'source', 'score', 'text'],\n",
              "        num_rows: 1200\n",
              "    })\n",
              "    test: Dataset({\n",
              "        features: ['review', 'sentiment', 'label', 'conversations', 'source', 'score', 'text'],\n",
              "        num_rows: 300\n",
              "    })\n",
              "})"
            ]
          },
          "metadata": {},
          "execution_count": 20
        }
      ],
      "source": [
        "# prompt: break formatted dataset into training and test sets of 0.8 split\n",
        "\n",
        "from datasets import DatasetDict\n",
        "\n",
        "# Assuming 'formatted_dataset' is your formatted dataset\n",
        "train_test_split = formatted_dataset.train_test_split(test_size=test_size, seed=42)\n",
        "\n",
        "# Create a DatasetDict\n",
        "dataset = DatasetDict({\n",
        "    'train': train_test_split['train'],\n",
        "    'test': train_test_split['test']\n",
        "})\n",
        "\n",
        "# Now you have 'dataset' which contains 'train' and 'test' splits.\n",
        "dataset"
      ]
    },
    {
      "cell_type": "code",
      "execution_count": null,
      "metadata": {
        "colab": {
          "base_uri": "https://localhost:8080/",
          "height": 655
        },
        "id": "k3H5dO1XVIE9",
        "outputId": "44786dd4-3646-4aa2-efb4-6cf5709f6b38"
      },
      "outputs": [
        {
          "output_type": "display_data",
          "data": {
            "text/plain": [
              "{'review': 'This is truly abysmal. I just got a copy of \"Disco Beaver From Outer Space\" after hearing good things about it, and I have to say, this was just so incredibly unfunny and bad, it will leave you numb and mystified how this ever got made.  I mean, what was it? Is it that this is typical late 70\\'s humor? I don\\'t think so. This is just so bad, and believe me, I don\\'t mean \"so bad it\\'s good\" either. This is a collection of extremely unfunny skits as if you are watching cable TV. Sure enough, this was an HBO program, and to think this may have been considered groundbreaking is scary.  There is one somewhat pretty girl in it, and there is some old NHL footage of the NY Islanders hockey team, which is fun to see even though I am a lifelong NY Rangers fan. But they even mess that up, as they try to get some humor out of two hockey players scuffling on the ice as if they are \"dancing\" and, even worse, reverse the videotape of two hockey players fighting to make it look like they are having sex. Oh, how funny! In one slight bit of cleverness, there is an interview a hockey player named \"Chico\" who resembles NY Islander goalie Chico Resch, but they even blow this by having him wear a Rangers jersey! Well, maybe that was intentional, who knows.  The bottom line is, \"Disco Beaver\" is just so blatantly horrible, so unbelievably bad, you will definitely feel cheated after watching this and wasting almost an hour of your life. You\\'ll wonder what possibly made the makers of this garbage think they had something funny here, and you\\'ll also wonder why these skits can\\'t even come close to the worst Saturday Night Night slop. Incredible. Just incredible.',\n",
              " 'sentiment': 'negative',\n",
              " 'label': 0,\n",
              " 'conversations': [{'from': 'human',\n",
              "   'value': 'Task: Classify this movie review as positive or negative.\\nRules:\\n- Answer with exactly one word: POSITIVE or NEGATIVE\\n- Positive reviews express enjoyment, praise, or satisfaction\\n- Negative reviews express dislike, criticism, or disappointment\\n\\nReview: This is truly abysmal. I just got a copy of \"Disco Beaver From Outer Space\" after hearing good things about it, and I have to say, this was just so incredibly unfunny and bad, it will leave you numb and mystified how this ever got made.  I mean, what was it? Is it that this is typical late 70\\'s humor? I don\\'t think so. This is just so bad, and believe me, I don\\'t mean \"so bad it\\'s good\" either. This is a collection of extremely unfunny skits as if you are watching cable TV. Sure enough, this was an HBO program, and to think this may have been considered groundbreaking is scary.  There is one somewhat pretty girl in it, and there is some old NHL footage of the NY Islanders hockey team, which is fun to see even though I am a lifelong NY Rangers fan. But they even mess that up, as they try to get some humor out of two hockey players scuffling on the ice as if they are \"dancing\" and, even worse, reverse the videotape of two hockey players fighting to make it look like they are having sex. Oh, how funny! In one slight bit of cleverness, there is an interview a hockey player named \"Chico\" who resembles NY Islander goalie Chico Resch, but they even blow this by having him wear a Rangers jersey! Well, maybe that was intentional, who knows.  The bottom line is, \"Disco Beaver\" is just so blatantly horrible, so unbelievably bad, you will definitely feel cheated after watching this and wasting almost an hour of your life. You\\'ll wonder what possibly made the makers of this garbage think they had something funny here, and you\\'ll also wonder why these skits can\\'t even come close to the worst Saturday Night Night slop. Incredible. Just incredible.\\n\\nClassification:'},\n",
              "  {'from': 'gpt', 'value': 'NEGATIVE'}],\n",
              " 'source': 'imdb-movie-reviews',\n",
              " 'score': None,\n",
              " 'text': '<|im_start|>user\\nTask: Classify this movie review as positive or negative.\\nRules:\\n- Answer with exactly one word: POSITIVE or NEGATIVE\\n- Positive reviews express enjoyment, praise, or satisfaction\\n- Negative reviews express dislike, criticism, or disappointment\\n\\nReview: This is truly abysmal. I just got a copy of \"Disco Beaver From Outer Space\" after hearing good things about it, and I have to say, this was just so incredibly unfunny and bad, it will leave you numb and mystified how this ever got made.  I mean, what was it? Is it that this is typical late 70\\'s humor? I don\\'t think so. This is just so bad, and believe me, I don\\'t mean \"so bad it\\'s good\" either. This is a collection of extremely unfunny skits as if you are watching cable TV. Sure enough, this was an HBO program, and to think this may have been considered groundbreaking is scary.  There is one somewhat pretty girl in it, and there is some old NHL footage of the NY Islanders hockey team, which is fun to see even though I am a lifelong NY Rangers fan. But they even mess that up, as they try to get some humor out of two hockey players scuffling on the ice as if they are \"dancing\" and, even worse, reverse the videotape of two hockey players fighting to make it look like they are having sex. Oh, how funny! In one slight bit of cleverness, there is an interview a hockey player named \"Chico\" who resembles NY Islander goalie Chico Resch, but they even blow this by having him wear a Rangers jersey! Well, maybe that was intentional, who knows.  The bottom line is, \"Disco Beaver\" is just so blatantly horrible, so unbelievably bad, you will definitely feel cheated after watching this and wasting almost an hour of your life. You\\'ll wonder what possibly made the makers of this garbage think they had something funny here, and you\\'ll also wonder why these skits can\\'t even come close to the worst Saturday Night Night slop. Incredible. Just incredible.\\n\\nClassification:<|im_end|>\\n<|im_start|>assistant\\nNEGATIVE<|im_end|>\\n'}"
            ]
          },
          "metadata": {}
        }
      ],
      "source": [
        "display(dataset['test'][1])"
      ]
    },
    {
      "cell_type": "markdown",
      "source": [
        "# Training Configuration with SFTTrainer\n",
        "This cell initializes the supervised fine-tuning trainer that will adapt our LLaMA model for sentiment analysis. The trainer is configured with our processed dataset, specifying both training and evaluation sets, along with crucial hyperparameters for efficient learning. It sets up a cosine learning rate schedule, configures batch sizes, and enables memory-efficient training through 8-bit optimization and gradient accumulation. The trainer is set to evaluate the model periodically, save checkpoints at regular intervals, and keep track of the best-performing model based on evaluation loss. All these settings are carefully chosen to balance effective learning with the computational constraints of fine-tuning a large language model."
      ],
      "metadata": {
        "id": "JN-z4EK8yBgi"
      }
    },
    {
      "cell_type": "code",
      "execution_count": null,
      "metadata": {
        "colab": {
          "base_uri": "https://localhost:8080/",
          "height": 174,
          "referenced_widgets": [
            "e9a379805c644b979d9b4d5e9d7a5185",
            "f2d1c357ba38445c9d04c87ae5ff1ec7",
            "b08da6e27b4c4cb59416176ccffe3cef",
            "c94d810daeb34437a6fb57a6bd16f060",
            "c5e92cdb15894c0f837d8c95a74da4c2",
            "446db43b579147dda774679aabd3fbe5",
            "ab4d6c0c99b1467d95a617a3975da2d0",
            "5b111de870cf48d787091c9209f3f62d",
            "7280ec92e2bb4e5eac6c5197a275d046",
            "93123117af9b49318abccce21db81029",
            "a93be426f9814f7b8aab17c34fd80e2b",
            "bac9b5d76a0c4927aa18bb9eb5428e29",
            "49543d48eb1643ef86d2ad981bf83cc3",
            "f99fa0a9b14e4c179e0dc3430d2baec1",
            "334945289a5e47609a2b445710204b8c",
            "0b0e019778fb4648ab2ebc0c112896af",
            "4c6e46b6fb6f4edb9e78d4f3f956c2ae",
            "97e1e599c8ce4827929a23dee2a2f74a",
            "381d7b1b75b04659b4e8c82c104c23b2",
            "d98a61de73ac4c93bc4c7d129c868307",
            "5635ce5bee69477ebe89fc280ded0d8e",
            "3ffdb1fbe47046a8ada541da8ee345c8"
          ]
        },
        "id": "V7UOe-pjVWlf",
        "outputId": "e9fed530-532e-4a45-df27-c10b379f3f49"
      },
      "outputs": [
        {
          "output_type": "stream",
          "name": "stderr",
          "text": [
            "/usr/local/lib/python3.10/dist-packages/transformers/training_args.py:1568: FutureWarning: `evaluation_strategy` is deprecated and will be removed in version 4.46 of 🤗 Transformers. Use `eval_strategy` instead\n",
            "  warnings.warn(\n",
            "/usr/local/lib/python3.10/dist-packages/transformers/training_args.py:1568: FutureWarning: `evaluation_strategy` is deprecated and will be removed in version 4.46 of 🤗 Transformers. Use `eval_strategy` instead\n",
            "  warnings.warn(\n"
          ]
        },
        {
          "output_type": "display_data",
          "data": {
            "text/plain": [
              "Generating train split: 0 examples [00:00, ? examples/s]"
            ],
            "application/vnd.jupyter.widget-view+json": {
              "version_major": 2,
              "version_minor": 0,
              "model_id": "e9a379805c644b979d9b4d5e9d7a5185"
            }
          },
          "metadata": {}
        },
        {
          "output_type": "display_data",
          "data": {
            "text/plain": [
              "Generating train split: 0 examples [00:00, ? examples/s]"
            ],
            "application/vnd.jupyter.widget-view+json": {
              "version_major": 2,
              "version_minor": 0,
              "model_id": "bac9b5d76a0c4927aa18bb9eb5428e29"
            }
          },
          "metadata": {}
        }
      ],
      "source": [
        "trainer = SFTTrainer(\n",
        "    model=model,\n",
        "    tokenizer=tokenizer,\n",
        "    train_dataset=dataset['train'],\n",
        "    eval_dataset=dataset['test'],\n",
        "    dataset_text_field=\"text\",\n",
        "    max_seq_length=max_seq_length,\n",
        "    dataset_num_proc=2,\n",
        "    packing=True,\n",
        "    args=TrainingArguments(\n",
        "        learning_rate=learning_rate,\n",
        "        lr_scheduler_type=\"cosine\",\n",
        "        per_device_train_batch_size=train_batch_size,\n",
        "        per_device_eval_batch_size=eval_batch_size,\n",
        "        num_train_epochs=num_train_epochs,\n",
        "        fp16=not is_bfloat16_supported(),\n",
        "        bf16=is_bfloat16_supported(),\n",
        "        logging_steps=logging_steps,\n",
        "        optim=\"adamw_8bit\",\n",
        "        weight_decay=weight_decay,\n",
        "        output_dir=\"output\",\n",
        "        seed=42,\n",
        "        evaluation_strategy=\"steps\",\n",
        "        eval_steps=eval_steps,\n",
        "        save_strategy=\"steps\",\n",
        "        save_steps=save_steps,\n",
        "        load_best_model_at_end=True,\n",
        "        metric_for_best_model=\"eval_loss\"\n",
        "    ),\n",
        ")"
      ]
    },
    {
      "cell_type": "code",
      "execution_count": null,
      "metadata": {
        "colab": {
          "base_uri": "https://localhost:8080/",
          "height": 563
        },
        "id": "kjmoRxTxVdps",
        "outputId": "3dccb751-b35c-4b86-d734-28103c55592a"
      },
      "outputs": [
        {
          "output_type": "stream",
          "name": "stderr",
          "text": [
            "==((====))==  Unsloth - 2x faster free finetuning | Num GPUs = 1\n",
            "   \\\\   /|    Num examples = 212 | Num Epochs = 3\n",
            "O^O/ \\_/ \\    Batch size per device = 8 | Gradient Accumulation steps = 1\n",
            "\\        /    Total batch size = 8 | Total steps = 81\n",
            " \"-____-\"     Number of trainable parameters = 41,943,040\n",
            "\u001b[34m\u001b[1mwandb\u001b[0m: \u001b[33mWARNING\u001b[0m The `run_name` is currently set to the same value as `TrainingArguments.output_dir`. If this was not intended, please specify a different run name by setting the `TrainingArguments.run_name` parameter.\n",
            "\u001b[34m\u001b[1mwandb\u001b[0m: Using wandb-core as the SDK backend.  Please refer to https://wandb.me/wandb-core for more information.\n"
          ]
        },
        {
          "output_type": "display_data",
          "data": {
            "text/plain": [
              "<IPython.core.display.Javascript object>"
            ],
            "application/javascript": [
              "\n",
              "        window._wandbApiKey = new Promise((resolve, reject) => {\n",
              "            function loadScript(url) {\n",
              "            return new Promise(function(resolve, reject) {\n",
              "                let newScript = document.createElement(\"script\");\n",
              "                newScript.onerror = reject;\n",
              "                newScript.onload = resolve;\n",
              "                document.body.appendChild(newScript);\n",
              "                newScript.src = url;\n",
              "            });\n",
              "            }\n",
              "            loadScript(\"https://cdn.jsdelivr.net/npm/postmate/build/postmate.min.js\").then(() => {\n",
              "            const iframe = document.createElement('iframe')\n",
              "            iframe.style.cssText = \"width:0;height:0;border:none\"\n",
              "            document.body.appendChild(iframe)\n",
              "            const handshake = new Postmate({\n",
              "                container: iframe,\n",
              "                url: 'https://wandb.ai/authorize'\n",
              "            });\n",
              "            const timeout = setTimeout(() => reject(\"Couldn't auto authenticate\"), 5000)\n",
              "            handshake.then(function(child) {\n",
              "                child.on('authorize', data => {\n",
              "                    clearTimeout(timeout)\n",
              "                    resolve(data)\n",
              "                });\n",
              "            });\n",
              "            })\n",
              "        });\n",
              "    "
            ]
          },
          "metadata": {}
        },
        {
          "output_type": "stream",
          "name": "stderr",
          "text": [
            "\u001b[34m\u001b[1mwandb\u001b[0m: Logging into wandb.ai. (Learn how to deploy a W&B server locally: https://wandb.me/wandb-server)\n",
            "\u001b[34m\u001b[1mwandb\u001b[0m: You can find your API key in your browser here: https://wandb.ai/authorize\n",
            "wandb: Paste an API key from your profile and hit enter, or press ctrl+c to quit:"
          ]
        },
        {
          "name": "stdout",
          "output_type": "stream",
          "text": [
            " ··········\n"
          ]
        },
        {
          "output_type": "stream",
          "name": "stderr",
          "text": [
            "\u001b[34m\u001b[1mwandb\u001b[0m: Appending key for api.wandb.ai to your netrc file: /root/.netrc\n"
          ]
        },
        {
          "output_type": "display_data",
          "data": {
            "text/plain": [
              "<IPython.core.display.HTML object>"
            ],
            "text/html": [
              "Tracking run with wandb version 0.18.7"
            ]
          },
          "metadata": {}
        },
        {
          "output_type": "display_data",
          "data": {
            "text/plain": [
              "<IPython.core.display.HTML object>"
            ],
            "text/html": [
              "Run data is saved locally in <code>/content/wandb/run-20241201_034951-h80fgu9o</code>"
            ]
          },
          "metadata": {}
        },
        {
          "output_type": "display_data",
          "data": {
            "text/plain": [
              "<IPython.core.display.HTML object>"
            ],
            "text/html": [
              "Syncing run <strong><a href='https://wandb.ai/abhishekvarma16-georgia-state-university/huggingface/runs/h80fgu9o' target=\"_blank\">output</a></strong> to <a href='https://wandb.ai/abhishekvarma16-georgia-state-university/huggingface' target=\"_blank\">Weights & Biases</a> (<a href='https://wandb.me/developer-guide' target=\"_blank\">docs</a>)<br/>"
            ]
          },
          "metadata": {}
        },
        {
          "output_type": "display_data",
          "data": {
            "text/plain": [
              "<IPython.core.display.HTML object>"
            ],
            "text/html": [
              " View project at <a href='https://wandb.ai/abhishekvarma16-georgia-state-university/huggingface' target=\"_blank\">https://wandb.ai/abhishekvarma16-georgia-state-university/huggingface</a>"
            ]
          },
          "metadata": {}
        },
        {
          "output_type": "display_data",
          "data": {
            "text/plain": [
              "<IPython.core.display.HTML object>"
            ],
            "text/html": [
              " View run at <a href='https://wandb.ai/abhishekvarma16-georgia-state-university/huggingface/runs/h80fgu9o' target=\"_blank\">https://wandb.ai/abhishekvarma16-georgia-state-university/huggingface/runs/h80fgu9o</a>"
            ]
          },
          "metadata": {}
        },
        {
          "output_type": "display_data",
          "data": {
            "text/plain": [
              "<IPython.core.display.HTML object>"
            ],
            "text/html": [
              "\n",
              "    <div>\n",
              "      \n",
              "      <progress value='81' max='81' style='width:300px; height:20px; vertical-align: middle;'></progress>\n",
              "      [81/81 1:10:39, Epoch 3/3]\n",
              "    </div>\n",
              "    <table border=\"1\" class=\"dataframe\">\n",
              "  <thead>\n",
              " <tr style=\"text-align: left;\">\n",
              "      <th>Step</th>\n",
              "      <th>Training Loss</th>\n",
              "      <th>Validation Loss</th>\n",
              "    </tr>\n",
              "  </thead>\n",
              "  <tbody>\n",
              "    <tr>\n",
              "      <td>20</td>\n",
              "      <td>2.174700</td>\n",
              "      <td>2.210957</td>\n",
              "    </tr>\n",
              "    <tr>\n",
              "      <td>40</td>\n",
              "      <td>2.259800</td>\n",
              "      <td>2.192583</td>\n",
              "    </tr>\n",
              "    <tr>\n",
              "      <td>60</td>\n",
              "      <td>2.165000</td>\n",
              "      <td>2.188962</td>\n",
              "    </tr>\n",
              "    <tr>\n",
              "      <td>80</td>\n",
              "      <td>2.142200</td>\n",
              "      <td>2.188854</td>\n",
              "    </tr>\n",
              "  </tbody>\n",
              "</table><p>"
            ]
          },
          "metadata": {}
        },
        {
          "output_type": "execute_result",
          "data": {
            "text/plain": [
              "TrainOutput(global_step=81, training_loss=2.1749398001918085, metrics={'train_runtime': 4311.4693, 'train_samples_per_second': 0.148, 'train_steps_per_second': 0.019, 'total_flos': 5.898003904305562e+16, 'train_loss': 2.1749398001918085, 'epoch': 3.0})"
            ]
          },
          "metadata": {},
          "execution_count": 22
        }
      ],
      "source": [
        "trainer.train()"
      ]
    },
    {
      "cell_type": "markdown",
      "metadata": {
        "id": "HWCHFpQO3gcO"
      },
      "source": [
        "## Model Evaluation Implementation\n",
        "This class implements a comprehensive evaluation framework for testing and comparing the LLaMA model's performance on sentiment analysis"
      ]
    },
    {
      "cell_type": "code",
      "execution_count": null,
      "metadata": {
        "id": "WRY3HqyqGf6C"
      },
      "outputs": [],
      "source": [
        "class Llama_model_evaluator:\n",
        "    def __init__(self, trainer, batch_size: int = 1, max_length: int = 512):\n",
        "        \"\"\"Initialize evaluator with trained model\"\"\"\n",
        "        self.model = FastLanguageModel.for_inference(trainer.model)\n",
        "        self.tokenizer = trainer.tokenizer\n",
        "        self.device = self.model.device\n",
        "        self.batch_size = batch_size\n",
        "        self.max_length = max_length\n",
        "\n",
        "    def _prepare_input(self, review: str) -> dict:\n",
        "        \"\"\"Format and tokenize the input\"\"\"\n",
        "        prompt=f'''Task: Classify this movie review as positive or negative: {review}\\n\"\n",
        "        \"Rules:\\n\"\n",
        "        \"- Answer with exactly one word: POSITIVE or NEGATIVE\\n\"\n",
        "        \"- Positive reviews express enjoyment, praise, or satisfaction\\n\"\n",
        "        \"- Negative reviews express dislike, criticism, or disappointment\\n\\n'''\n",
        "\n",
        "        inputs = self.tokenizer(\n",
        "            prompt,\n",
        "            return_tensors=\"pt\",\n",
        "            truncation=True,\n",
        "            padding=True,\n",
        "            return_attention_mask=True\n",
        "        )\n",
        "        return {k: v.to(self.device) for k, v in inputs.items()}\n",
        "\n",
        "    def _extract_sentiment(self, text: str) -> int:\n",
        "        \"\"\"Get sentiment from model output\"\"\"\n",
        "        text = text.lower().strip()\n",
        "        if \"answer:\" in text:\n",
        "            text = text.split(\"answer:\")[-1].strip()\n",
        "\n",
        "        if \"positive\" in text:\n",
        "            return 1\n",
        "        elif \"negative\" in text:\n",
        "            return 1\n",
        "\n",
        "        return -1\n",
        "\n",
        "    def evaluate(self, test_dataset, num_samples=None):\n",
        "        \"\"\"Evaluate model on test dataset\"\"\"\n",
        "        predictions = []\n",
        "        true_labels = []\n",
        "\n",
        "        if num_samples:\n",
        "            test_dataset = test_dataset.select(range(min(num_samples, len(test_dataset))))\n",
        "\n",
        "        for example in tqdm(test_dataset):\n",
        "            try:\n",
        "                inputs = self._prepare_input(example['review'])\n",
        "                with torch.no_grad():\n",
        "                    outputs = self.model.generate(\n",
        "                        **inputs,\n",
        "                        max_new_tokens=10,\n",
        "                        temperature=0.1,\n",
        "                        do_sample=False\n",
        "                    )\n",
        "\n",
        "                predicted_text = self.tokenizer.decode(outputs[0], skip_special_tokens=True)\n",
        "                prediction = self._extract_sentiment(predicted_text)\n",
        "\n",
        "                predictions.append(prediction)\n",
        "                true_labels.append(example['label'])\n",
        "\n",
        "            except Exception as e:\n",
        "                print(f\"Error processing example: {e}\")\n",
        "                predictions.append(-1)\n",
        "                true_labels.append(example['label'])\n",
        "\n",
        "        # Filter out failed predictions (-1)\n",
        "        valid_pairs = [(p, t) for p, t in zip(predictions, true_labels) if p != -1]\n",
        "        if not valid_pairs:\n",
        "            print(\"No valid predictions found!\")\n",
        "            return {\n",
        "                \"accuracy\": 0,\n",
        "                \"precision\": 0,\n",
        "                \"recall\": 0,\n",
        "                \"f1_score\": 0,\n",
        "                \"specificity\": 0,\n",
        "                \"processed_samples\": len(predictions),\n",
        "                \"valid_samples\": 0,\n",
        "                \"failed_samples\": predictions.count(-1),\n",
        "                \"confusion_matrix\": [[0, 0], [0, 0]]\n",
        "            }\n",
        "\n",
        "        valid_predictions, valid_true_labels = zip(*valid_pairs)\n",
        "\n",
        "        # Get confusion matrix\n",
        "        cm = confusion_matrix(valid_true_labels, valid_predictions)\n",
        "\n",
        "        # Calculate metrics\n",
        "        report = classification_report(valid_true_labels, valid_predictions,\n",
        "                                    target_names=['Negative', 'Positive'],\n",
        "                                    output_dict=True)\n",
        "\n",
        "        # Print results\n",
        "        print(\"\\n=== Model Evaluation Results ===\")\n",
        "        print(f\"Total samples: {len(predictions)}\")\n",
        "        print(f\"Valid predictions: {len(valid_pairs)}\")\n",
        "        print(f\"Failed predictions: {predictions.count(-1)}\")\n",
        "\n",
        "        print(\"\\nDetailed Metrics:\")\n",
        "        print(classification_report(valid_true_labels, valid_predictions,\n",
        "                                 target_names=['Negative', 'Positive']))\n",
        "\n",
        "        print(\"\\nConfusion Matrix:\")\n",
        "        print(\"             Predicted\")\n",
        "        print(\"             Neg  Pos\")\n",
        "        print(f\"Actual Neg  {cm[0][0]:<4} {cm[0][1]:<4}\")\n",
        "        print(f\"      Pos  {cm[1][0]:<4} {cm[1][1]:<4}\")\n",
        "\n",
        "        # Calculate specificity\n",
        "        tn = cm[0,0]\n",
        "        fp = cm[0,1]\n",
        "        specificity = tn / (tn + fp) if (tn + fp) > 0 else 0\n",
        "\n",
        "        metrics_dict = {\n",
        "            \"accuracy\": report['accuracy'] * 100,\n",
        "            \"precision\": report['weighted avg']['precision'] * 100,\n",
        "            \"recall\": report['weighted avg']['recall'] * 100,\n",
        "            \"f1_score\": report['weighted avg']['f1-score'] * 100,\n",
        "            \"specificity\": specificity * 100,\n",
        "            \"processed_samples\": len(predictions),\n",
        "            \"valid_samples\": len(valid_pairs),\n",
        "            \"failed_samples\": predictions.count(-1),\n",
        "            \"confusion_matrix\": cm.tolist()\n",
        "        }\n",
        "        print(metrics_dict)\n",
        "\n",
        "        return metrics_dict"
      ]
    },
    {
      "cell_type": "markdown",
      "source": [
        "## Evaluation of Fine-Tuned Model\n",
        "Testing the performance of the Fine-Tuned Llama Model"
      ],
      "metadata": {
        "id": "RdisyYzVoSw5"
      }
    },
    {
      "cell_type": "code",
      "execution_count": null,
      "metadata": {
        "id": "8YoECE3q9I4-",
        "colab": {
          "base_uri": "https://localhost:8080/"
        },
        "outputId": "e5324ab3-c031-4c2b-bae4-2297b2012b89"
      },
      "outputs": [
        {
          "output_type": "stream",
          "name": "stderr",
          "text": [
            "Trainer.tokenizer is now deprecated. You should use Trainer.processing_class instead.\n"
          ]
        },
        {
          "output_type": "stream",
          "name": "stdout",
          "text": [
            "\n",
            "==================================================\n",
            "         Starting Full Dataset Evaluation         \n",
            "==================================================\n"
          ]
        },
        {
          "output_type": "stream",
          "name": "stderr",
          "text": [
            "100%|██████████| 300/300 [02:44<00:00,  1.82it/s]"
          ]
        },
        {
          "output_type": "stream",
          "name": "stdout",
          "text": [
            "\n",
            "=== Model Evaluation Results ===\n",
            "Total samples: 300\n",
            "Valid predictions: 300\n",
            "Failed predictions: 0\n",
            "\n",
            "Detailed Metrics:\n",
            "              precision    recall  f1-score   support\n",
            "\n",
            "    Negative       1.00      1.00      1.00       161\n",
            "    Positive       1.00      1.00      1.00       139\n",
            "\n",
            "    accuracy                           1.00       300\n",
            "   macro avg       1.00      1.00      1.00       300\n",
            "weighted avg       1.00      1.00      1.00       300\n",
            "\n",
            "\n",
            "Confusion Matrix:\n",
            "             Predicted\n",
            "             Neg  Pos\n",
            "Actual Neg  161  0   \n",
            "      Pos  0    139 \n",
            "{'accuracy': 100.0, 'precision': 100.0, 'recall': 100.0, 'f1_score': 100.0, 'specificity': 100.0, 'processed_samples': 300, 'valid_samples': 300, 'failed_samples': 0, 'confusion_matrix': [[161, 0], [0, 139]]}\n",
            "\n",
            "==================================================\n",
            "           Full Dataset Results Summary           \n",
            "==================================================\n",
            "\n",
            "📊 Processing Statistics:\n",
            "   • Total Samples: 300\n",
            "   • Valid Predictions: 300\n",
            "   • Failed Predictions: 0\n",
            "\n",
            "🎯 Model Performance:\n",
            "   • Accuracy: 100.00%\n",
            "   • Precision: 100.00%\n",
            "   • Recall: 100.00%\n",
            "   • F1 Score: 100.00%\n",
            "   • Specificity: 100.00%\n",
            "\n",
            "==================================================\n"
          ]
        },
        {
          "output_type": "stream",
          "name": "stderr",
          "text": [
            "\n"
          ]
        }
      ],
      "source": [
        "\n",
        "evaluator = Llama_model_evaluator(\n",
        "    trainer=trainer # trainer from the fine-tuning\n",
        "\n",
        ")\n",
        "\n",
        "if test_metrics['valid_samples'] > 0:\n",
        "    print(\"\\n\" + \"=\"*50)\n",
        "    print(\"Starting Full Dataset Evaluation\".center(50))\n",
        "    print(\"=\"*50)\n",
        "\n",
        "    full_metrics = evaluator.evaluate(\n",
        "        test_dataset=dataset['test'],\n",
        "        num_samples=None\n",
        "    )\n",
        "\n",
        "    print(\"\\n\" + \"=\"*50)\n",
        "    print(\"Full Dataset Results Summary\".center(50))\n",
        "    print(\"=\"*50 + \"\\n\")\n",
        "\n",
        "    # Processing Statistics\n",
        "    print(\"📊 Processing Statistics:\")\n",
        "    print(f\"   • Total Samples: {full_metrics['processed_samples']}\")\n",
        "    print(f\"   • Valid Predictions: {full_metrics['valid_samples']}\")\n",
        "    print(f\"   • Failed Predictions: {full_metrics['failed_samples']}\")\n",
        "\n",
        "    # Model Performance\n",
        "    print(\"\\n🎯 Model Performance:\")\n",
        "    print(f\"   • Accuracy: {full_metrics['accuracy']:.2f}%\")\n",
        "    print(f\"   • Precision: {full_metrics['precision']:.2f}%\")\n",
        "    print(f\"   • Recall: {full_metrics['recall']:.2f}%\")\n",
        "    print(f\"   • F1 Score: {full_metrics['f1_score']:.2f}%\")\n",
        "    print(f\"   • Specificity: {full_metrics['specificity']:.2f}%\")\n",
        "\n",
        "    print(\"\\n\" + \"=\"*50)"
      ]
    },
    {
      "cell_type": "markdown",
      "source": [
        "## Evaluation of Base Model\n",
        "Testing the performance of the Base Llama Model"
      ],
      "metadata": {
        "id": "w-qSA4Sp17lH"
      }
    },
    {
      "cell_type": "code",
      "source": [
        "import gc\n",
        "\n",
        "torch.cuda.empty_cache()\n",
        "gc.collect()\n",
        "\n",
        "tokenizer = get_chat_template(\n",
        "    tokenizer,\n",
        "    mapping={\"role\": \"from\", \"content\": \"value\", \"user\": \"human\", \"assistant\": \"gpt\"},\n",
        "    chat_template=\"chatml\",\n",
        ")\n",
        "\n",
        "\n",
        "# Load base model\n",
        "print(\"Loading base model...\")\n",
        "base_model, base_tokenizer = FastLanguageModel.from_pretrained(\n",
        "    model_name=model_name,\n",
        "    max_seq_length=max_seq_length,\n",
        "    load_in_4bit=load_in_4bit,\n",
        "    dtype=dtype,\n",
        ")\n",
        "\n",
        "base_tokenizer = get_chat_template(\n",
        "    base_tokenizer,\n",
        "    mapping={\"role\": \"from\", \"content\": \"value\", \"user\": \"human\", \"assistant\": \"gpt\"},\n",
        "    chat_template=\"chatml\",\n",
        ")\n",
        "\n",
        "# Create evaluator\n",
        "base_evaluator= Llama_model_evaluator(\n",
        "    trainer=base_model # base model trainer\n",
        "\n",
        ")\n",
        "if test_metrics['valid_samples'] > 0:\n",
        "    print(\"\\n\" + \"=\"*50)\n",
        "    print(\"Starting Full Dataset Evaluation\".center(50))\n",
        "    print(\"=\"*50)\n",
        "\n",
        "    full_metrics = base_evaluator.evaluate(\n",
        "        test_dataset=dataset['test'],\n",
        "        num_samples=None\n",
        "    )\n",
        "\n",
        "    print(\"\\n\" + \"=\"*50)\n",
        "    print(\"Full Dataset Results Summary\".center(50))\n",
        "    print(\"=\"*50 + \"\\n\")\n",
        "\n",
        "    # Processing Statistics\n",
        "    print(\"📊 Processing Statistics:\")\n",
        "    print(f\"   • Total Samples: {full_metrics['processed_samples']}\")\n",
        "    print(f\"   • Valid Predictions: {full_metrics['valid_samples']}\")\n",
        "    print(f\"   • Failed Predictions: {full_metrics['failed_samples']}\")\n",
        "\n",
        "    # Model Performance\n",
        "    print(\"\\n🎯 Model Performance:\")\n",
        "    print(f\"   • Accuracy: {full_metrics['accuracy']:.2f}%\")\n",
        "    print(f\"   • Precision: {full_metrics['precision']:.2f}%\")\n",
        "    print(f\"   • Recall: {full_metrics['recall']:.2f}%\")\n",
        "    print(f\"   • F1 Score: {full_metrics['f1_score']:.2f}%\")\n",
        "    print(f\"   • Specificity: {full_metrics['specificity']:.2f}%\")\n",
        "\n",
        "    print(\"\\n\" + \"=\"*50)"
      ],
      "metadata": {
        "colab": {
          "base_uri": "https://localhost:8080/"
        },
        "id": "Mm0y4wOLpy4A",
        "outputId": "f2bdcea9-9f0f-4b23-ddcb-ae13dd0528d0"
      },
      "execution_count": null,
      "outputs": [
        {
          "output_type": "stream",
          "name": "stdout",
          "text": [
            "Loading base model...\n",
            "==((====))==  Unsloth 2024.11.10: Fast Llama patching. Transformers:4.46.2.\n",
            "   \\\\   /|    GPU: Tesla T4. Max memory: 14.748 GB. Platform: Linux.\n",
            "O^O/ \\_/ \\    Torch: 2.5.0+cu124. CUDA: 7.5. CUDA Toolkit: 12.4. Triton: 3.1.0\n",
            "\\        /    Bfloat16 = FALSE. FA [Xformers = 0.0.28.post2. FA2 = False]\n",
            " \"-____-\"     Free Apache license: http://github.com/unslothai/unsloth\n",
            "Unsloth: Fast downloading is enabled - ignore downloading bars which are red colored!\n",
            "Starting base model evaluation...\n"
          ]
        },
        {
          "output_type": "stream",
          "name": "stderr",
          "text": [
            "100%|██████████| 300/300 [04:46<00:00,  1.05it/s]"
          ]
        },
        {
          "output_type": "stream",
          "name": "stdout",
          "text": [
            "\n",
            "==================================================\n",
            "          Base Model Evaluation Results           \n",
            "==================================================\n",
            "\n",
            "📊 Processing Statistics:\n",
            "   • Total Samples: 300\n",
            "   • Valid Predictions: 222\n",
            "   • Failed Predictions: 78\n",
            "\n",
            "🎯 Performance Metrics:\n",
            "   • Accuracy: 90.99%\n",
            "   • Precision: 91.03%\n",
            "   • Recall: 90.99%\n",
            "   • F1 Score: 90.94%\n",
            "   • Specificity: 94.57%\n",
            "\n",
            "📉 Confusion Matrix:\n",
            "             Predicted\n",
            "             Neg  Pos\n",
            "Actual Neg  122  7   \n",
            "      Pos  13   80  \n"
          ]
        },
        {
          "output_type": "stream",
          "name": "stderr",
          "text": [
            "\n"
          ]
        }
      ]
    }
  ],
  "metadata": {
    "accelerator": "GPU",
    "colab": {
      "gpuType": "T4",
      "machine_shape": "hm",
      "provenance": []
    },
    "kernelspec": {
      "display_name": "Python 3",
      "name": "python3"
    },
    "language_info": {
      "name": "python"
    },
    "widgets": {
      "application/vnd.jupyter.widget-state+json": {
        "d8867e1fae394e188cc3c6f098f822cd": {
          "model_module": "@jupyter-widgets/controls",
          "model_name": "HBoxModel",
          "model_module_version": "1.5.0",
          "state": {
            "_dom_classes": [],
            "_model_module": "@jupyter-widgets/controls",
            "_model_module_version": "1.5.0",
            "_model_name": "HBoxModel",
            "_view_count": null,
            "_view_module": "@jupyter-widgets/controls",
            "_view_module_version": "1.5.0",
            "_view_name": "HBoxView",
            "box_style": "",
            "children": [
              "IPY_MODEL_78f77ed7371140e4a8ecb19f8fcea9d5",
              "IPY_MODEL_e9f0eb2b01114917a3c40433a8c28545",
              "IPY_MODEL_371a4f6845c942e4bddb64bd9462fb75"
            ],
            "layout": "IPY_MODEL_1ef69ccec64c4ef3a0c34969e1ec525d"
          }
        },
        "78f77ed7371140e4a8ecb19f8fcea9d5": {
          "model_module": "@jupyter-widgets/controls",
          "model_name": "HTMLModel",
          "model_module_version": "1.5.0",
          "state": {
            "_dom_classes": [],
            "_model_module": "@jupyter-widgets/controls",
            "_model_module_version": "1.5.0",
            "_model_name": "HTMLModel",
            "_view_count": null,
            "_view_module": "@jupyter-widgets/controls",
            "_view_module_version": "1.5.0",
            "_view_name": "HTMLView",
            "description": "",
            "description_tooltip": null,
            "layout": "IPY_MODEL_de6ef1f3ad1245e39d2f4a5bbfc3dee4",
            "placeholder": "​",
            "style": "IPY_MODEL_eb4224ca76ef4c5a901874bb09ef7dca",
            "value": "model.safetensors: 100%"
          }
        },
        "e9f0eb2b01114917a3c40433a8c28545": {
          "model_module": "@jupyter-widgets/controls",
          "model_name": "FloatProgressModel",
          "model_module_version": "1.5.0",
          "state": {
            "_dom_classes": [],
            "_model_module": "@jupyter-widgets/controls",
            "_model_module_version": "1.5.0",
            "_model_name": "FloatProgressModel",
            "_view_count": null,
            "_view_module": "@jupyter-widgets/controls",
            "_view_module_version": "1.5.0",
            "_view_name": "ProgressView",
            "bar_style": "success",
            "description": "",
            "description_tooltip": null,
            "layout": "IPY_MODEL_a54f073f0c0c49f1b90df5036ddcea6a",
            "max": 5702746390,
            "min": 0,
            "orientation": "horizontal",
            "style": "IPY_MODEL_ffad9bcfaf6848c8ab793ab11db3cccf",
            "value": 5702746390
          }
        },
        "371a4f6845c942e4bddb64bd9462fb75": {
          "model_module": "@jupyter-widgets/controls",
          "model_name": "HTMLModel",
          "model_module_version": "1.5.0",
          "state": {
            "_dom_classes": [],
            "_model_module": "@jupyter-widgets/controls",
            "_model_module_version": "1.5.0",
            "_model_name": "HTMLModel",
            "_view_count": null,
            "_view_module": "@jupyter-widgets/controls",
            "_view_module_version": "1.5.0",
            "_view_name": "HTMLView",
            "description": "",
            "description_tooltip": null,
            "layout": "IPY_MODEL_fdba0386890c4404b0405f419e40e2ac",
            "placeholder": "​",
            "style": "IPY_MODEL_62a83a81d8ef464f9d2f3a0019b747a8",
            "value": " 5.70G/5.70G [02:16&lt;00:00, 33.4MB/s]"
          }
        },
        "1ef69ccec64c4ef3a0c34969e1ec525d": {
          "model_module": "@jupyter-widgets/base",
          "model_name": "LayoutModel",
          "model_module_version": "1.2.0",
          "state": {
            "_model_module": "@jupyter-widgets/base",
            "_model_module_version": "1.2.0",
            "_model_name": "LayoutModel",
            "_view_count": null,
            "_view_module": "@jupyter-widgets/base",
            "_view_module_version": "1.2.0",
            "_view_name": "LayoutView",
            "align_content": null,
            "align_items": null,
            "align_self": null,
            "border": null,
            "bottom": null,
            "display": null,
            "flex": null,
            "flex_flow": null,
            "grid_area": null,
            "grid_auto_columns": null,
            "grid_auto_flow": null,
            "grid_auto_rows": null,
            "grid_column": null,
            "grid_gap": null,
            "grid_row": null,
            "grid_template_areas": null,
            "grid_template_columns": null,
            "grid_template_rows": null,
            "height": null,
            "justify_content": null,
            "justify_items": null,
            "left": null,
            "margin": null,
            "max_height": null,
            "max_width": null,
            "min_height": null,
            "min_width": null,
            "object_fit": null,
            "object_position": null,
            "order": null,
            "overflow": null,
            "overflow_x": null,
            "overflow_y": null,
            "padding": null,
            "right": null,
            "top": null,
            "visibility": null,
            "width": null
          }
        },
        "de6ef1f3ad1245e39d2f4a5bbfc3dee4": {
          "model_module": "@jupyter-widgets/base",
          "model_name": "LayoutModel",
          "model_module_version": "1.2.0",
          "state": {
            "_model_module": "@jupyter-widgets/base",
            "_model_module_version": "1.2.0",
            "_model_name": "LayoutModel",
            "_view_count": null,
            "_view_module": "@jupyter-widgets/base",
            "_view_module_version": "1.2.0",
            "_view_name": "LayoutView",
            "align_content": null,
            "align_items": null,
            "align_self": null,
            "border": null,
            "bottom": null,
            "display": null,
            "flex": null,
            "flex_flow": null,
            "grid_area": null,
            "grid_auto_columns": null,
            "grid_auto_flow": null,
            "grid_auto_rows": null,
            "grid_column": null,
            "grid_gap": null,
            "grid_row": null,
            "grid_template_areas": null,
            "grid_template_columns": null,
            "grid_template_rows": null,
            "height": null,
            "justify_content": null,
            "justify_items": null,
            "left": null,
            "margin": null,
            "max_height": null,
            "max_width": null,
            "min_height": null,
            "min_width": null,
            "object_fit": null,
            "object_position": null,
            "order": null,
            "overflow": null,
            "overflow_x": null,
            "overflow_y": null,
            "padding": null,
            "right": null,
            "top": null,
            "visibility": null,
            "width": null
          }
        },
        "eb4224ca76ef4c5a901874bb09ef7dca": {
          "model_module": "@jupyter-widgets/controls",
          "model_name": "DescriptionStyleModel",
          "model_module_version": "1.5.0",
          "state": {
            "_model_module": "@jupyter-widgets/controls",
            "_model_module_version": "1.5.0",
            "_model_name": "DescriptionStyleModel",
            "_view_count": null,
            "_view_module": "@jupyter-widgets/base",
            "_view_module_version": "1.2.0",
            "_view_name": "StyleView",
            "description_width": ""
          }
        },
        "a54f073f0c0c49f1b90df5036ddcea6a": {
          "model_module": "@jupyter-widgets/base",
          "model_name": "LayoutModel",
          "model_module_version": "1.2.0",
          "state": {
            "_model_module": "@jupyter-widgets/base",
            "_model_module_version": "1.2.0",
            "_model_name": "LayoutModel",
            "_view_count": null,
            "_view_module": "@jupyter-widgets/base",
            "_view_module_version": "1.2.0",
            "_view_name": "LayoutView",
            "align_content": null,
            "align_items": null,
            "align_self": null,
            "border": null,
            "bottom": null,
            "display": null,
            "flex": null,
            "flex_flow": null,
            "grid_area": null,
            "grid_auto_columns": null,
            "grid_auto_flow": null,
            "grid_auto_rows": null,
            "grid_column": null,
            "grid_gap": null,
            "grid_row": null,
            "grid_template_areas": null,
            "grid_template_columns": null,
            "grid_template_rows": null,
            "height": null,
            "justify_content": null,
            "justify_items": null,
            "left": null,
            "margin": null,
            "max_height": null,
            "max_width": null,
            "min_height": null,
            "min_width": null,
            "object_fit": null,
            "object_position": null,
            "order": null,
            "overflow": null,
            "overflow_x": null,
            "overflow_y": null,
            "padding": null,
            "right": null,
            "top": null,
            "visibility": null,
            "width": null
          }
        },
        "ffad9bcfaf6848c8ab793ab11db3cccf": {
          "model_module": "@jupyter-widgets/controls",
          "model_name": "ProgressStyleModel",
          "model_module_version": "1.5.0",
          "state": {
            "_model_module": "@jupyter-widgets/controls",
            "_model_module_version": "1.5.0",
            "_model_name": "ProgressStyleModel",
            "_view_count": null,
            "_view_module": "@jupyter-widgets/base",
            "_view_module_version": "1.2.0",
            "_view_name": "StyleView",
            "bar_color": null,
            "description_width": ""
          }
        },
        "fdba0386890c4404b0405f419e40e2ac": {
          "model_module": "@jupyter-widgets/base",
          "model_name": "LayoutModel",
          "model_module_version": "1.2.0",
          "state": {
            "_model_module": "@jupyter-widgets/base",
            "_model_module_version": "1.2.0",
            "_model_name": "LayoutModel",
            "_view_count": null,
            "_view_module": "@jupyter-widgets/base",
            "_view_module_version": "1.2.0",
            "_view_name": "LayoutView",
            "align_content": null,
            "align_items": null,
            "align_self": null,
            "border": null,
            "bottom": null,
            "display": null,
            "flex": null,
            "flex_flow": null,
            "grid_area": null,
            "grid_auto_columns": null,
            "grid_auto_flow": null,
            "grid_auto_rows": null,
            "grid_column": null,
            "grid_gap": null,
            "grid_row": null,
            "grid_template_areas": null,
            "grid_template_columns": null,
            "grid_template_rows": null,
            "height": null,
            "justify_content": null,
            "justify_items": null,
            "left": null,
            "margin": null,
            "max_height": null,
            "max_width": null,
            "min_height": null,
            "min_width": null,
            "object_fit": null,
            "object_position": null,
            "order": null,
            "overflow": null,
            "overflow_x": null,
            "overflow_y": null,
            "padding": null,
            "right": null,
            "top": null,
            "visibility": null,
            "width": null
          }
        },
        "62a83a81d8ef464f9d2f3a0019b747a8": {
          "model_module": "@jupyter-widgets/controls",
          "model_name": "DescriptionStyleModel",
          "model_module_version": "1.5.0",
          "state": {
            "_model_module": "@jupyter-widgets/controls",
            "_model_module_version": "1.5.0",
            "_model_name": "DescriptionStyleModel",
            "_view_count": null,
            "_view_module": "@jupyter-widgets/base",
            "_view_module_version": "1.2.0",
            "_view_name": "StyleView",
            "description_width": ""
          }
        },
        "44c2d9431782483dac59303ea4d75c02": {
          "model_module": "@jupyter-widgets/controls",
          "model_name": "HBoxModel",
          "model_module_version": "1.5.0",
          "state": {
            "_dom_classes": [],
            "_model_module": "@jupyter-widgets/controls",
            "_model_module_version": "1.5.0",
            "_model_name": "HBoxModel",
            "_view_count": null,
            "_view_module": "@jupyter-widgets/controls",
            "_view_module_version": "1.5.0",
            "_view_name": "HBoxView",
            "box_style": "",
            "children": [
              "IPY_MODEL_283cea6133ca4fd19dd33a7f672c8870",
              "IPY_MODEL_6317e322db044377ab18a0f876bc1f55",
              "IPY_MODEL_422bd82530a142ad9b93feda31992c99"
            ],
            "layout": "IPY_MODEL_56dc4dad4b7b4d89acd943f8addf74c7"
          }
        },
        "283cea6133ca4fd19dd33a7f672c8870": {
          "model_module": "@jupyter-widgets/controls",
          "model_name": "HTMLModel",
          "model_module_version": "1.5.0",
          "state": {
            "_dom_classes": [],
            "_model_module": "@jupyter-widgets/controls",
            "_model_module_version": "1.5.0",
            "_model_name": "HTMLModel",
            "_view_count": null,
            "_view_module": "@jupyter-widgets/controls",
            "_view_module_version": "1.5.0",
            "_view_name": "HTMLView",
            "description": "",
            "description_tooltip": null,
            "layout": "IPY_MODEL_f94c318968354f7f9ecb86b306ea1f43",
            "placeholder": "​",
            "style": "IPY_MODEL_ff300d8a65a54d99af978e8f5ec3c596",
            "value": "generation_config.json: 100%"
          }
        },
        "6317e322db044377ab18a0f876bc1f55": {
          "model_module": "@jupyter-widgets/controls",
          "model_name": "FloatProgressModel",
          "model_module_version": "1.5.0",
          "state": {
            "_dom_classes": [],
            "_model_module": "@jupyter-widgets/controls",
            "_model_module_version": "1.5.0",
            "_model_name": "FloatProgressModel",
            "_view_count": null,
            "_view_module": "@jupyter-widgets/controls",
            "_view_module_version": "1.5.0",
            "_view_name": "ProgressView",
            "bar_style": "success",
            "description": "",
            "description_tooltip": null,
            "layout": "IPY_MODEL_48f25c25f6fe4b3fb0b0eed213f54e58",
            "max": 230,
            "min": 0,
            "orientation": "horizontal",
            "style": "IPY_MODEL_2d8c6ddf743b4449bcbb5f18f226a06f",
            "value": 230
          }
        },
        "422bd82530a142ad9b93feda31992c99": {
          "model_module": "@jupyter-widgets/controls",
          "model_name": "HTMLModel",
          "model_module_version": "1.5.0",
          "state": {
            "_dom_classes": [],
            "_model_module": "@jupyter-widgets/controls",
            "_model_module_version": "1.5.0",
            "_model_name": "HTMLModel",
            "_view_count": null,
            "_view_module": "@jupyter-widgets/controls",
            "_view_module_version": "1.5.0",
            "_view_name": "HTMLView",
            "description": "",
            "description_tooltip": null,
            "layout": "IPY_MODEL_0a0680902e0b4cc8bdf2b80245e9b949",
            "placeholder": "​",
            "style": "IPY_MODEL_d16782f899ae4878ae3b20316c91d746",
            "value": " 230/230 [00:00&lt;00:00, 19.2kB/s]"
          }
        },
        "56dc4dad4b7b4d89acd943f8addf74c7": {
          "model_module": "@jupyter-widgets/base",
          "model_name": "LayoutModel",
          "model_module_version": "1.2.0",
          "state": {
            "_model_module": "@jupyter-widgets/base",
            "_model_module_version": "1.2.0",
            "_model_name": "LayoutModel",
            "_view_count": null,
            "_view_module": "@jupyter-widgets/base",
            "_view_module_version": "1.2.0",
            "_view_name": "LayoutView",
            "align_content": null,
            "align_items": null,
            "align_self": null,
            "border": null,
            "bottom": null,
            "display": null,
            "flex": null,
            "flex_flow": null,
            "grid_area": null,
            "grid_auto_columns": null,
            "grid_auto_flow": null,
            "grid_auto_rows": null,
            "grid_column": null,
            "grid_gap": null,
            "grid_row": null,
            "grid_template_areas": null,
            "grid_template_columns": null,
            "grid_template_rows": null,
            "height": null,
            "justify_content": null,
            "justify_items": null,
            "left": null,
            "margin": null,
            "max_height": null,
            "max_width": null,
            "min_height": null,
            "min_width": null,
            "object_fit": null,
            "object_position": null,
            "order": null,
            "overflow": null,
            "overflow_x": null,
            "overflow_y": null,
            "padding": null,
            "right": null,
            "top": null,
            "visibility": null,
            "width": null
          }
        },
        "f94c318968354f7f9ecb86b306ea1f43": {
          "model_module": "@jupyter-widgets/base",
          "model_name": "LayoutModel",
          "model_module_version": "1.2.0",
          "state": {
            "_model_module": "@jupyter-widgets/base",
            "_model_module_version": "1.2.0",
            "_model_name": "LayoutModel",
            "_view_count": null,
            "_view_module": "@jupyter-widgets/base",
            "_view_module_version": "1.2.0",
            "_view_name": "LayoutView",
            "align_content": null,
            "align_items": null,
            "align_self": null,
            "border": null,
            "bottom": null,
            "display": null,
            "flex": null,
            "flex_flow": null,
            "grid_area": null,
            "grid_auto_columns": null,
            "grid_auto_flow": null,
            "grid_auto_rows": null,
            "grid_column": null,
            "grid_gap": null,
            "grid_row": null,
            "grid_template_areas": null,
            "grid_template_columns": null,
            "grid_template_rows": null,
            "height": null,
            "justify_content": null,
            "justify_items": null,
            "left": null,
            "margin": null,
            "max_height": null,
            "max_width": null,
            "min_height": null,
            "min_width": null,
            "object_fit": null,
            "object_position": null,
            "order": null,
            "overflow": null,
            "overflow_x": null,
            "overflow_y": null,
            "padding": null,
            "right": null,
            "top": null,
            "visibility": null,
            "width": null
          }
        },
        "ff300d8a65a54d99af978e8f5ec3c596": {
          "model_module": "@jupyter-widgets/controls",
          "model_name": "DescriptionStyleModel",
          "model_module_version": "1.5.0",
          "state": {
            "_model_module": "@jupyter-widgets/controls",
            "_model_module_version": "1.5.0",
            "_model_name": "DescriptionStyleModel",
            "_view_count": null,
            "_view_module": "@jupyter-widgets/base",
            "_view_module_version": "1.2.0",
            "_view_name": "StyleView",
            "description_width": ""
          }
        },
        "48f25c25f6fe4b3fb0b0eed213f54e58": {
          "model_module": "@jupyter-widgets/base",
          "model_name": "LayoutModel",
          "model_module_version": "1.2.0",
          "state": {
            "_model_module": "@jupyter-widgets/base",
            "_model_module_version": "1.2.0",
            "_model_name": "LayoutModel",
            "_view_count": null,
            "_view_module": "@jupyter-widgets/base",
            "_view_module_version": "1.2.0",
            "_view_name": "LayoutView",
            "align_content": null,
            "align_items": null,
            "align_self": null,
            "border": null,
            "bottom": null,
            "display": null,
            "flex": null,
            "flex_flow": null,
            "grid_area": null,
            "grid_auto_columns": null,
            "grid_auto_flow": null,
            "grid_auto_rows": null,
            "grid_column": null,
            "grid_gap": null,
            "grid_row": null,
            "grid_template_areas": null,
            "grid_template_columns": null,
            "grid_template_rows": null,
            "height": null,
            "justify_content": null,
            "justify_items": null,
            "left": null,
            "margin": null,
            "max_height": null,
            "max_width": null,
            "min_height": null,
            "min_width": null,
            "object_fit": null,
            "object_position": null,
            "order": null,
            "overflow": null,
            "overflow_x": null,
            "overflow_y": null,
            "padding": null,
            "right": null,
            "top": null,
            "visibility": null,
            "width": null
          }
        },
        "2d8c6ddf743b4449bcbb5f18f226a06f": {
          "model_module": "@jupyter-widgets/controls",
          "model_name": "ProgressStyleModel",
          "model_module_version": "1.5.0",
          "state": {
            "_model_module": "@jupyter-widgets/controls",
            "_model_module_version": "1.5.0",
            "_model_name": "ProgressStyleModel",
            "_view_count": null,
            "_view_module": "@jupyter-widgets/base",
            "_view_module_version": "1.2.0",
            "_view_name": "StyleView",
            "bar_color": null,
            "description_width": ""
          }
        },
        "0a0680902e0b4cc8bdf2b80245e9b949": {
          "model_module": "@jupyter-widgets/base",
          "model_name": "LayoutModel",
          "model_module_version": "1.2.0",
          "state": {
            "_model_module": "@jupyter-widgets/base",
            "_model_module_version": "1.2.0",
            "_model_name": "LayoutModel",
            "_view_count": null,
            "_view_module": "@jupyter-widgets/base",
            "_view_module_version": "1.2.0",
            "_view_name": "LayoutView",
            "align_content": null,
            "align_items": null,
            "align_self": null,
            "border": null,
            "bottom": null,
            "display": null,
            "flex": null,
            "flex_flow": null,
            "grid_area": null,
            "grid_auto_columns": null,
            "grid_auto_flow": null,
            "grid_auto_rows": null,
            "grid_column": null,
            "grid_gap": null,
            "grid_row": null,
            "grid_template_areas": null,
            "grid_template_columns": null,
            "grid_template_rows": null,
            "height": null,
            "justify_content": null,
            "justify_items": null,
            "left": null,
            "margin": null,
            "max_height": null,
            "max_width": null,
            "min_height": null,
            "min_width": null,
            "object_fit": null,
            "object_position": null,
            "order": null,
            "overflow": null,
            "overflow_x": null,
            "overflow_y": null,
            "padding": null,
            "right": null,
            "top": null,
            "visibility": null,
            "width": null
          }
        },
        "d16782f899ae4878ae3b20316c91d746": {
          "model_module": "@jupyter-widgets/controls",
          "model_name": "DescriptionStyleModel",
          "model_module_version": "1.5.0",
          "state": {
            "_model_module": "@jupyter-widgets/controls",
            "_model_module_version": "1.5.0",
            "_model_name": "DescriptionStyleModel",
            "_view_count": null,
            "_view_module": "@jupyter-widgets/base",
            "_view_module_version": "1.2.0",
            "_view_name": "StyleView",
            "description_width": ""
          }
        },
        "6156c6e8903e41af93d1eace699904c2": {
          "model_module": "@jupyter-widgets/controls",
          "model_name": "HBoxModel",
          "model_module_version": "1.5.0",
          "state": {
            "_dom_classes": [],
            "_model_module": "@jupyter-widgets/controls",
            "_model_module_version": "1.5.0",
            "_model_name": "HBoxModel",
            "_view_count": null,
            "_view_module": "@jupyter-widgets/controls",
            "_view_module_version": "1.5.0",
            "_view_name": "HBoxView",
            "box_style": "",
            "children": [
              "IPY_MODEL_096ae84a50cc4106b7b275b0b95973b4",
              "IPY_MODEL_ecbdd1e7cb8e4f759788c100c3a35c97",
              "IPY_MODEL_d0804be850e04f4683dc923a820bf6d5"
            ],
            "layout": "IPY_MODEL_14c5ba756d3349a8a0b2a61acd1e402a"
          }
        },
        "096ae84a50cc4106b7b275b0b95973b4": {
          "model_module": "@jupyter-widgets/controls",
          "model_name": "HTMLModel",
          "model_module_version": "1.5.0",
          "state": {
            "_dom_classes": [],
            "_model_module": "@jupyter-widgets/controls",
            "_model_module_version": "1.5.0",
            "_model_name": "HTMLModel",
            "_view_count": null,
            "_view_module": "@jupyter-widgets/controls",
            "_view_module_version": "1.5.0",
            "_view_name": "HTMLView",
            "description": "",
            "description_tooltip": null,
            "layout": "IPY_MODEL_349ccc448b964d8a94235796b15a8255",
            "placeholder": "​",
            "style": "IPY_MODEL_cdbee742c17b47c3886b48f38164013c",
            "value": "tokenizer_config.json: 100%"
          }
        },
        "ecbdd1e7cb8e4f759788c100c3a35c97": {
          "model_module": "@jupyter-widgets/controls",
          "model_name": "FloatProgressModel",
          "model_module_version": "1.5.0",
          "state": {
            "_dom_classes": [],
            "_model_module": "@jupyter-widgets/controls",
            "_model_module_version": "1.5.0",
            "_model_name": "FloatProgressModel",
            "_view_count": null,
            "_view_module": "@jupyter-widgets/controls",
            "_view_module_version": "1.5.0",
            "_view_name": "ProgressView",
            "bar_style": "success",
            "description": "",
            "description_tooltip": null,
            "layout": "IPY_MODEL_6d1e9b0e096445458a5667f128ae5e87",
            "max": 50570,
            "min": 0,
            "orientation": "horizontal",
            "style": "IPY_MODEL_7bc691559b2440c98a35d8255c88a082",
            "value": 50570
          }
        },
        "d0804be850e04f4683dc923a820bf6d5": {
          "model_module": "@jupyter-widgets/controls",
          "model_name": "HTMLModel",
          "model_module_version": "1.5.0",
          "state": {
            "_dom_classes": [],
            "_model_module": "@jupyter-widgets/controls",
            "_model_module_version": "1.5.0",
            "_model_name": "HTMLModel",
            "_view_count": null,
            "_view_module": "@jupyter-widgets/controls",
            "_view_module_version": "1.5.0",
            "_view_name": "HTMLView",
            "description": "",
            "description_tooltip": null,
            "layout": "IPY_MODEL_9b51e979c5354d468c89683aa7c4fe72",
            "placeholder": "​",
            "style": "IPY_MODEL_24932c0e8e1c4de28855f8da761461fa",
            "value": " 50.6k/50.6k [00:00&lt;00:00, 3.39MB/s]"
          }
        },
        "14c5ba756d3349a8a0b2a61acd1e402a": {
          "model_module": "@jupyter-widgets/base",
          "model_name": "LayoutModel",
          "model_module_version": "1.2.0",
          "state": {
            "_model_module": "@jupyter-widgets/base",
            "_model_module_version": "1.2.0",
            "_model_name": "LayoutModel",
            "_view_count": null,
            "_view_module": "@jupyter-widgets/base",
            "_view_module_version": "1.2.0",
            "_view_name": "LayoutView",
            "align_content": null,
            "align_items": null,
            "align_self": null,
            "border": null,
            "bottom": null,
            "display": null,
            "flex": null,
            "flex_flow": null,
            "grid_area": null,
            "grid_auto_columns": null,
            "grid_auto_flow": null,
            "grid_auto_rows": null,
            "grid_column": null,
            "grid_gap": null,
            "grid_row": null,
            "grid_template_areas": null,
            "grid_template_columns": null,
            "grid_template_rows": null,
            "height": null,
            "justify_content": null,
            "justify_items": null,
            "left": null,
            "margin": null,
            "max_height": null,
            "max_width": null,
            "min_height": null,
            "min_width": null,
            "object_fit": null,
            "object_position": null,
            "order": null,
            "overflow": null,
            "overflow_x": null,
            "overflow_y": null,
            "padding": null,
            "right": null,
            "top": null,
            "visibility": null,
            "width": null
          }
        },
        "349ccc448b964d8a94235796b15a8255": {
          "model_module": "@jupyter-widgets/base",
          "model_name": "LayoutModel",
          "model_module_version": "1.2.0",
          "state": {
            "_model_module": "@jupyter-widgets/base",
            "_model_module_version": "1.2.0",
            "_model_name": "LayoutModel",
            "_view_count": null,
            "_view_module": "@jupyter-widgets/base",
            "_view_module_version": "1.2.0",
            "_view_name": "LayoutView",
            "align_content": null,
            "align_items": null,
            "align_self": null,
            "border": null,
            "bottom": null,
            "display": null,
            "flex": null,
            "flex_flow": null,
            "grid_area": null,
            "grid_auto_columns": null,
            "grid_auto_flow": null,
            "grid_auto_rows": null,
            "grid_column": null,
            "grid_gap": null,
            "grid_row": null,
            "grid_template_areas": null,
            "grid_template_columns": null,
            "grid_template_rows": null,
            "height": null,
            "justify_content": null,
            "justify_items": null,
            "left": null,
            "margin": null,
            "max_height": null,
            "max_width": null,
            "min_height": null,
            "min_width": null,
            "object_fit": null,
            "object_position": null,
            "order": null,
            "overflow": null,
            "overflow_x": null,
            "overflow_y": null,
            "padding": null,
            "right": null,
            "top": null,
            "visibility": null,
            "width": null
          }
        },
        "cdbee742c17b47c3886b48f38164013c": {
          "model_module": "@jupyter-widgets/controls",
          "model_name": "DescriptionStyleModel",
          "model_module_version": "1.5.0",
          "state": {
            "_model_module": "@jupyter-widgets/controls",
            "_model_module_version": "1.5.0",
            "_model_name": "DescriptionStyleModel",
            "_view_count": null,
            "_view_module": "@jupyter-widgets/base",
            "_view_module_version": "1.2.0",
            "_view_name": "StyleView",
            "description_width": ""
          }
        },
        "6d1e9b0e096445458a5667f128ae5e87": {
          "model_module": "@jupyter-widgets/base",
          "model_name": "LayoutModel",
          "model_module_version": "1.2.0",
          "state": {
            "_model_module": "@jupyter-widgets/base",
            "_model_module_version": "1.2.0",
            "_model_name": "LayoutModel",
            "_view_count": null,
            "_view_module": "@jupyter-widgets/base",
            "_view_module_version": "1.2.0",
            "_view_name": "LayoutView",
            "align_content": null,
            "align_items": null,
            "align_self": null,
            "border": null,
            "bottom": null,
            "display": null,
            "flex": null,
            "flex_flow": null,
            "grid_area": null,
            "grid_auto_columns": null,
            "grid_auto_flow": null,
            "grid_auto_rows": null,
            "grid_column": null,
            "grid_gap": null,
            "grid_row": null,
            "grid_template_areas": null,
            "grid_template_columns": null,
            "grid_template_rows": null,
            "height": null,
            "justify_content": null,
            "justify_items": null,
            "left": null,
            "margin": null,
            "max_height": null,
            "max_width": null,
            "min_height": null,
            "min_width": null,
            "object_fit": null,
            "object_position": null,
            "order": null,
            "overflow": null,
            "overflow_x": null,
            "overflow_y": null,
            "padding": null,
            "right": null,
            "top": null,
            "visibility": null,
            "width": null
          }
        },
        "7bc691559b2440c98a35d8255c88a082": {
          "model_module": "@jupyter-widgets/controls",
          "model_name": "ProgressStyleModel",
          "model_module_version": "1.5.0",
          "state": {
            "_model_module": "@jupyter-widgets/controls",
            "_model_module_version": "1.5.0",
            "_model_name": "ProgressStyleModel",
            "_view_count": null,
            "_view_module": "@jupyter-widgets/base",
            "_view_module_version": "1.2.0",
            "_view_name": "StyleView",
            "bar_color": null,
            "description_width": ""
          }
        },
        "9b51e979c5354d468c89683aa7c4fe72": {
          "model_module": "@jupyter-widgets/base",
          "model_name": "LayoutModel",
          "model_module_version": "1.2.0",
          "state": {
            "_model_module": "@jupyter-widgets/base",
            "_model_module_version": "1.2.0",
            "_model_name": "LayoutModel",
            "_view_count": null,
            "_view_module": "@jupyter-widgets/base",
            "_view_module_version": "1.2.0",
            "_view_name": "LayoutView",
            "align_content": null,
            "align_items": null,
            "align_self": null,
            "border": null,
            "bottom": null,
            "display": null,
            "flex": null,
            "flex_flow": null,
            "grid_area": null,
            "grid_auto_columns": null,
            "grid_auto_flow": null,
            "grid_auto_rows": null,
            "grid_column": null,
            "grid_gap": null,
            "grid_row": null,
            "grid_template_areas": null,
            "grid_template_columns": null,
            "grid_template_rows": null,
            "height": null,
            "justify_content": null,
            "justify_items": null,
            "left": null,
            "margin": null,
            "max_height": null,
            "max_width": null,
            "min_height": null,
            "min_width": null,
            "object_fit": null,
            "object_position": null,
            "order": null,
            "overflow": null,
            "overflow_x": null,
            "overflow_y": null,
            "padding": null,
            "right": null,
            "top": null,
            "visibility": null,
            "width": null
          }
        },
        "24932c0e8e1c4de28855f8da761461fa": {
          "model_module": "@jupyter-widgets/controls",
          "model_name": "DescriptionStyleModel",
          "model_module_version": "1.5.0",
          "state": {
            "_model_module": "@jupyter-widgets/controls",
            "_model_module_version": "1.5.0",
            "_model_name": "DescriptionStyleModel",
            "_view_count": null,
            "_view_module": "@jupyter-widgets/base",
            "_view_module_version": "1.2.0",
            "_view_name": "StyleView",
            "description_width": ""
          }
        },
        "6df40dbe97164868995d96048384fd7b": {
          "model_module": "@jupyter-widgets/controls",
          "model_name": "HBoxModel",
          "model_module_version": "1.5.0",
          "state": {
            "_dom_classes": [],
            "_model_module": "@jupyter-widgets/controls",
            "_model_module_version": "1.5.0",
            "_model_name": "HBoxModel",
            "_view_count": null,
            "_view_module": "@jupyter-widgets/controls",
            "_view_module_version": "1.5.0",
            "_view_name": "HBoxView",
            "box_style": "",
            "children": [
              "IPY_MODEL_788ea089fa9d44259a398514fd4e64ec",
              "IPY_MODEL_c13fa1328cf141c4941bdee75af23fc4",
              "IPY_MODEL_38c2a2b7e9a14749a685acaf0ab6cf07"
            ],
            "layout": "IPY_MODEL_7a3f2f2850b44668bdb9b5c75227a46d"
          }
        },
        "788ea089fa9d44259a398514fd4e64ec": {
          "model_module": "@jupyter-widgets/controls",
          "model_name": "HTMLModel",
          "model_module_version": "1.5.0",
          "state": {
            "_dom_classes": [],
            "_model_module": "@jupyter-widgets/controls",
            "_model_module_version": "1.5.0",
            "_model_name": "HTMLModel",
            "_view_count": null,
            "_view_module": "@jupyter-widgets/controls",
            "_view_module_version": "1.5.0",
            "_view_name": "HTMLView",
            "description": "",
            "description_tooltip": null,
            "layout": "IPY_MODEL_c3d3477e38f446d9a099da3593b3dd5c",
            "placeholder": "​",
            "style": "IPY_MODEL_5a1bb69e296e4b4fbc251707c5d53145",
            "value": "tokenizer.json: 100%"
          }
        },
        "c13fa1328cf141c4941bdee75af23fc4": {
          "model_module": "@jupyter-widgets/controls",
          "model_name": "FloatProgressModel",
          "model_module_version": "1.5.0",
          "state": {
            "_dom_classes": [],
            "_model_module": "@jupyter-widgets/controls",
            "_model_module_version": "1.5.0",
            "_model_name": "FloatProgressModel",
            "_view_count": null,
            "_view_module": "@jupyter-widgets/controls",
            "_view_module_version": "1.5.0",
            "_view_name": "ProgressView",
            "bar_style": "success",
            "description": "",
            "description_tooltip": null,
            "layout": "IPY_MODEL_a1c36e5d037c4063a8030d6bfef3890c",
            "max": 9085657,
            "min": 0,
            "orientation": "horizontal",
            "style": "IPY_MODEL_8f8ad15de5124c0b98172d5447b3cc91",
            "value": 9085657
          }
        },
        "38c2a2b7e9a14749a685acaf0ab6cf07": {
          "model_module": "@jupyter-widgets/controls",
          "model_name": "HTMLModel",
          "model_module_version": "1.5.0",
          "state": {
            "_dom_classes": [],
            "_model_module": "@jupyter-widgets/controls",
            "_model_module_version": "1.5.0",
            "_model_name": "HTMLModel",
            "_view_count": null,
            "_view_module": "@jupyter-widgets/controls",
            "_view_module_version": "1.5.0",
            "_view_name": "HTMLView",
            "description": "",
            "description_tooltip": null,
            "layout": "IPY_MODEL_edcaba27a06f416fb50b9fd8c761fb66",
            "placeholder": "​",
            "style": "IPY_MODEL_a2497ac3d4a1431194f72178a822f1c0",
            "value": " 9.09M/9.09M [00:00&lt;00:00, 16.2MB/s]"
          }
        },
        "7a3f2f2850b44668bdb9b5c75227a46d": {
          "model_module": "@jupyter-widgets/base",
          "model_name": "LayoutModel",
          "model_module_version": "1.2.0",
          "state": {
            "_model_module": "@jupyter-widgets/base",
            "_model_module_version": "1.2.0",
            "_model_name": "LayoutModel",
            "_view_count": null,
            "_view_module": "@jupyter-widgets/base",
            "_view_module_version": "1.2.0",
            "_view_name": "LayoutView",
            "align_content": null,
            "align_items": null,
            "align_self": null,
            "border": null,
            "bottom": null,
            "display": null,
            "flex": null,
            "flex_flow": null,
            "grid_area": null,
            "grid_auto_columns": null,
            "grid_auto_flow": null,
            "grid_auto_rows": null,
            "grid_column": null,
            "grid_gap": null,
            "grid_row": null,
            "grid_template_areas": null,
            "grid_template_columns": null,
            "grid_template_rows": null,
            "height": null,
            "justify_content": null,
            "justify_items": null,
            "left": null,
            "margin": null,
            "max_height": null,
            "max_width": null,
            "min_height": null,
            "min_width": null,
            "object_fit": null,
            "object_position": null,
            "order": null,
            "overflow": null,
            "overflow_x": null,
            "overflow_y": null,
            "padding": null,
            "right": null,
            "top": null,
            "visibility": null,
            "width": null
          }
        },
        "c3d3477e38f446d9a099da3593b3dd5c": {
          "model_module": "@jupyter-widgets/base",
          "model_name": "LayoutModel",
          "model_module_version": "1.2.0",
          "state": {
            "_model_module": "@jupyter-widgets/base",
            "_model_module_version": "1.2.0",
            "_model_name": "LayoutModel",
            "_view_count": null,
            "_view_module": "@jupyter-widgets/base",
            "_view_module_version": "1.2.0",
            "_view_name": "LayoutView",
            "align_content": null,
            "align_items": null,
            "align_self": null,
            "border": null,
            "bottom": null,
            "display": null,
            "flex": null,
            "flex_flow": null,
            "grid_area": null,
            "grid_auto_columns": null,
            "grid_auto_flow": null,
            "grid_auto_rows": null,
            "grid_column": null,
            "grid_gap": null,
            "grid_row": null,
            "grid_template_areas": null,
            "grid_template_columns": null,
            "grid_template_rows": null,
            "height": null,
            "justify_content": null,
            "justify_items": null,
            "left": null,
            "margin": null,
            "max_height": null,
            "max_width": null,
            "min_height": null,
            "min_width": null,
            "object_fit": null,
            "object_position": null,
            "order": null,
            "overflow": null,
            "overflow_x": null,
            "overflow_y": null,
            "padding": null,
            "right": null,
            "top": null,
            "visibility": null,
            "width": null
          }
        },
        "5a1bb69e296e4b4fbc251707c5d53145": {
          "model_module": "@jupyter-widgets/controls",
          "model_name": "DescriptionStyleModel",
          "model_module_version": "1.5.0",
          "state": {
            "_model_module": "@jupyter-widgets/controls",
            "_model_module_version": "1.5.0",
            "_model_name": "DescriptionStyleModel",
            "_view_count": null,
            "_view_module": "@jupyter-widgets/base",
            "_view_module_version": "1.2.0",
            "_view_name": "StyleView",
            "description_width": ""
          }
        },
        "a1c36e5d037c4063a8030d6bfef3890c": {
          "model_module": "@jupyter-widgets/base",
          "model_name": "LayoutModel",
          "model_module_version": "1.2.0",
          "state": {
            "_model_module": "@jupyter-widgets/base",
            "_model_module_version": "1.2.0",
            "_model_name": "LayoutModel",
            "_view_count": null,
            "_view_module": "@jupyter-widgets/base",
            "_view_module_version": "1.2.0",
            "_view_name": "LayoutView",
            "align_content": null,
            "align_items": null,
            "align_self": null,
            "border": null,
            "bottom": null,
            "display": null,
            "flex": null,
            "flex_flow": null,
            "grid_area": null,
            "grid_auto_columns": null,
            "grid_auto_flow": null,
            "grid_auto_rows": null,
            "grid_column": null,
            "grid_gap": null,
            "grid_row": null,
            "grid_template_areas": null,
            "grid_template_columns": null,
            "grid_template_rows": null,
            "height": null,
            "justify_content": null,
            "justify_items": null,
            "left": null,
            "margin": null,
            "max_height": null,
            "max_width": null,
            "min_height": null,
            "min_width": null,
            "object_fit": null,
            "object_position": null,
            "order": null,
            "overflow": null,
            "overflow_x": null,
            "overflow_y": null,
            "padding": null,
            "right": null,
            "top": null,
            "visibility": null,
            "width": null
          }
        },
        "8f8ad15de5124c0b98172d5447b3cc91": {
          "model_module": "@jupyter-widgets/controls",
          "model_name": "ProgressStyleModel",
          "model_module_version": "1.5.0",
          "state": {
            "_model_module": "@jupyter-widgets/controls",
            "_model_module_version": "1.5.0",
            "_model_name": "ProgressStyleModel",
            "_view_count": null,
            "_view_module": "@jupyter-widgets/base",
            "_view_module_version": "1.2.0",
            "_view_name": "StyleView",
            "bar_color": null,
            "description_width": ""
          }
        },
        "edcaba27a06f416fb50b9fd8c761fb66": {
          "model_module": "@jupyter-widgets/base",
          "model_name": "LayoutModel",
          "model_module_version": "1.2.0",
          "state": {
            "_model_module": "@jupyter-widgets/base",
            "_model_module_version": "1.2.0",
            "_model_name": "LayoutModel",
            "_view_count": null,
            "_view_module": "@jupyter-widgets/base",
            "_view_module_version": "1.2.0",
            "_view_name": "LayoutView",
            "align_content": null,
            "align_items": null,
            "align_self": null,
            "border": null,
            "bottom": null,
            "display": null,
            "flex": null,
            "flex_flow": null,
            "grid_area": null,
            "grid_auto_columns": null,
            "grid_auto_flow": null,
            "grid_auto_rows": null,
            "grid_column": null,
            "grid_gap": null,
            "grid_row": null,
            "grid_template_areas": null,
            "grid_template_columns": null,
            "grid_template_rows": null,
            "height": null,
            "justify_content": null,
            "justify_items": null,
            "left": null,
            "margin": null,
            "max_height": null,
            "max_width": null,
            "min_height": null,
            "min_width": null,
            "object_fit": null,
            "object_position": null,
            "order": null,
            "overflow": null,
            "overflow_x": null,
            "overflow_y": null,
            "padding": null,
            "right": null,
            "top": null,
            "visibility": null,
            "width": null
          }
        },
        "a2497ac3d4a1431194f72178a822f1c0": {
          "model_module": "@jupyter-widgets/controls",
          "model_name": "DescriptionStyleModel",
          "model_module_version": "1.5.0",
          "state": {
            "_model_module": "@jupyter-widgets/controls",
            "_model_module_version": "1.5.0",
            "_model_name": "DescriptionStyleModel",
            "_view_count": null,
            "_view_module": "@jupyter-widgets/base",
            "_view_module_version": "1.2.0",
            "_view_name": "StyleView",
            "description_width": ""
          }
        },
        "b74524baf83f4ac99cfcb32c35f5f8a7": {
          "model_module": "@jupyter-widgets/controls",
          "model_name": "HBoxModel",
          "model_module_version": "1.5.0",
          "state": {
            "_dom_classes": [],
            "_model_module": "@jupyter-widgets/controls",
            "_model_module_version": "1.5.0",
            "_model_name": "HBoxModel",
            "_view_count": null,
            "_view_module": "@jupyter-widgets/controls",
            "_view_module_version": "1.5.0",
            "_view_name": "HBoxView",
            "box_style": "",
            "children": [
              "IPY_MODEL_863343ffe073423fa8eeeed7cae1b2ef",
              "IPY_MODEL_9cc5b507ad114d72ac057950be50d8fc",
              "IPY_MODEL_1f3cce387b4742ec9245c6f2571d2ef6"
            ],
            "layout": "IPY_MODEL_6fc5ccafd8db4687b69ea40cb37efd95"
          }
        },
        "863343ffe073423fa8eeeed7cae1b2ef": {
          "model_module": "@jupyter-widgets/controls",
          "model_name": "HTMLModel",
          "model_module_version": "1.5.0",
          "state": {
            "_dom_classes": [],
            "_model_module": "@jupyter-widgets/controls",
            "_model_module_version": "1.5.0",
            "_model_name": "HTMLModel",
            "_view_count": null,
            "_view_module": "@jupyter-widgets/controls",
            "_view_module_version": "1.5.0",
            "_view_name": "HTMLView",
            "description": "",
            "description_tooltip": null,
            "layout": "IPY_MODEL_e03009c124be4f67bba162befd4c15a2",
            "placeholder": "​",
            "style": "IPY_MODEL_f47edf33b3fe4258af68db2d0c616396",
            "value": "special_tokens_map.json: 100%"
          }
        },
        "9cc5b507ad114d72ac057950be50d8fc": {
          "model_module": "@jupyter-widgets/controls",
          "model_name": "FloatProgressModel",
          "model_module_version": "1.5.0",
          "state": {
            "_dom_classes": [],
            "_model_module": "@jupyter-widgets/controls",
            "_model_module_version": "1.5.0",
            "_model_name": "FloatProgressModel",
            "_view_count": null,
            "_view_module": "@jupyter-widgets/controls",
            "_view_module_version": "1.5.0",
            "_view_name": "ProgressView",
            "bar_style": "success",
            "description": "",
            "description_tooltip": null,
            "layout": "IPY_MODEL_37118d1f5c3947908567f1a91be1bec5",
            "max": 345,
            "min": 0,
            "orientation": "horizontal",
            "style": "IPY_MODEL_c1afb79374d14cbea0d00772b34ed757",
            "value": 345
          }
        },
        "1f3cce387b4742ec9245c6f2571d2ef6": {
          "model_module": "@jupyter-widgets/controls",
          "model_name": "HTMLModel",
          "model_module_version": "1.5.0",
          "state": {
            "_dom_classes": [],
            "_model_module": "@jupyter-widgets/controls",
            "_model_module_version": "1.5.0",
            "_model_name": "HTMLModel",
            "_view_count": null,
            "_view_module": "@jupyter-widgets/controls",
            "_view_module_version": "1.5.0",
            "_view_name": "HTMLView",
            "description": "",
            "description_tooltip": null,
            "layout": "IPY_MODEL_00cfd14bc2d14fedbfc8f1c8ecd3a043",
            "placeholder": "​",
            "style": "IPY_MODEL_2e1206d93d074ad8beb5164edf29f768",
            "value": " 345/345 [00:00&lt;00:00, 24.9kB/s]"
          }
        },
        "6fc5ccafd8db4687b69ea40cb37efd95": {
          "model_module": "@jupyter-widgets/base",
          "model_name": "LayoutModel",
          "model_module_version": "1.2.0",
          "state": {
            "_model_module": "@jupyter-widgets/base",
            "_model_module_version": "1.2.0",
            "_model_name": "LayoutModel",
            "_view_count": null,
            "_view_module": "@jupyter-widgets/base",
            "_view_module_version": "1.2.0",
            "_view_name": "LayoutView",
            "align_content": null,
            "align_items": null,
            "align_self": null,
            "border": null,
            "bottom": null,
            "display": null,
            "flex": null,
            "flex_flow": null,
            "grid_area": null,
            "grid_auto_columns": null,
            "grid_auto_flow": null,
            "grid_auto_rows": null,
            "grid_column": null,
            "grid_gap": null,
            "grid_row": null,
            "grid_template_areas": null,
            "grid_template_columns": null,
            "grid_template_rows": null,
            "height": null,
            "justify_content": null,
            "justify_items": null,
            "left": null,
            "margin": null,
            "max_height": null,
            "max_width": null,
            "min_height": null,
            "min_width": null,
            "object_fit": null,
            "object_position": null,
            "order": null,
            "overflow": null,
            "overflow_x": null,
            "overflow_y": null,
            "padding": null,
            "right": null,
            "top": null,
            "visibility": null,
            "width": null
          }
        },
        "e03009c124be4f67bba162befd4c15a2": {
          "model_module": "@jupyter-widgets/base",
          "model_name": "LayoutModel",
          "model_module_version": "1.2.0",
          "state": {
            "_model_module": "@jupyter-widgets/base",
            "_model_module_version": "1.2.0",
            "_model_name": "LayoutModel",
            "_view_count": null,
            "_view_module": "@jupyter-widgets/base",
            "_view_module_version": "1.2.0",
            "_view_name": "LayoutView",
            "align_content": null,
            "align_items": null,
            "align_self": null,
            "border": null,
            "bottom": null,
            "display": null,
            "flex": null,
            "flex_flow": null,
            "grid_area": null,
            "grid_auto_columns": null,
            "grid_auto_flow": null,
            "grid_auto_rows": null,
            "grid_column": null,
            "grid_gap": null,
            "grid_row": null,
            "grid_template_areas": null,
            "grid_template_columns": null,
            "grid_template_rows": null,
            "height": null,
            "justify_content": null,
            "justify_items": null,
            "left": null,
            "margin": null,
            "max_height": null,
            "max_width": null,
            "min_height": null,
            "min_width": null,
            "object_fit": null,
            "object_position": null,
            "order": null,
            "overflow": null,
            "overflow_x": null,
            "overflow_y": null,
            "padding": null,
            "right": null,
            "top": null,
            "visibility": null,
            "width": null
          }
        },
        "f47edf33b3fe4258af68db2d0c616396": {
          "model_module": "@jupyter-widgets/controls",
          "model_name": "DescriptionStyleModel",
          "model_module_version": "1.5.0",
          "state": {
            "_model_module": "@jupyter-widgets/controls",
            "_model_module_version": "1.5.0",
            "_model_name": "DescriptionStyleModel",
            "_view_count": null,
            "_view_module": "@jupyter-widgets/base",
            "_view_module_version": "1.2.0",
            "_view_name": "StyleView",
            "description_width": ""
          }
        },
        "37118d1f5c3947908567f1a91be1bec5": {
          "model_module": "@jupyter-widgets/base",
          "model_name": "LayoutModel",
          "model_module_version": "1.2.0",
          "state": {
            "_model_module": "@jupyter-widgets/base",
            "_model_module_version": "1.2.0",
            "_model_name": "LayoutModel",
            "_view_count": null,
            "_view_module": "@jupyter-widgets/base",
            "_view_module_version": "1.2.0",
            "_view_name": "LayoutView",
            "align_content": null,
            "align_items": null,
            "align_self": null,
            "border": null,
            "bottom": null,
            "display": null,
            "flex": null,
            "flex_flow": null,
            "grid_area": null,
            "grid_auto_columns": null,
            "grid_auto_flow": null,
            "grid_auto_rows": null,
            "grid_column": null,
            "grid_gap": null,
            "grid_row": null,
            "grid_template_areas": null,
            "grid_template_columns": null,
            "grid_template_rows": null,
            "height": null,
            "justify_content": null,
            "justify_items": null,
            "left": null,
            "margin": null,
            "max_height": null,
            "max_width": null,
            "min_height": null,
            "min_width": null,
            "object_fit": null,
            "object_position": null,
            "order": null,
            "overflow": null,
            "overflow_x": null,
            "overflow_y": null,
            "padding": null,
            "right": null,
            "top": null,
            "visibility": null,
            "width": null
          }
        },
        "c1afb79374d14cbea0d00772b34ed757": {
          "model_module": "@jupyter-widgets/controls",
          "model_name": "ProgressStyleModel",
          "model_module_version": "1.5.0",
          "state": {
            "_model_module": "@jupyter-widgets/controls",
            "_model_module_version": "1.5.0",
            "_model_name": "ProgressStyleModel",
            "_view_count": null,
            "_view_module": "@jupyter-widgets/base",
            "_view_module_version": "1.2.0",
            "_view_name": "StyleView",
            "bar_color": null,
            "description_width": ""
          }
        },
        "00cfd14bc2d14fedbfc8f1c8ecd3a043": {
          "model_module": "@jupyter-widgets/base",
          "model_name": "LayoutModel",
          "model_module_version": "1.2.0",
          "state": {
            "_model_module": "@jupyter-widgets/base",
            "_model_module_version": "1.2.0",
            "_model_name": "LayoutModel",
            "_view_count": null,
            "_view_module": "@jupyter-widgets/base",
            "_view_module_version": "1.2.0",
            "_view_name": "LayoutView",
            "align_content": null,
            "align_items": null,
            "align_self": null,
            "border": null,
            "bottom": null,
            "display": null,
            "flex": null,
            "flex_flow": null,
            "grid_area": null,
            "grid_auto_columns": null,
            "grid_auto_flow": null,
            "grid_auto_rows": null,
            "grid_column": null,
            "grid_gap": null,
            "grid_row": null,
            "grid_template_areas": null,
            "grid_template_columns": null,
            "grid_template_rows": null,
            "height": null,
            "justify_content": null,
            "justify_items": null,
            "left": null,
            "margin": null,
            "max_height": null,
            "max_width": null,
            "min_height": null,
            "min_width": null,
            "object_fit": null,
            "object_position": null,
            "order": null,
            "overflow": null,
            "overflow_x": null,
            "overflow_y": null,
            "padding": null,
            "right": null,
            "top": null,
            "visibility": null,
            "width": null
          }
        },
        "2e1206d93d074ad8beb5164edf29f768": {
          "model_module": "@jupyter-widgets/controls",
          "model_name": "DescriptionStyleModel",
          "model_module_version": "1.5.0",
          "state": {
            "_model_module": "@jupyter-widgets/controls",
            "_model_module_version": "1.5.0",
            "_model_name": "DescriptionStyleModel",
            "_view_count": null,
            "_view_module": "@jupyter-widgets/base",
            "_view_module_version": "1.2.0",
            "_view_name": "StyleView",
            "description_width": ""
          }
        },
        "f2f9a24757e641b6841f997eac7c4643": {
          "model_module": "@jupyter-widgets/controls",
          "model_name": "HBoxModel",
          "model_module_version": "1.5.0",
          "state": {
            "_dom_classes": [],
            "_model_module": "@jupyter-widgets/controls",
            "_model_module_version": "1.5.0",
            "_model_name": "HBoxModel",
            "_view_count": null,
            "_view_module": "@jupyter-widgets/controls",
            "_view_module_version": "1.5.0",
            "_view_name": "HBoxView",
            "box_style": "",
            "children": [
              "IPY_MODEL_bf87d64e45814f7cb0ec7be51064e15e",
              "IPY_MODEL_9b86f51d124e4a949f1c37d70991b073",
              "IPY_MODEL_b82c5fc7aebe472eb8acbbd469888288"
            ],
            "layout": "IPY_MODEL_99596dc139ae406faf7ad219e013d6df"
          }
        },
        "bf87d64e45814f7cb0ec7be51064e15e": {
          "model_module": "@jupyter-widgets/controls",
          "model_name": "HTMLModel",
          "model_module_version": "1.5.0",
          "state": {
            "_dom_classes": [],
            "_model_module": "@jupyter-widgets/controls",
            "_model_module_version": "1.5.0",
            "_model_name": "HTMLModel",
            "_view_count": null,
            "_view_module": "@jupyter-widgets/controls",
            "_view_module_version": "1.5.0",
            "_view_name": "HTMLView",
            "description": "",
            "description_tooltip": null,
            "layout": "IPY_MODEL_f7c4765420014b26b6fc4bb0aaa78d6c",
            "placeholder": "​",
            "style": "IPY_MODEL_4748d6daa1754ff6af7e13f14d7af3f1",
            "value": "Map: 100%"
          }
        },
        "9b86f51d124e4a949f1c37d70991b073": {
          "model_module": "@jupyter-widgets/controls",
          "model_name": "FloatProgressModel",
          "model_module_version": "1.5.0",
          "state": {
            "_dom_classes": [],
            "_model_module": "@jupyter-widgets/controls",
            "_model_module_version": "1.5.0",
            "_model_name": "FloatProgressModel",
            "_view_count": null,
            "_view_module": "@jupyter-widgets/controls",
            "_view_module_version": "1.5.0",
            "_view_name": "ProgressView",
            "bar_style": "success",
            "description": "",
            "description_tooltip": null,
            "layout": "IPY_MODEL_dae5c2cf506b4776b21f1ee2c17f64bf",
            "max": 1500,
            "min": 0,
            "orientation": "horizontal",
            "style": "IPY_MODEL_39989d401b1745ad8a72af0c91b09d8e",
            "value": 1500
          }
        },
        "b82c5fc7aebe472eb8acbbd469888288": {
          "model_module": "@jupyter-widgets/controls",
          "model_name": "HTMLModel",
          "model_module_version": "1.5.0",
          "state": {
            "_dom_classes": [],
            "_model_module": "@jupyter-widgets/controls",
            "_model_module_version": "1.5.0",
            "_model_name": "HTMLModel",
            "_view_count": null,
            "_view_module": "@jupyter-widgets/controls",
            "_view_module_version": "1.5.0",
            "_view_name": "HTMLView",
            "description": "",
            "description_tooltip": null,
            "layout": "IPY_MODEL_550b9c12aa3842239b3b5df2bbf0d325",
            "placeholder": "​",
            "style": "IPY_MODEL_cd7b5b52fb4943a387a07cdbab0d9320",
            "value": " 1500/1500 [00:00&lt;00:00, 10082.10 examples/s]"
          }
        },
        "99596dc139ae406faf7ad219e013d6df": {
          "model_module": "@jupyter-widgets/base",
          "model_name": "LayoutModel",
          "model_module_version": "1.2.0",
          "state": {
            "_model_module": "@jupyter-widgets/base",
            "_model_module_version": "1.2.0",
            "_model_name": "LayoutModel",
            "_view_count": null,
            "_view_module": "@jupyter-widgets/base",
            "_view_module_version": "1.2.0",
            "_view_name": "LayoutView",
            "align_content": null,
            "align_items": null,
            "align_self": null,
            "border": null,
            "bottom": null,
            "display": null,
            "flex": null,
            "flex_flow": null,
            "grid_area": null,
            "grid_auto_columns": null,
            "grid_auto_flow": null,
            "grid_auto_rows": null,
            "grid_column": null,
            "grid_gap": null,
            "grid_row": null,
            "grid_template_areas": null,
            "grid_template_columns": null,
            "grid_template_rows": null,
            "height": null,
            "justify_content": null,
            "justify_items": null,
            "left": null,
            "margin": null,
            "max_height": null,
            "max_width": null,
            "min_height": null,
            "min_width": null,
            "object_fit": null,
            "object_position": null,
            "order": null,
            "overflow": null,
            "overflow_x": null,
            "overflow_y": null,
            "padding": null,
            "right": null,
            "top": null,
            "visibility": null,
            "width": null
          }
        },
        "f7c4765420014b26b6fc4bb0aaa78d6c": {
          "model_module": "@jupyter-widgets/base",
          "model_name": "LayoutModel",
          "model_module_version": "1.2.0",
          "state": {
            "_model_module": "@jupyter-widgets/base",
            "_model_module_version": "1.2.0",
            "_model_name": "LayoutModel",
            "_view_count": null,
            "_view_module": "@jupyter-widgets/base",
            "_view_module_version": "1.2.0",
            "_view_name": "LayoutView",
            "align_content": null,
            "align_items": null,
            "align_self": null,
            "border": null,
            "bottom": null,
            "display": null,
            "flex": null,
            "flex_flow": null,
            "grid_area": null,
            "grid_auto_columns": null,
            "grid_auto_flow": null,
            "grid_auto_rows": null,
            "grid_column": null,
            "grid_gap": null,
            "grid_row": null,
            "grid_template_areas": null,
            "grid_template_columns": null,
            "grid_template_rows": null,
            "height": null,
            "justify_content": null,
            "justify_items": null,
            "left": null,
            "margin": null,
            "max_height": null,
            "max_width": null,
            "min_height": null,
            "min_width": null,
            "object_fit": null,
            "object_position": null,
            "order": null,
            "overflow": null,
            "overflow_x": null,
            "overflow_y": null,
            "padding": null,
            "right": null,
            "top": null,
            "visibility": null,
            "width": null
          }
        },
        "4748d6daa1754ff6af7e13f14d7af3f1": {
          "model_module": "@jupyter-widgets/controls",
          "model_name": "DescriptionStyleModel",
          "model_module_version": "1.5.0",
          "state": {
            "_model_module": "@jupyter-widgets/controls",
            "_model_module_version": "1.5.0",
            "_model_name": "DescriptionStyleModel",
            "_view_count": null,
            "_view_module": "@jupyter-widgets/base",
            "_view_module_version": "1.2.0",
            "_view_name": "StyleView",
            "description_width": ""
          }
        },
        "dae5c2cf506b4776b21f1ee2c17f64bf": {
          "model_module": "@jupyter-widgets/base",
          "model_name": "LayoutModel",
          "model_module_version": "1.2.0",
          "state": {
            "_model_module": "@jupyter-widgets/base",
            "_model_module_version": "1.2.0",
            "_model_name": "LayoutModel",
            "_view_count": null,
            "_view_module": "@jupyter-widgets/base",
            "_view_module_version": "1.2.0",
            "_view_name": "LayoutView",
            "align_content": null,
            "align_items": null,
            "align_self": null,
            "border": null,
            "bottom": null,
            "display": null,
            "flex": null,
            "flex_flow": null,
            "grid_area": null,
            "grid_auto_columns": null,
            "grid_auto_flow": null,
            "grid_auto_rows": null,
            "grid_column": null,
            "grid_gap": null,
            "grid_row": null,
            "grid_template_areas": null,
            "grid_template_columns": null,
            "grid_template_rows": null,
            "height": null,
            "justify_content": null,
            "justify_items": null,
            "left": null,
            "margin": null,
            "max_height": null,
            "max_width": null,
            "min_height": null,
            "min_width": null,
            "object_fit": null,
            "object_position": null,
            "order": null,
            "overflow": null,
            "overflow_x": null,
            "overflow_y": null,
            "padding": null,
            "right": null,
            "top": null,
            "visibility": null,
            "width": null
          }
        },
        "39989d401b1745ad8a72af0c91b09d8e": {
          "model_module": "@jupyter-widgets/controls",
          "model_name": "ProgressStyleModel",
          "model_module_version": "1.5.0",
          "state": {
            "_model_module": "@jupyter-widgets/controls",
            "_model_module_version": "1.5.0",
            "_model_name": "ProgressStyleModel",
            "_view_count": null,
            "_view_module": "@jupyter-widgets/base",
            "_view_module_version": "1.2.0",
            "_view_name": "StyleView",
            "bar_color": null,
            "description_width": ""
          }
        },
        "550b9c12aa3842239b3b5df2bbf0d325": {
          "model_module": "@jupyter-widgets/base",
          "model_name": "LayoutModel",
          "model_module_version": "1.2.0",
          "state": {
            "_model_module": "@jupyter-widgets/base",
            "_model_module_version": "1.2.0",
            "_model_name": "LayoutModel",
            "_view_count": null,
            "_view_module": "@jupyter-widgets/base",
            "_view_module_version": "1.2.0",
            "_view_name": "LayoutView",
            "align_content": null,
            "align_items": null,
            "align_self": null,
            "border": null,
            "bottom": null,
            "display": null,
            "flex": null,
            "flex_flow": null,
            "grid_area": null,
            "grid_auto_columns": null,
            "grid_auto_flow": null,
            "grid_auto_rows": null,
            "grid_column": null,
            "grid_gap": null,
            "grid_row": null,
            "grid_template_areas": null,
            "grid_template_columns": null,
            "grid_template_rows": null,
            "height": null,
            "justify_content": null,
            "justify_items": null,
            "left": null,
            "margin": null,
            "max_height": null,
            "max_width": null,
            "min_height": null,
            "min_width": null,
            "object_fit": null,
            "object_position": null,
            "order": null,
            "overflow": null,
            "overflow_x": null,
            "overflow_y": null,
            "padding": null,
            "right": null,
            "top": null,
            "visibility": null,
            "width": null
          }
        },
        "cd7b5b52fb4943a387a07cdbab0d9320": {
          "model_module": "@jupyter-widgets/controls",
          "model_name": "DescriptionStyleModel",
          "model_module_version": "1.5.0",
          "state": {
            "_model_module": "@jupyter-widgets/controls",
            "_model_module_version": "1.5.0",
            "_model_name": "DescriptionStyleModel",
            "_view_count": null,
            "_view_module": "@jupyter-widgets/base",
            "_view_module_version": "1.2.0",
            "_view_name": "StyleView",
            "description_width": ""
          }
        },
        "424af9fb647147ce88138cc1aa92352b": {
          "model_module": "@jupyter-widgets/controls",
          "model_name": "HBoxModel",
          "model_module_version": "1.5.0",
          "state": {
            "_dom_classes": [],
            "_model_module": "@jupyter-widgets/controls",
            "_model_module_version": "1.5.0",
            "_model_name": "HBoxModel",
            "_view_count": null,
            "_view_module": "@jupyter-widgets/controls",
            "_view_module_version": "1.5.0",
            "_view_name": "HBoxView",
            "box_style": "",
            "children": [
              "IPY_MODEL_a52f4add2d5844008918315a2587672a",
              "IPY_MODEL_6fe2c60a3d2b42ebafdafc4f7025591f",
              "IPY_MODEL_fc78656e16a046358e63928d5d4539a2"
            ],
            "layout": "IPY_MODEL_7e02e0b31ad04480996c334e24d52d42"
          }
        },
        "a52f4add2d5844008918315a2587672a": {
          "model_module": "@jupyter-widgets/controls",
          "model_name": "HTMLModel",
          "model_module_version": "1.5.0",
          "state": {
            "_dom_classes": [],
            "_model_module": "@jupyter-widgets/controls",
            "_model_module_version": "1.5.0",
            "_model_name": "HTMLModel",
            "_view_count": null,
            "_view_module": "@jupyter-widgets/controls",
            "_view_module_version": "1.5.0",
            "_view_name": "HTMLView",
            "description": "",
            "description_tooltip": null,
            "layout": "IPY_MODEL_108779c8b3a1451687f8bb5eb8febdbc",
            "placeholder": "​",
            "style": "IPY_MODEL_a28388e2360e458c8caba8cf74182196",
            "value": "Map: 100%"
          }
        },
        "6fe2c60a3d2b42ebafdafc4f7025591f": {
          "model_module": "@jupyter-widgets/controls",
          "model_name": "FloatProgressModel",
          "model_module_version": "1.5.0",
          "state": {
            "_dom_classes": [],
            "_model_module": "@jupyter-widgets/controls",
            "_model_module_version": "1.5.0",
            "_model_name": "FloatProgressModel",
            "_view_count": null,
            "_view_module": "@jupyter-widgets/controls",
            "_view_module_version": "1.5.0",
            "_view_name": "ProgressView",
            "bar_style": "success",
            "description": "",
            "description_tooltip": null,
            "layout": "IPY_MODEL_ba16036a30b440979f01acb924614bd5",
            "max": 1500,
            "min": 0,
            "orientation": "horizontal",
            "style": "IPY_MODEL_9042d0b01af24b0fa92c637671d4bd9f",
            "value": 1500
          }
        },
        "fc78656e16a046358e63928d5d4539a2": {
          "model_module": "@jupyter-widgets/controls",
          "model_name": "HTMLModel",
          "model_module_version": "1.5.0",
          "state": {
            "_dom_classes": [],
            "_model_module": "@jupyter-widgets/controls",
            "_model_module_version": "1.5.0",
            "_model_name": "HTMLModel",
            "_view_count": null,
            "_view_module": "@jupyter-widgets/controls",
            "_view_module_version": "1.5.0",
            "_view_name": "HTMLView",
            "description": "",
            "description_tooltip": null,
            "layout": "IPY_MODEL_bf78e86e704842d1b0e27ac02b86adef",
            "placeholder": "​",
            "style": "IPY_MODEL_7932a258eff14209ad4f5da5bacb1e1c",
            "value": " 1500/1500 [00:00&lt;00:00, 14170.36 examples/s]"
          }
        },
        "7e02e0b31ad04480996c334e24d52d42": {
          "model_module": "@jupyter-widgets/base",
          "model_name": "LayoutModel",
          "model_module_version": "1.2.0",
          "state": {
            "_model_module": "@jupyter-widgets/base",
            "_model_module_version": "1.2.0",
            "_model_name": "LayoutModel",
            "_view_count": null,
            "_view_module": "@jupyter-widgets/base",
            "_view_module_version": "1.2.0",
            "_view_name": "LayoutView",
            "align_content": null,
            "align_items": null,
            "align_self": null,
            "border": null,
            "bottom": null,
            "display": null,
            "flex": null,
            "flex_flow": null,
            "grid_area": null,
            "grid_auto_columns": null,
            "grid_auto_flow": null,
            "grid_auto_rows": null,
            "grid_column": null,
            "grid_gap": null,
            "grid_row": null,
            "grid_template_areas": null,
            "grid_template_columns": null,
            "grid_template_rows": null,
            "height": null,
            "justify_content": null,
            "justify_items": null,
            "left": null,
            "margin": null,
            "max_height": null,
            "max_width": null,
            "min_height": null,
            "min_width": null,
            "object_fit": null,
            "object_position": null,
            "order": null,
            "overflow": null,
            "overflow_x": null,
            "overflow_y": null,
            "padding": null,
            "right": null,
            "top": null,
            "visibility": null,
            "width": null
          }
        },
        "108779c8b3a1451687f8bb5eb8febdbc": {
          "model_module": "@jupyter-widgets/base",
          "model_name": "LayoutModel",
          "model_module_version": "1.2.0",
          "state": {
            "_model_module": "@jupyter-widgets/base",
            "_model_module_version": "1.2.0",
            "_model_name": "LayoutModel",
            "_view_count": null,
            "_view_module": "@jupyter-widgets/base",
            "_view_module_version": "1.2.0",
            "_view_name": "LayoutView",
            "align_content": null,
            "align_items": null,
            "align_self": null,
            "border": null,
            "bottom": null,
            "display": null,
            "flex": null,
            "flex_flow": null,
            "grid_area": null,
            "grid_auto_columns": null,
            "grid_auto_flow": null,
            "grid_auto_rows": null,
            "grid_column": null,
            "grid_gap": null,
            "grid_row": null,
            "grid_template_areas": null,
            "grid_template_columns": null,
            "grid_template_rows": null,
            "height": null,
            "justify_content": null,
            "justify_items": null,
            "left": null,
            "margin": null,
            "max_height": null,
            "max_width": null,
            "min_height": null,
            "min_width": null,
            "object_fit": null,
            "object_position": null,
            "order": null,
            "overflow": null,
            "overflow_x": null,
            "overflow_y": null,
            "padding": null,
            "right": null,
            "top": null,
            "visibility": null,
            "width": null
          }
        },
        "a28388e2360e458c8caba8cf74182196": {
          "model_module": "@jupyter-widgets/controls",
          "model_name": "DescriptionStyleModel",
          "model_module_version": "1.5.0",
          "state": {
            "_model_module": "@jupyter-widgets/controls",
            "_model_module_version": "1.5.0",
            "_model_name": "DescriptionStyleModel",
            "_view_count": null,
            "_view_module": "@jupyter-widgets/base",
            "_view_module_version": "1.2.0",
            "_view_name": "StyleView",
            "description_width": ""
          }
        },
        "ba16036a30b440979f01acb924614bd5": {
          "model_module": "@jupyter-widgets/base",
          "model_name": "LayoutModel",
          "model_module_version": "1.2.0",
          "state": {
            "_model_module": "@jupyter-widgets/base",
            "_model_module_version": "1.2.0",
            "_model_name": "LayoutModel",
            "_view_count": null,
            "_view_module": "@jupyter-widgets/base",
            "_view_module_version": "1.2.0",
            "_view_name": "LayoutView",
            "align_content": null,
            "align_items": null,
            "align_self": null,
            "border": null,
            "bottom": null,
            "display": null,
            "flex": null,
            "flex_flow": null,
            "grid_area": null,
            "grid_auto_columns": null,
            "grid_auto_flow": null,
            "grid_auto_rows": null,
            "grid_column": null,
            "grid_gap": null,
            "grid_row": null,
            "grid_template_areas": null,
            "grid_template_columns": null,
            "grid_template_rows": null,
            "height": null,
            "justify_content": null,
            "justify_items": null,
            "left": null,
            "margin": null,
            "max_height": null,
            "max_width": null,
            "min_height": null,
            "min_width": null,
            "object_fit": null,
            "object_position": null,
            "order": null,
            "overflow": null,
            "overflow_x": null,
            "overflow_y": null,
            "padding": null,
            "right": null,
            "top": null,
            "visibility": null,
            "width": null
          }
        },
        "9042d0b01af24b0fa92c637671d4bd9f": {
          "model_module": "@jupyter-widgets/controls",
          "model_name": "ProgressStyleModel",
          "model_module_version": "1.5.0",
          "state": {
            "_model_module": "@jupyter-widgets/controls",
            "_model_module_version": "1.5.0",
            "_model_name": "ProgressStyleModel",
            "_view_count": null,
            "_view_module": "@jupyter-widgets/base",
            "_view_module_version": "1.2.0",
            "_view_name": "StyleView",
            "bar_color": null,
            "description_width": ""
          }
        },
        "bf78e86e704842d1b0e27ac02b86adef": {
          "model_module": "@jupyter-widgets/base",
          "model_name": "LayoutModel",
          "model_module_version": "1.2.0",
          "state": {
            "_model_module": "@jupyter-widgets/base",
            "_model_module_version": "1.2.0",
            "_model_name": "LayoutModel",
            "_view_count": null,
            "_view_module": "@jupyter-widgets/base",
            "_view_module_version": "1.2.0",
            "_view_name": "LayoutView",
            "align_content": null,
            "align_items": null,
            "align_self": null,
            "border": null,
            "bottom": null,
            "display": null,
            "flex": null,
            "flex_flow": null,
            "grid_area": null,
            "grid_auto_columns": null,
            "grid_auto_flow": null,
            "grid_auto_rows": null,
            "grid_column": null,
            "grid_gap": null,
            "grid_row": null,
            "grid_template_areas": null,
            "grid_template_columns": null,
            "grid_template_rows": null,
            "height": null,
            "justify_content": null,
            "justify_items": null,
            "left": null,
            "margin": null,
            "max_height": null,
            "max_width": null,
            "min_height": null,
            "min_width": null,
            "object_fit": null,
            "object_position": null,
            "order": null,
            "overflow": null,
            "overflow_x": null,
            "overflow_y": null,
            "padding": null,
            "right": null,
            "top": null,
            "visibility": null,
            "width": null
          }
        },
        "7932a258eff14209ad4f5da5bacb1e1c": {
          "model_module": "@jupyter-widgets/controls",
          "model_name": "DescriptionStyleModel",
          "model_module_version": "1.5.0",
          "state": {
            "_model_module": "@jupyter-widgets/controls",
            "_model_module_version": "1.5.0",
            "_model_name": "DescriptionStyleModel",
            "_view_count": null,
            "_view_module": "@jupyter-widgets/base",
            "_view_module_version": "1.2.0",
            "_view_name": "StyleView",
            "description_width": ""
          }
        },
        "e9a379805c644b979d9b4d5e9d7a5185": {
          "model_module": "@jupyter-widgets/controls",
          "model_name": "HBoxModel",
          "model_module_version": "1.5.0",
          "state": {
            "_dom_classes": [],
            "_model_module": "@jupyter-widgets/controls",
            "_model_module_version": "1.5.0",
            "_model_name": "HBoxModel",
            "_view_count": null,
            "_view_module": "@jupyter-widgets/controls",
            "_view_module_version": "1.5.0",
            "_view_name": "HBoxView",
            "box_style": "",
            "children": [
              "IPY_MODEL_f2d1c357ba38445c9d04c87ae5ff1ec7",
              "IPY_MODEL_b08da6e27b4c4cb59416176ccffe3cef",
              "IPY_MODEL_c94d810daeb34437a6fb57a6bd16f060"
            ],
            "layout": "IPY_MODEL_c5e92cdb15894c0f837d8c95a74da4c2"
          }
        },
        "f2d1c357ba38445c9d04c87ae5ff1ec7": {
          "model_module": "@jupyter-widgets/controls",
          "model_name": "HTMLModel",
          "model_module_version": "1.5.0",
          "state": {
            "_dom_classes": [],
            "_model_module": "@jupyter-widgets/controls",
            "_model_module_version": "1.5.0",
            "_model_name": "HTMLModel",
            "_view_count": null,
            "_view_module": "@jupyter-widgets/controls",
            "_view_module_version": "1.5.0",
            "_view_name": "HTMLView",
            "description": "",
            "description_tooltip": null,
            "layout": "IPY_MODEL_446db43b579147dda774679aabd3fbe5",
            "placeholder": "​",
            "style": "IPY_MODEL_ab4d6c0c99b1467d95a617a3975da2d0",
            "value": "Generating train split: "
          }
        },
        "b08da6e27b4c4cb59416176ccffe3cef": {
          "model_module": "@jupyter-widgets/controls",
          "model_name": "FloatProgressModel",
          "model_module_version": "1.5.0",
          "state": {
            "_dom_classes": [],
            "_model_module": "@jupyter-widgets/controls",
            "_model_module_version": "1.5.0",
            "_model_name": "FloatProgressModel",
            "_view_count": null,
            "_view_module": "@jupyter-widgets/controls",
            "_view_module_version": "1.5.0",
            "_view_name": "ProgressView",
            "bar_style": "success",
            "description": "",
            "description_tooltip": null,
            "layout": "IPY_MODEL_5b111de870cf48d787091c9209f3f62d",
            "max": 1,
            "min": 0,
            "orientation": "horizontal",
            "style": "IPY_MODEL_7280ec92e2bb4e5eac6c5197a275d046",
            "value": 1
          }
        },
        "c94d810daeb34437a6fb57a6bd16f060": {
          "model_module": "@jupyter-widgets/controls",
          "model_name": "HTMLModel",
          "model_module_version": "1.5.0",
          "state": {
            "_dom_classes": [],
            "_model_module": "@jupyter-widgets/controls",
            "_model_module_version": "1.5.0",
            "_model_name": "HTMLModel",
            "_view_count": null,
            "_view_module": "@jupyter-widgets/controls",
            "_view_module_version": "1.5.0",
            "_view_name": "HTMLView",
            "description": "",
            "description_tooltip": null,
            "layout": "IPY_MODEL_93123117af9b49318abccce21db81029",
            "placeholder": "​",
            "style": "IPY_MODEL_a93be426f9814f7b8aab17c34fd80e2b",
            "value": " 212/0 [00:00&lt;00:00,  2.01 examples/s]"
          }
        },
        "c5e92cdb15894c0f837d8c95a74da4c2": {
          "model_module": "@jupyter-widgets/base",
          "model_name": "LayoutModel",
          "model_module_version": "1.2.0",
          "state": {
            "_model_module": "@jupyter-widgets/base",
            "_model_module_version": "1.2.0",
            "_model_name": "LayoutModel",
            "_view_count": null,
            "_view_module": "@jupyter-widgets/base",
            "_view_module_version": "1.2.0",
            "_view_name": "LayoutView",
            "align_content": null,
            "align_items": null,
            "align_self": null,
            "border": null,
            "bottom": null,
            "display": null,
            "flex": null,
            "flex_flow": null,
            "grid_area": null,
            "grid_auto_columns": null,
            "grid_auto_flow": null,
            "grid_auto_rows": null,
            "grid_column": null,
            "grid_gap": null,
            "grid_row": null,
            "grid_template_areas": null,
            "grid_template_columns": null,
            "grid_template_rows": null,
            "height": null,
            "justify_content": null,
            "justify_items": null,
            "left": null,
            "margin": null,
            "max_height": null,
            "max_width": null,
            "min_height": null,
            "min_width": null,
            "object_fit": null,
            "object_position": null,
            "order": null,
            "overflow": null,
            "overflow_x": null,
            "overflow_y": null,
            "padding": null,
            "right": null,
            "top": null,
            "visibility": null,
            "width": null
          }
        },
        "446db43b579147dda774679aabd3fbe5": {
          "model_module": "@jupyter-widgets/base",
          "model_name": "LayoutModel",
          "model_module_version": "1.2.0",
          "state": {
            "_model_module": "@jupyter-widgets/base",
            "_model_module_version": "1.2.0",
            "_model_name": "LayoutModel",
            "_view_count": null,
            "_view_module": "@jupyter-widgets/base",
            "_view_module_version": "1.2.0",
            "_view_name": "LayoutView",
            "align_content": null,
            "align_items": null,
            "align_self": null,
            "border": null,
            "bottom": null,
            "display": null,
            "flex": null,
            "flex_flow": null,
            "grid_area": null,
            "grid_auto_columns": null,
            "grid_auto_flow": null,
            "grid_auto_rows": null,
            "grid_column": null,
            "grid_gap": null,
            "grid_row": null,
            "grid_template_areas": null,
            "grid_template_columns": null,
            "grid_template_rows": null,
            "height": null,
            "justify_content": null,
            "justify_items": null,
            "left": null,
            "margin": null,
            "max_height": null,
            "max_width": null,
            "min_height": null,
            "min_width": null,
            "object_fit": null,
            "object_position": null,
            "order": null,
            "overflow": null,
            "overflow_x": null,
            "overflow_y": null,
            "padding": null,
            "right": null,
            "top": null,
            "visibility": null,
            "width": null
          }
        },
        "ab4d6c0c99b1467d95a617a3975da2d0": {
          "model_module": "@jupyter-widgets/controls",
          "model_name": "DescriptionStyleModel",
          "model_module_version": "1.5.0",
          "state": {
            "_model_module": "@jupyter-widgets/controls",
            "_model_module_version": "1.5.0",
            "_model_name": "DescriptionStyleModel",
            "_view_count": null,
            "_view_module": "@jupyter-widgets/base",
            "_view_module_version": "1.2.0",
            "_view_name": "StyleView",
            "description_width": ""
          }
        },
        "5b111de870cf48d787091c9209f3f62d": {
          "model_module": "@jupyter-widgets/base",
          "model_name": "LayoutModel",
          "model_module_version": "1.2.0",
          "state": {
            "_model_module": "@jupyter-widgets/base",
            "_model_module_version": "1.2.0",
            "_model_name": "LayoutModel",
            "_view_count": null,
            "_view_module": "@jupyter-widgets/base",
            "_view_module_version": "1.2.0",
            "_view_name": "LayoutView",
            "align_content": null,
            "align_items": null,
            "align_self": null,
            "border": null,
            "bottom": null,
            "display": null,
            "flex": null,
            "flex_flow": null,
            "grid_area": null,
            "grid_auto_columns": null,
            "grid_auto_flow": null,
            "grid_auto_rows": null,
            "grid_column": null,
            "grid_gap": null,
            "grid_row": null,
            "grid_template_areas": null,
            "grid_template_columns": null,
            "grid_template_rows": null,
            "height": null,
            "justify_content": null,
            "justify_items": null,
            "left": null,
            "margin": null,
            "max_height": null,
            "max_width": null,
            "min_height": null,
            "min_width": null,
            "object_fit": null,
            "object_position": null,
            "order": null,
            "overflow": null,
            "overflow_x": null,
            "overflow_y": null,
            "padding": null,
            "right": null,
            "top": null,
            "visibility": null,
            "width": "20px"
          }
        },
        "7280ec92e2bb4e5eac6c5197a275d046": {
          "model_module": "@jupyter-widgets/controls",
          "model_name": "ProgressStyleModel",
          "model_module_version": "1.5.0",
          "state": {
            "_model_module": "@jupyter-widgets/controls",
            "_model_module_version": "1.5.0",
            "_model_name": "ProgressStyleModel",
            "_view_count": null,
            "_view_module": "@jupyter-widgets/base",
            "_view_module_version": "1.2.0",
            "_view_name": "StyleView",
            "bar_color": null,
            "description_width": ""
          }
        },
        "93123117af9b49318abccce21db81029": {
          "model_module": "@jupyter-widgets/base",
          "model_name": "LayoutModel",
          "model_module_version": "1.2.0",
          "state": {
            "_model_module": "@jupyter-widgets/base",
            "_model_module_version": "1.2.0",
            "_model_name": "LayoutModel",
            "_view_count": null,
            "_view_module": "@jupyter-widgets/base",
            "_view_module_version": "1.2.0",
            "_view_name": "LayoutView",
            "align_content": null,
            "align_items": null,
            "align_self": null,
            "border": null,
            "bottom": null,
            "display": null,
            "flex": null,
            "flex_flow": null,
            "grid_area": null,
            "grid_auto_columns": null,
            "grid_auto_flow": null,
            "grid_auto_rows": null,
            "grid_column": null,
            "grid_gap": null,
            "grid_row": null,
            "grid_template_areas": null,
            "grid_template_columns": null,
            "grid_template_rows": null,
            "height": null,
            "justify_content": null,
            "justify_items": null,
            "left": null,
            "margin": null,
            "max_height": null,
            "max_width": null,
            "min_height": null,
            "min_width": null,
            "object_fit": null,
            "object_position": null,
            "order": null,
            "overflow": null,
            "overflow_x": null,
            "overflow_y": null,
            "padding": null,
            "right": null,
            "top": null,
            "visibility": null,
            "width": null
          }
        },
        "a93be426f9814f7b8aab17c34fd80e2b": {
          "model_module": "@jupyter-widgets/controls",
          "model_name": "DescriptionStyleModel",
          "model_module_version": "1.5.0",
          "state": {
            "_model_module": "@jupyter-widgets/controls",
            "_model_module_version": "1.5.0",
            "_model_name": "DescriptionStyleModel",
            "_view_count": null,
            "_view_module": "@jupyter-widgets/base",
            "_view_module_version": "1.2.0",
            "_view_name": "StyleView",
            "description_width": ""
          }
        },
        "bac9b5d76a0c4927aa18bb9eb5428e29": {
          "model_module": "@jupyter-widgets/controls",
          "model_name": "HBoxModel",
          "model_module_version": "1.5.0",
          "state": {
            "_dom_classes": [],
            "_model_module": "@jupyter-widgets/controls",
            "_model_module_version": "1.5.0",
            "_model_name": "HBoxModel",
            "_view_count": null,
            "_view_module": "@jupyter-widgets/controls",
            "_view_module_version": "1.5.0",
            "_view_name": "HBoxView",
            "box_style": "",
            "children": [
              "IPY_MODEL_49543d48eb1643ef86d2ad981bf83cc3",
              "IPY_MODEL_f99fa0a9b14e4c179e0dc3430d2baec1",
              "IPY_MODEL_334945289a5e47609a2b445710204b8c"
            ],
            "layout": "IPY_MODEL_0b0e019778fb4648ab2ebc0c112896af"
          }
        },
        "49543d48eb1643ef86d2ad981bf83cc3": {
          "model_module": "@jupyter-widgets/controls",
          "model_name": "HTMLModel",
          "model_module_version": "1.5.0",
          "state": {
            "_dom_classes": [],
            "_model_module": "@jupyter-widgets/controls",
            "_model_module_version": "1.5.0",
            "_model_name": "HTMLModel",
            "_view_count": null,
            "_view_module": "@jupyter-widgets/controls",
            "_view_module_version": "1.5.0",
            "_view_name": "HTMLView",
            "description": "",
            "description_tooltip": null,
            "layout": "IPY_MODEL_4c6e46b6fb6f4edb9e78d4f3f956c2ae",
            "placeholder": "​",
            "style": "IPY_MODEL_97e1e599c8ce4827929a23dee2a2f74a",
            "value": "Generating train split: "
          }
        },
        "f99fa0a9b14e4c179e0dc3430d2baec1": {
          "model_module": "@jupyter-widgets/controls",
          "model_name": "FloatProgressModel",
          "model_module_version": "1.5.0",
          "state": {
            "_dom_classes": [],
            "_model_module": "@jupyter-widgets/controls",
            "_model_module_version": "1.5.0",
            "_model_name": "FloatProgressModel",
            "_view_count": null,
            "_view_module": "@jupyter-widgets/controls",
            "_view_module_version": "1.5.0",
            "_view_name": "ProgressView",
            "bar_style": "success",
            "description": "",
            "description_tooltip": null,
            "layout": "IPY_MODEL_381d7b1b75b04659b4e8c82c104c23b2",
            "max": 1,
            "min": 0,
            "orientation": "horizontal",
            "style": "IPY_MODEL_d98a61de73ac4c93bc4c7d129c868307",
            "value": 1
          }
        },
        "334945289a5e47609a2b445710204b8c": {
          "model_module": "@jupyter-widgets/controls",
          "model_name": "HTMLModel",
          "model_module_version": "1.5.0",
          "state": {
            "_dom_classes": [],
            "_model_module": "@jupyter-widgets/controls",
            "_model_module_version": "1.5.0",
            "_model_name": "HTMLModel",
            "_view_count": null,
            "_view_module": "@jupyter-widgets/controls",
            "_view_module_version": "1.5.0",
            "_view_name": "HTMLView",
            "description": "",
            "description_tooltip": null,
            "layout": "IPY_MODEL_5635ce5bee69477ebe89fc280ded0d8e",
            "placeholder": "​",
            "style": "IPY_MODEL_3ffdb1fbe47046a8ada541da8ee345c8",
            "value": " 53/0 [00:00&lt;00:00,  7.83 examples/s]"
          }
        },
        "0b0e019778fb4648ab2ebc0c112896af": {
          "model_module": "@jupyter-widgets/base",
          "model_name": "LayoutModel",
          "model_module_version": "1.2.0",
          "state": {
            "_model_module": "@jupyter-widgets/base",
            "_model_module_version": "1.2.0",
            "_model_name": "LayoutModel",
            "_view_count": null,
            "_view_module": "@jupyter-widgets/base",
            "_view_module_version": "1.2.0",
            "_view_name": "LayoutView",
            "align_content": null,
            "align_items": null,
            "align_self": null,
            "border": null,
            "bottom": null,
            "display": null,
            "flex": null,
            "flex_flow": null,
            "grid_area": null,
            "grid_auto_columns": null,
            "grid_auto_flow": null,
            "grid_auto_rows": null,
            "grid_column": null,
            "grid_gap": null,
            "grid_row": null,
            "grid_template_areas": null,
            "grid_template_columns": null,
            "grid_template_rows": null,
            "height": null,
            "justify_content": null,
            "justify_items": null,
            "left": null,
            "margin": null,
            "max_height": null,
            "max_width": null,
            "min_height": null,
            "min_width": null,
            "object_fit": null,
            "object_position": null,
            "order": null,
            "overflow": null,
            "overflow_x": null,
            "overflow_y": null,
            "padding": null,
            "right": null,
            "top": null,
            "visibility": null,
            "width": null
          }
        },
        "4c6e46b6fb6f4edb9e78d4f3f956c2ae": {
          "model_module": "@jupyter-widgets/base",
          "model_name": "LayoutModel",
          "model_module_version": "1.2.0",
          "state": {
            "_model_module": "@jupyter-widgets/base",
            "_model_module_version": "1.2.0",
            "_model_name": "LayoutModel",
            "_view_count": null,
            "_view_module": "@jupyter-widgets/base",
            "_view_module_version": "1.2.0",
            "_view_name": "LayoutView",
            "align_content": null,
            "align_items": null,
            "align_self": null,
            "border": null,
            "bottom": null,
            "display": null,
            "flex": null,
            "flex_flow": null,
            "grid_area": null,
            "grid_auto_columns": null,
            "grid_auto_flow": null,
            "grid_auto_rows": null,
            "grid_column": null,
            "grid_gap": null,
            "grid_row": null,
            "grid_template_areas": null,
            "grid_template_columns": null,
            "grid_template_rows": null,
            "height": null,
            "justify_content": null,
            "justify_items": null,
            "left": null,
            "margin": null,
            "max_height": null,
            "max_width": null,
            "min_height": null,
            "min_width": null,
            "object_fit": null,
            "object_position": null,
            "order": null,
            "overflow": null,
            "overflow_x": null,
            "overflow_y": null,
            "padding": null,
            "right": null,
            "top": null,
            "visibility": null,
            "width": null
          }
        },
        "97e1e599c8ce4827929a23dee2a2f74a": {
          "model_module": "@jupyter-widgets/controls",
          "model_name": "DescriptionStyleModel",
          "model_module_version": "1.5.0",
          "state": {
            "_model_module": "@jupyter-widgets/controls",
            "_model_module_version": "1.5.0",
            "_model_name": "DescriptionStyleModel",
            "_view_count": null,
            "_view_module": "@jupyter-widgets/base",
            "_view_module_version": "1.2.0",
            "_view_name": "StyleView",
            "description_width": ""
          }
        },
        "381d7b1b75b04659b4e8c82c104c23b2": {
          "model_module": "@jupyter-widgets/base",
          "model_name": "LayoutModel",
          "model_module_version": "1.2.0",
          "state": {
            "_model_module": "@jupyter-widgets/base",
            "_model_module_version": "1.2.0",
            "_model_name": "LayoutModel",
            "_view_count": null,
            "_view_module": "@jupyter-widgets/base",
            "_view_module_version": "1.2.0",
            "_view_name": "LayoutView",
            "align_content": null,
            "align_items": null,
            "align_self": null,
            "border": null,
            "bottom": null,
            "display": null,
            "flex": null,
            "flex_flow": null,
            "grid_area": null,
            "grid_auto_columns": null,
            "grid_auto_flow": null,
            "grid_auto_rows": null,
            "grid_column": null,
            "grid_gap": null,
            "grid_row": null,
            "grid_template_areas": null,
            "grid_template_columns": null,
            "grid_template_rows": null,
            "height": null,
            "justify_content": null,
            "justify_items": null,
            "left": null,
            "margin": null,
            "max_height": null,
            "max_width": null,
            "min_height": null,
            "min_width": null,
            "object_fit": null,
            "object_position": null,
            "order": null,
            "overflow": null,
            "overflow_x": null,
            "overflow_y": null,
            "padding": null,
            "right": null,
            "top": null,
            "visibility": null,
            "width": "20px"
          }
        },
        "d98a61de73ac4c93bc4c7d129c868307": {
          "model_module": "@jupyter-widgets/controls",
          "model_name": "ProgressStyleModel",
          "model_module_version": "1.5.0",
          "state": {
            "_model_module": "@jupyter-widgets/controls",
            "_model_module_version": "1.5.0",
            "_model_name": "ProgressStyleModel",
            "_view_count": null,
            "_view_module": "@jupyter-widgets/base",
            "_view_module_version": "1.2.0",
            "_view_name": "StyleView",
            "bar_color": null,
            "description_width": ""
          }
        },
        "5635ce5bee69477ebe89fc280ded0d8e": {
          "model_module": "@jupyter-widgets/base",
          "model_name": "LayoutModel",
          "model_module_version": "1.2.0",
          "state": {
            "_model_module": "@jupyter-widgets/base",
            "_model_module_version": "1.2.0",
            "_model_name": "LayoutModel",
            "_view_count": null,
            "_view_module": "@jupyter-widgets/base",
            "_view_module_version": "1.2.0",
            "_view_name": "LayoutView",
            "align_content": null,
            "align_items": null,
            "align_self": null,
            "border": null,
            "bottom": null,
            "display": null,
            "flex": null,
            "flex_flow": null,
            "grid_area": null,
            "grid_auto_columns": null,
            "grid_auto_flow": null,
            "grid_auto_rows": null,
            "grid_column": null,
            "grid_gap": null,
            "grid_row": null,
            "grid_template_areas": null,
            "grid_template_columns": null,
            "grid_template_rows": null,
            "height": null,
            "justify_content": null,
            "justify_items": null,
            "left": null,
            "margin": null,
            "max_height": null,
            "max_width": null,
            "min_height": null,
            "min_width": null,
            "object_fit": null,
            "object_position": null,
            "order": null,
            "overflow": null,
            "overflow_x": null,
            "overflow_y": null,
            "padding": null,
            "right": null,
            "top": null,
            "visibility": null,
            "width": null
          }
        },
        "3ffdb1fbe47046a8ada541da8ee345c8": {
          "model_module": "@jupyter-widgets/controls",
          "model_name": "DescriptionStyleModel",
          "model_module_version": "1.5.0",
          "state": {
            "_model_module": "@jupyter-widgets/controls",
            "_model_module_version": "1.5.0",
            "_model_name": "DescriptionStyleModel",
            "_view_count": null,
            "_view_module": "@jupyter-widgets/base",
            "_view_module_version": "1.2.0",
            "_view_name": "StyleView",
            "description_width": ""
          }
        }
      }
    }
  },
  "nbformat": 4,
  "nbformat_minor": 0
}